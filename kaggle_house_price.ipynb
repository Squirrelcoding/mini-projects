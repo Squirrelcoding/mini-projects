{
  "cells": [
    {
      "cell_type": "markdown",
      "metadata": {
        "id": "view-in-github",
        "colab_type": "text"
      },
      "source": [
        "<a href=\"https://colab.research.google.com/github/Squirrelcoding/mini-projects/blob/main/kaggle_house_price.ipynb\" target=\"_parent\"><img src=\"https://colab.research.google.com/assets/colab-badge.svg\" alt=\"Open In Colab\"/></a>"
      ]
    },
    {
      "cell_type": "markdown",
      "id": "c6482746",
      "metadata": {
        "id": "c6482746"
      },
      "source": [
        "The following additional libraries are needed to run this\n",
        "notebook. Note that running on Colab is experimental, please report a Github\n",
        "issue if you have any problem."
      ]
    },
    {
      "cell_type": "code",
      "execution_count": null,
      "id": "ac0ed488",
      "metadata": {
        "colab": {
          "base_uri": "https://localhost:8080/"
        },
        "id": "ac0ed488",
        "outputId": "b041b886-02a9-4f49-b341-e48bb9576c97"
      },
      "outputs": [
        {
          "output_type": "stream",
          "name": "stdout",
          "text": [
            "Requirement already satisfied: d2l==1.0.3 in /usr/local/lib/python3.11/dist-packages (1.0.3)\n",
            "Requirement already satisfied: jupyter==1.0.0 in /usr/local/lib/python3.11/dist-packages (from d2l==1.0.3) (1.0.0)\n",
            "Requirement already satisfied: numpy==1.23.5 in /usr/local/lib/python3.11/dist-packages (from d2l==1.0.3) (1.23.5)\n",
            "Requirement already satisfied: matplotlib==3.7.2 in /usr/local/lib/python3.11/dist-packages (from d2l==1.0.3) (3.7.2)\n",
            "Requirement already satisfied: matplotlib-inline==0.1.6 in /usr/local/lib/python3.11/dist-packages (from d2l==1.0.3) (0.1.6)\n",
            "Requirement already satisfied: requests==2.31.0 in /usr/local/lib/python3.11/dist-packages (from d2l==1.0.3) (2.31.0)\n",
            "Requirement already satisfied: pandas==2.0.3 in /usr/local/lib/python3.11/dist-packages (from d2l==1.0.3) (2.0.3)\n",
            "Requirement already satisfied: scipy==1.10.1 in /usr/local/lib/python3.11/dist-packages (from d2l==1.0.3) (1.10.1)\n",
            "Requirement already satisfied: notebook in /usr/local/lib/python3.11/dist-packages (from jupyter==1.0.0->d2l==1.0.3) (6.5.7)\n",
            "Requirement already satisfied: qtconsole in /usr/local/lib/python3.11/dist-packages (from jupyter==1.0.0->d2l==1.0.3) (5.6.1)\n",
            "Requirement already satisfied: jupyter-console in /usr/local/lib/python3.11/dist-packages (from jupyter==1.0.0->d2l==1.0.3) (6.1.0)\n",
            "Requirement already satisfied: nbconvert in /usr/local/lib/python3.11/dist-packages (from jupyter==1.0.0->d2l==1.0.3) (7.16.6)\n",
            "Requirement already satisfied: ipykernel in /usr/local/lib/python3.11/dist-packages (from jupyter==1.0.0->d2l==1.0.3) (6.17.1)\n",
            "Requirement already satisfied: ipywidgets in /usr/local/lib/python3.11/dist-packages (from jupyter==1.0.0->d2l==1.0.3) (7.7.1)\n",
            "Requirement already satisfied: contourpy>=1.0.1 in /usr/local/lib/python3.11/dist-packages (from matplotlib==3.7.2->d2l==1.0.3) (1.3.2)\n",
            "Requirement already satisfied: cycler>=0.10 in /usr/local/lib/python3.11/dist-packages (from matplotlib==3.7.2->d2l==1.0.3) (0.12.1)\n",
            "Requirement already satisfied: fonttools>=4.22.0 in /usr/local/lib/python3.11/dist-packages (from matplotlib==3.7.2->d2l==1.0.3) (4.59.0)\n",
            "Requirement already satisfied: kiwisolver>=1.0.1 in /usr/local/lib/python3.11/dist-packages (from matplotlib==3.7.2->d2l==1.0.3) (1.4.8)\n",
            "Requirement already satisfied: packaging>=20.0 in /usr/local/lib/python3.11/dist-packages (from matplotlib==3.7.2->d2l==1.0.3) (25.0)\n",
            "Requirement already satisfied: pillow>=6.2.0 in /usr/local/lib/python3.11/dist-packages (from matplotlib==3.7.2->d2l==1.0.3) (11.3.0)\n",
            "Requirement already satisfied: pyparsing<3.1,>=2.3.1 in /usr/local/lib/python3.11/dist-packages (from matplotlib==3.7.2->d2l==1.0.3) (3.0.9)\n",
            "Requirement already satisfied: python-dateutil>=2.7 in /usr/local/lib/python3.11/dist-packages (from matplotlib==3.7.2->d2l==1.0.3) (2.9.0.post0)\n",
            "Requirement already satisfied: traitlets in /usr/local/lib/python3.11/dist-packages (from matplotlib-inline==0.1.6->d2l==1.0.3) (5.7.1)\n",
            "Requirement already satisfied: pytz>=2020.1 in /usr/local/lib/python3.11/dist-packages (from pandas==2.0.3->d2l==1.0.3) (2025.2)\n",
            "Requirement already satisfied: tzdata>=2022.1 in /usr/local/lib/python3.11/dist-packages (from pandas==2.0.3->d2l==1.0.3) (2025.2)\n",
            "Requirement already satisfied: charset-normalizer<4,>=2 in /usr/local/lib/python3.11/dist-packages (from requests==2.31.0->d2l==1.0.3) (3.4.2)\n",
            "Requirement already satisfied: idna<4,>=2.5 in /usr/local/lib/python3.11/dist-packages (from requests==2.31.0->d2l==1.0.3) (3.10)\n",
            "Requirement already satisfied: urllib3<3,>=1.21.1 in /usr/local/lib/python3.11/dist-packages (from requests==2.31.0->d2l==1.0.3) (2.5.0)\n",
            "Requirement already satisfied: certifi>=2017.4.17 in /usr/local/lib/python3.11/dist-packages (from requests==2.31.0->d2l==1.0.3) (2025.8.3)\n",
            "Requirement already satisfied: six>=1.5 in /usr/local/lib/python3.11/dist-packages (from python-dateutil>=2.7->matplotlib==3.7.2->d2l==1.0.3) (1.17.0)\n",
            "Requirement already satisfied: debugpy>=1.0 in /usr/local/lib/python3.11/dist-packages (from ipykernel->jupyter==1.0.0->d2l==1.0.3) (1.8.15)\n",
            "Requirement already satisfied: ipython>=7.23.1 in /usr/local/lib/python3.11/dist-packages (from ipykernel->jupyter==1.0.0->d2l==1.0.3) (7.34.0)\n",
            "Requirement already satisfied: jupyter-client>=6.1.12 in /usr/local/lib/python3.11/dist-packages (from ipykernel->jupyter==1.0.0->d2l==1.0.3) (6.1.12)\n",
            "Requirement already satisfied: nest-asyncio in /usr/local/lib/python3.11/dist-packages (from ipykernel->jupyter==1.0.0->d2l==1.0.3) (1.6.0)\n",
            "Requirement already satisfied: psutil in /usr/local/lib/python3.11/dist-packages (from ipykernel->jupyter==1.0.0->d2l==1.0.3) (5.9.5)\n",
            "Requirement already satisfied: pyzmq>=17 in /usr/local/lib/python3.11/dist-packages (from ipykernel->jupyter==1.0.0->d2l==1.0.3) (26.2.1)\n",
            "Requirement already satisfied: tornado>=6.1 in /usr/local/lib/python3.11/dist-packages (from ipykernel->jupyter==1.0.0->d2l==1.0.3) (6.4.2)\n",
            "Requirement already satisfied: ipython-genutils~=0.2.0 in /usr/local/lib/python3.11/dist-packages (from ipywidgets->jupyter==1.0.0->d2l==1.0.3) (0.2.0)\n",
            "Requirement already satisfied: widgetsnbextension~=3.6.0 in /usr/local/lib/python3.11/dist-packages (from ipywidgets->jupyter==1.0.0->d2l==1.0.3) (3.6.10)\n",
            "Requirement already satisfied: jupyterlab-widgets>=1.0.0 in /usr/local/lib/python3.11/dist-packages (from ipywidgets->jupyter==1.0.0->d2l==1.0.3) (3.0.15)\n",
            "Requirement already satisfied: prompt-toolkit!=3.0.0,!=3.0.1,<3.1.0,>=2.0.0 in /usr/local/lib/python3.11/dist-packages (from jupyter-console->jupyter==1.0.0->d2l==1.0.3) (3.0.51)\n",
            "Requirement already satisfied: pygments in /usr/local/lib/python3.11/dist-packages (from jupyter-console->jupyter==1.0.0->d2l==1.0.3) (2.19.2)\n",
            "Requirement already satisfied: beautifulsoup4 in /usr/local/lib/python3.11/dist-packages (from nbconvert->jupyter==1.0.0->d2l==1.0.3) (4.13.4)\n",
            "Requirement already satisfied: bleach!=5.0.0 in /usr/local/lib/python3.11/dist-packages (from bleach[css]!=5.0.0->nbconvert->jupyter==1.0.0->d2l==1.0.3) (6.2.0)\n",
            "Requirement already satisfied: defusedxml in /usr/local/lib/python3.11/dist-packages (from nbconvert->jupyter==1.0.0->d2l==1.0.3) (0.7.1)\n",
            "Requirement already satisfied: jinja2>=3.0 in /usr/local/lib/python3.11/dist-packages (from nbconvert->jupyter==1.0.0->d2l==1.0.3) (3.1.6)\n",
            "Requirement already satisfied: jupyter-core>=4.7 in /usr/local/lib/python3.11/dist-packages (from nbconvert->jupyter==1.0.0->d2l==1.0.3) (5.8.1)\n",
            "Requirement already satisfied: jupyterlab-pygments in /usr/local/lib/python3.11/dist-packages (from nbconvert->jupyter==1.0.0->d2l==1.0.3) (0.3.0)\n",
            "Requirement already satisfied: markupsafe>=2.0 in /usr/local/lib/python3.11/dist-packages (from nbconvert->jupyter==1.0.0->d2l==1.0.3) (3.0.2)\n",
            "Requirement already satisfied: mistune<4,>=2.0.3 in /usr/local/lib/python3.11/dist-packages (from nbconvert->jupyter==1.0.0->d2l==1.0.3) (3.1.3)\n",
            "Requirement already satisfied: nbclient>=0.5.0 in /usr/local/lib/python3.11/dist-packages (from nbconvert->jupyter==1.0.0->d2l==1.0.3) (0.10.2)\n",
            "Requirement already satisfied: nbformat>=5.7 in /usr/local/lib/python3.11/dist-packages (from nbconvert->jupyter==1.0.0->d2l==1.0.3) (5.10.4)\n",
            "Requirement already satisfied: pandocfilters>=1.4.1 in /usr/local/lib/python3.11/dist-packages (from nbconvert->jupyter==1.0.0->d2l==1.0.3) (1.5.1)\n",
            "Requirement already satisfied: argon2-cffi in /usr/local/lib/python3.11/dist-packages (from notebook->jupyter==1.0.0->d2l==1.0.3) (25.1.0)\n",
            "Requirement already satisfied: Send2Trash>=1.8.0 in /usr/local/lib/python3.11/dist-packages (from notebook->jupyter==1.0.0->d2l==1.0.3) (1.8.3)\n",
            "Requirement already satisfied: terminado>=0.8.3 in /usr/local/lib/python3.11/dist-packages (from notebook->jupyter==1.0.0->d2l==1.0.3) (0.18.1)\n",
            "Requirement already satisfied: prometheus-client in /usr/local/lib/python3.11/dist-packages (from notebook->jupyter==1.0.0->d2l==1.0.3) (0.22.1)\n",
            "Requirement already satisfied: nbclassic>=0.4.7 in /usr/local/lib/python3.11/dist-packages (from notebook->jupyter==1.0.0->d2l==1.0.3) (1.3.1)\n",
            "Requirement already satisfied: qtpy>=2.4.0 in /usr/local/lib/python3.11/dist-packages (from qtconsole->jupyter==1.0.0->d2l==1.0.3) (2.4.3)\n",
            "Requirement already satisfied: webencodings in /usr/local/lib/python3.11/dist-packages (from bleach!=5.0.0->bleach[css]!=5.0.0->nbconvert->jupyter==1.0.0->d2l==1.0.3) (0.5.1)\n",
            "Requirement already satisfied: tinycss2<1.5,>=1.1.0 in /usr/local/lib/python3.11/dist-packages (from bleach[css]!=5.0.0->nbconvert->jupyter==1.0.0->d2l==1.0.3) (1.4.0)\n",
            "Requirement already satisfied: setuptools>=18.5 in /usr/local/lib/python3.11/dist-packages (from ipython>=7.23.1->ipykernel->jupyter==1.0.0->d2l==1.0.3) (75.2.0)\n",
            "Requirement already satisfied: jedi>=0.16 in /usr/local/lib/python3.11/dist-packages (from ipython>=7.23.1->ipykernel->jupyter==1.0.0->d2l==1.0.3) (0.19.2)\n",
            "Requirement already satisfied: decorator in /usr/local/lib/python3.11/dist-packages (from ipython>=7.23.1->ipykernel->jupyter==1.0.0->d2l==1.0.3) (4.4.2)\n",
            "Requirement already satisfied: pickleshare in /usr/local/lib/python3.11/dist-packages (from ipython>=7.23.1->ipykernel->jupyter==1.0.0->d2l==1.0.3) (0.7.5)\n",
            "Requirement already satisfied: backcall in /usr/local/lib/python3.11/dist-packages (from ipython>=7.23.1->ipykernel->jupyter==1.0.0->d2l==1.0.3) (0.2.0)\n",
            "Requirement already satisfied: pexpect>4.3 in /usr/local/lib/python3.11/dist-packages (from ipython>=7.23.1->ipykernel->jupyter==1.0.0->d2l==1.0.3) (4.9.0)\n",
            "Requirement already satisfied: platformdirs>=2.5 in /usr/local/lib/python3.11/dist-packages (from jupyter-core>=4.7->nbconvert->jupyter==1.0.0->d2l==1.0.3) (4.3.8)\n",
            "Requirement already satisfied: notebook-shim>=0.2.3 in /usr/local/lib/python3.11/dist-packages (from nbclassic>=0.4.7->notebook->jupyter==1.0.0->d2l==1.0.3) (0.2.4)\n",
            "Requirement already satisfied: fastjsonschema>=2.15 in /usr/local/lib/python3.11/dist-packages (from nbformat>=5.7->nbconvert->jupyter==1.0.0->d2l==1.0.3) (2.21.1)\n",
            "Requirement already satisfied: jsonschema>=2.6 in /usr/local/lib/python3.11/dist-packages (from nbformat>=5.7->nbconvert->jupyter==1.0.0->d2l==1.0.3) (4.25.0)\n",
            "Requirement already satisfied: wcwidth in /usr/local/lib/python3.11/dist-packages (from prompt-toolkit!=3.0.0,!=3.0.1,<3.1.0,>=2.0.0->jupyter-console->jupyter==1.0.0->d2l==1.0.3) (0.2.13)\n",
            "Requirement already satisfied: ptyprocess in /usr/local/lib/python3.11/dist-packages (from terminado>=0.8.3->notebook->jupyter==1.0.0->d2l==1.0.3) (0.7.0)\n",
            "Requirement already satisfied: argon2-cffi-bindings in /usr/local/lib/python3.11/dist-packages (from argon2-cffi->notebook->jupyter==1.0.0->d2l==1.0.3) (25.1.0)\n",
            "Requirement already satisfied: soupsieve>1.2 in /usr/local/lib/python3.11/dist-packages (from beautifulsoup4->nbconvert->jupyter==1.0.0->d2l==1.0.3) (2.7)\n",
            "Requirement already satisfied: typing-extensions>=4.0.0 in /usr/local/lib/python3.11/dist-packages (from beautifulsoup4->nbconvert->jupyter==1.0.0->d2l==1.0.3) (4.14.1)\n",
            "Requirement already satisfied: parso<0.9.0,>=0.8.4 in /usr/local/lib/python3.11/dist-packages (from jedi>=0.16->ipython>=7.23.1->ipykernel->jupyter==1.0.0->d2l==1.0.3) (0.8.4)\n",
            "Requirement already satisfied: attrs>=22.2.0 in /usr/local/lib/python3.11/dist-packages (from jsonschema>=2.6->nbformat>=5.7->nbconvert->jupyter==1.0.0->d2l==1.0.3) (25.3.0)\n",
            "Requirement already satisfied: jsonschema-specifications>=2023.03.6 in /usr/local/lib/python3.11/dist-packages (from jsonschema>=2.6->nbformat>=5.7->nbconvert->jupyter==1.0.0->d2l==1.0.3) (2025.4.1)\n",
            "Requirement already satisfied: referencing>=0.28.4 in /usr/local/lib/python3.11/dist-packages (from jsonschema>=2.6->nbformat>=5.7->nbconvert->jupyter==1.0.0->d2l==1.0.3) (0.36.2)\n",
            "Requirement already satisfied: rpds-py>=0.7.1 in /usr/local/lib/python3.11/dist-packages (from jsonschema>=2.6->nbformat>=5.7->nbconvert->jupyter==1.0.0->d2l==1.0.3) (0.26.0)\n",
            "Requirement already satisfied: jupyter-server<3,>=1.8 in /usr/local/lib/python3.11/dist-packages (from notebook-shim>=0.2.3->nbclassic>=0.4.7->notebook->jupyter==1.0.0->d2l==1.0.3) (1.16.0)\n",
            "Requirement already satisfied: cffi>=1.0.1 in /usr/local/lib/python3.11/dist-packages (from argon2-cffi-bindings->argon2-cffi->notebook->jupyter==1.0.0->d2l==1.0.3) (1.17.1)\n",
            "Requirement already satisfied: pycparser in /usr/local/lib/python3.11/dist-packages (from cffi>=1.0.1->argon2-cffi-bindings->argon2-cffi->notebook->jupyter==1.0.0->d2l==1.0.3) (2.22)\n",
            "Requirement already satisfied: anyio>=3.1.0 in /usr/local/lib/python3.11/dist-packages (from jupyter-server<3,>=1.8->notebook-shim>=0.2.3->nbclassic>=0.4.7->notebook->jupyter==1.0.0->d2l==1.0.3) (4.10.0)\n",
            "Requirement already satisfied: websocket-client in /usr/local/lib/python3.11/dist-packages (from jupyter-server<3,>=1.8->notebook-shim>=0.2.3->nbclassic>=0.4.7->notebook->jupyter==1.0.0->d2l==1.0.3) (1.8.0)\n",
            "Requirement already satisfied: sniffio>=1.1 in /usr/local/lib/python3.11/dist-packages (from anyio>=3.1.0->jupyter-server<3,>=1.8->notebook-shim>=0.2.3->nbclassic>=0.4.7->notebook->jupyter==1.0.0->d2l==1.0.3) (1.3.1)\n"
          ]
        }
      ],
      "source": [
        "!pip install d2l==1.0.3\n"
      ]
    },
    {
      "cell_type": "markdown",
      "id": "0d9388b7",
      "metadata": {
        "origin_pos": 1,
        "id": "0d9388b7"
      },
      "source": [
        "# Predicting House Prices on Kaggle\n",
        ":label:`sec_kaggle_house`\n",
        "\n",
        "Now that we have introduced some basic tools\n",
        "for building and training deep networks\n",
        "and regularizing them with techniques including\n",
        "weight decay and dropout,\n",
        "we are ready to put all this knowledge into practice\n",
        "by participating in a Kaggle competition.\n",
        "The house price prediction competition\n",
        "is a great place to start.\n",
        "The data is fairly generic and do not exhibit exotic structure\n",
        "that might require specialized models (as audio or video might).\n",
        "This dataset, collected by :citet:`De-Cock.2011`,\n",
        "covers house prices in Ames, Iowa from the period 2006--2010.\n",
        "It is considerably larger than the famous [Boston housing dataset](https://archive.ics.uci.edu/ml/machine-learning-databases/housing/housing.names) of Harrison and Rubinfeld (1978),\n",
        "boasting both more examples and more features.\n",
        "\n",
        "\n",
        "In this section, we will walk you through details of\n",
        "data preprocessing, model design, and hyperparameter selection.\n",
        "We hope that through a hands-on approach,\n",
        "you will gain some intuitions that will guide you\n",
        "in your career as a data scientist.\n"
      ]
    },
    {
      "cell_type": "code",
      "execution_count": null,
      "id": "1c33eb92",
      "metadata": {
        "execution": {
          "iopub.execute_input": "2023-08-18T19:32:21.587414Z",
          "iopub.status.busy": "2023-08-18T19:32:21.586752Z",
          "iopub.status.idle": "2023-08-18T19:32:24.821984Z",
          "shell.execute_reply": "2023-08-18T19:32:24.820834Z"
        },
        "origin_pos": 3,
        "tab": [
          "pytorch"
        ],
        "id": "1c33eb92"
      },
      "outputs": [],
      "source": [
        "%matplotlib inline\n",
        "import pandas as pd\n",
        "import torch\n",
        "from torch import nn\n",
        "from d2l import torch as d2l"
      ]
    },
    {
      "cell_type": "markdown",
      "id": "22637186",
      "metadata": {
        "origin_pos": 6,
        "id": "22637186"
      },
      "source": [
        "## Downloading Data\n",
        "\n",
        "Throughout the book, we will train and test models\n",
        "on various downloaded datasets.\n",
        "Here, we (**implement two utility functions**)\n",
        "for downloading and extracting zip or tar files.\n",
        "Again, we skip implementation details of\n",
        "such utility functions.\n"
      ]
    },
    {
      "cell_type": "code",
      "execution_count": null,
      "id": "c5b9dd70",
      "metadata": {
        "attributes": {
          "classes": [],
          "id": "",
          "n": "2"
        },
        "execution": {
          "iopub.execute_input": "2023-08-18T19:32:24.826201Z",
          "iopub.status.busy": "2023-08-18T19:32:24.825720Z",
          "iopub.status.idle": "2023-08-18T19:32:24.831209Z",
          "shell.execute_reply": "2023-08-18T19:32:24.830384Z"
        },
        "origin_pos": 7,
        "tab": [
          "pytorch"
        ],
        "id": "c5b9dd70"
      },
      "outputs": [],
      "source": [
        "def download(url, folder, sha1_hash=None):\n",
        "    \"\"\"Download a file to folder and return the local filepath.\"\"\"\n",
        "\n",
        "def extract(filename, folder):\n",
        "    \"\"\"Extract a zip/tar file into folder.\"\"\""
      ]
    },
    {
      "cell_type": "markdown",
      "id": "ff0b2664",
      "metadata": {
        "origin_pos": 8,
        "id": "ff0b2664"
      },
      "source": [
        "## Kaggle\n",
        "\n",
        "[Kaggle](https://www.kaggle.com) is a popular platform\n",
        "that hosts machine learning competitions.\n",
        "Each competition centers on a dataset and many\n",
        "are sponsored by stakeholders who offer prizes\n",
        "to the winning solutions.\n",
        "The platform helps users to interact\n",
        "via forums and shared code,\n",
        "fostering both collaboration and competition.\n",
        "While leaderboard chasing often spirals out of control,\n",
        "with researchers focusing myopically on preprocessing steps\n",
        "rather than asking fundamental questions,\n",
        "there is also tremendous value in the objectivity of a platform\n",
        "that facilitates direct quantitative comparisons\n",
        "among competing approaches as well as code sharing\n",
        "so that everyone can learn what did and did not work.\n",
        "If you want to participate in a Kaggle competition,\n",
        "you will first need to register for an account\n",
        "(see :numref:`fig_kaggle`).\n",
        "\n",
        "![The Kaggle website.](https://github.com/d2l-ai/d2l-pytorch-colab/blob/master/img/kaggle.png?raw=1)\n",
        ":width:`400px`\n",
        ":label:`fig_kaggle`\n",
        "\n",
        "On the house price prediction competition page, as illustrated\n",
        "in :numref:`fig_house_pricing`,\n",
        "you can find the dataset (under the \"Data\" tab),\n",
        "submit predictions, and see your ranking,\n",
        "The URL is right here:\n",
        "\n",
        "> https://www.kaggle.com/c/house-prices-advanced-regression-techniques\n",
        "\n",
        "![The house price prediction competition page.](https://github.com/d2l-ai/d2l-pytorch-colab/blob/master/img/house-pricing.png?raw=1)\n",
        ":width:`400px`\n",
        ":label:`fig_house_pricing`\n",
        "\n",
        "## Accessing and Reading the Dataset\n",
        "\n",
        "Note that the competition data is separated\n",
        "into training and test sets.\n",
        "Each record includes the property value of the house\n",
        "and attributes such as street type, year of construction,\n",
        "roof type, basement condition, etc.\n",
        "The features consist of various data types.\n",
        "For example, the year of construction\n",
        "is represented by an integer,\n",
        "the roof type by discrete categorical assignments,\n",
        "and other features by floating point numbers.\n",
        "And here is where reality complicates things:\n",
        "for some examples, some data is altogether missing\n",
        "with the missing value marked simply as \"na\".\n",
        "The price of each house is included\n",
        "for the training set only\n",
        "(it is a competition after all).\n",
        "We will want to partition the training set\n",
        "to create a validation set,\n",
        "but we only get to evaluate our models on the official test set\n",
        "after uploading predictions to Kaggle.\n",
        "The \"Data\" tab on the competition tab\n",
        "in :numref:`fig_house_pricing`\n",
        "has links for downloading the data.\n",
        "\n",
        "To get started, we will [**read in and process the data\n",
        "using `pandas`**], which we introduced in :numref:`sec_pandas`.\n",
        "For convenience, we can download and cache\n",
        "the Kaggle housing dataset.\n",
        "If a file corresponding to this dataset already exists in the cache directory and its SHA-1 matches `sha1_hash`, our code will use the cached file to avoid clogging up your Internet with redundant downloads.\n"
      ]
    },
    {
      "cell_type": "code",
      "execution_count": null,
      "id": "48c41477",
      "metadata": {
        "attributes": {
          "classes": [],
          "id": "",
          "n": "30"
        },
        "execution": {
          "iopub.execute_input": "2023-08-18T19:32:24.835437Z",
          "iopub.status.busy": "2023-08-18T19:32:24.834529Z",
          "iopub.status.idle": "2023-08-18T19:32:24.840555Z",
          "shell.execute_reply": "2023-08-18T19:32:24.839683Z"
        },
        "origin_pos": 9,
        "tab": [
          "pytorch"
        ],
        "id": "48c41477"
      },
      "outputs": [],
      "source": [
        "class KaggleHouse(d2l.DataModule):\n",
        "    def __init__(self, batch_size, train=None, val=None):\n",
        "        super().__init__()\n",
        "        self.save_hyperparameters()\n",
        "        if self.train is None:\n",
        "            self.raw_train = pd.read_csv(d2l.download(\n",
        "                d2l.DATA_URL + 'kaggle_house_pred_train.csv', self.root,\n",
        "                sha1_hash='585e9cc93e70b39160e7921475f9bcd7d31219ce'))\n",
        "            self.raw_val = pd.read_csv(d2l.download(\n",
        "                d2l.DATA_URL + 'kaggle_house_pred_test.csv', self.root,\n",
        "                sha1_hash='fa19780a7b011d9b009e8bff8e99922a8ee2eb90'))"
      ]
    },
    {
      "cell_type": "markdown",
      "id": "45dfab1b",
      "metadata": {
        "origin_pos": 10,
        "id": "45dfab1b"
      },
      "source": [
        "The training dataset includes 1460 examples,\n",
        "80 features, and one label, while the validation data\n",
        "contains 1459 examples and 80 features.\n"
      ]
    },
    {
      "cell_type": "code",
      "execution_count": null,
      "id": "7e9e8f7c",
      "metadata": {
        "attributes": {
          "classes": [],
          "id": "",
          "n": "31"
        },
        "execution": {
          "iopub.execute_input": "2023-08-18T19:32:24.844705Z",
          "iopub.status.busy": "2023-08-18T19:32:24.843955Z",
          "iopub.status.idle": "2023-08-18T19:32:25.218067Z",
          "shell.execute_reply": "2023-08-18T19:32:25.217232Z"
        },
        "origin_pos": 11,
        "tab": [
          "pytorch"
        ],
        "colab": {
          "base_uri": "https://localhost:8080/"
        },
        "id": "7e9e8f7c",
        "outputId": "caf8c326-943d-43c5-ed1a-e05869c391eb"
      },
      "outputs": [
        {
          "output_type": "stream",
          "name": "stdout",
          "text": [
            "Downloading ../data/kaggle_house_pred_train.csv from http://d2l-data.s3-accelerate.amazonaws.com/kaggle_house_pred_train.csv...\n",
            "Downloading ../data/kaggle_house_pred_test.csv from http://d2l-data.s3-accelerate.amazonaws.com/kaggle_house_pred_test.csv...\n",
            "(1460, 81)\n",
            "(1459, 80)\n"
          ]
        }
      ],
      "source": [
        "data = KaggleHouse(batch_size=64)\n",
        "print(data.raw_train.shape)\n",
        "print(data.raw_val.shape)"
      ]
    },
    {
      "cell_type": "markdown",
      "id": "017e793e",
      "metadata": {
        "origin_pos": 12,
        "id": "017e793e"
      },
      "source": [
        "## Data Preprocessing\n",
        "\n",
        "Let's [**take a look at the first four and final two features\n",
        "as well as the label (SalePrice)**] from the first four examples.\n"
      ]
    },
    {
      "cell_type": "code",
      "execution_count": null,
      "id": "92621a85",
      "metadata": {
        "attributes": {
          "classes": [],
          "id": "",
          "n": "10"
        },
        "execution": {
          "iopub.execute_input": "2023-08-18T19:32:25.221755Z",
          "iopub.status.busy": "2023-08-18T19:32:25.221161Z",
          "iopub.status.idle": "2023-08-18T19:32:25.230323Z",
          "shell.execute_reply": "2023-08-18T19:32:25.229502Z"
        },
        "origin_pos": 13,
        "tab": [
          "pytorch"
        ],
        "colab": {
          "base_uri": "https://localhost:8080/"
        },
        "id": "92621a85",
        "outputId": "356b13e7-3dcb-449e-8375-bee3f0973eb5"
      },
      "outputs": [
        {
          "output_type": "stream",
          "name": "stdout",
          "text": [
            "   Id  MSSubClass MSZoning  LotFrontage SaleType SaleCondition  SalePrice\n",
            "0   1          60       RL         65.0       WD        Normal     208500\n",
            "1   2          20       RL         80.0       WD        Normal     181500\n",
            "2   3          60       RL         68.0       WD        Normal     223500\n",
            "3   4          70       RL         60.0       WD       Abnorml     140000\n"
          ]
        }
      ],
      "source": [
        "print(data.raw_train.iloc[:4, [0, 1, 2, 3, -3, -2, -1]])"
      ]
    },
    {
      "cell_type": "markdown",
      "id": "caf77495",
      "metadata": {
        "origin_pos": 14,
        "id": "caf77495"
      },
      "source": [
        "We can see that in each example, the first feature is the identifier.\n",
        "This helps the model determine each training example.\n",
        "While this is convenient, it does not carry\n",
        "any information for prediction purposes.\n",
        "Hence, we will remove it from the dataset\n",
        "before feeding the data into the model.\n",
        "Furthermore, given a wide variety of data types,\n",
        "we will need to preprocess the data before we can start modeling.\n",
        "\n",
        "\n",
        "Let's start with the numerical features.\n",
        "First, we apply a heuristic,\n",
        "[**replacing all missing values\n",
        "by the corresponding feature's mean.**]\n",
        "Then, to put all features on a common scale,\n",
        "we (***standardize* the data by\n",
        "rescaling features to zero mean and unit variance**):\n",
        "\n",
        "$$x \\leftarrow \\frac{x - \\mu}{\\sigma},$$\n",
        "\n",
        "where $\\mu$ and $\\sigma$ denote mean and standard deviation, respectively.\n",
        "To verify that this indeed transforms\n",
        "our feature (variable) such that it has zero mean and unit variance,\n",
        "note that $E[\\frac{x-\\mu}{\\sigma}] = \\frac{\\mu - \\mu}{\\sigma} = 0$\n",
        "and that $E[(x-\\mu)^2] = (\\sigma^2 + \\mu^2) - 2\\mu^2+\\mu^2 = \\sigma^2$.\n",
        "Intuitively, we standardize the data\n",
        "for two reasons.\n",
        "First, it proves convenient for optimization.\n",
        "Second, because we do not know *a priori*\n",
        "which features will be relevant,\n",
        "we do not want to penalize coefficients\n",
        "assigned to one feature more than any other.\n",
        "\n",
        "[**Next we deal with discrete values.**]\n",
        "These include features such as \"MSZoning\".\n",
        "(**We replace them by a one-hot encoding**)\n",
        "in the same way that we earlier transformed\n",
        "multiclass labels into vectors (see :numref:`subsec_classification-problem`).\n",
        "For instance, \"MSZoning\" assumes the values \"RL\" and \"RM\".\n",
        "Dropping the \"MSZoning\" feature,\n",
        "two new indicator features\n",
        "\"MSZoning_RL\" and \"MSZoning_RM\" are created with values being either 0 or 1.\n",
        "According to one-hot encoding,\n",
        "if the original value of \"MSZoning\" is \"RL\",\n",
        "then \"MSZoning_RL\" is 1 and \"MSZoning_RM\" is 0.\n",
        "The `pandas` package does this automatically for us.\n"
      ]
    },
    {
      "cell_type": "code",
      "execution_count": null,
      "id": "11b2ad6e",
      "metadata": {
        "attributes": {
          "classes": [],
          "id": "",
          "n": "32"
        },
        "execution": {
          "iopub.execute_input": "2023-08-18T19:32:25.233625Z",
          "iopub.status.busy": "2023-08-18T19:32:25.233151Z",
          "iopub.status.idle": "2023-08-18T19:32:25.239490Z",
          "shell.execute_reply": "2023-08-18T19:32:25.238692Z"
        },
        "origin_pos": 15,
        "tab": [
          "pytorch"
        ],
        "id": "11b2ad6e"
      },
      "outputs": [],
      "source": [
        "@d2l.add_to_class(KaggleHouse)\n",
        "def preprocess(self):\n",
        "    # Remove the ID and label columns\n",
        "    label = 'SalePrice'\n",
        "    features = pd.concat(\n",
        "        (self.raw_train.drop(columns=['Id', label]),\n",
        "         self.raw_val.drop(columns=['Id'])))\n",
        "    # Standardize numerical columns\n",
        "    numeric_features = features.dtypes[features.dtypes!='object'].index\n",
        "    features[numeric_features] = features[numeric_features].apply(\n",
        "        lambda x: (x - x.mean()) / (x.std()))\n",
        "    # Replace NAN numerical features by 0\n",
        "    features[numeric_features] = features[numeric_features].fillna(0)\n",
        "    # Replace discrete features by one-hot encoding\n",
        "    features = pd.get_dummies(features, dummy_na=True)\n",
        "    # Save preprocessed features\n",
        "    self.train = features[:self.raw_train.shape[0]].copy()\n",
        "    self.train[label] = self.raw_train[label]\n",
        "    self.val = features[self.raw_train.shape[0]:].copy()"
      ]
    },
    {
      "cell_type": "markdown",
      "id": "3d38d0ed",
      "metadata": {
        "origin_pos": 16,
        "id": "3d38d0ed"
      },
      "source": [
        "You can see that this conversion increases\n",
        "the number of features from 79 to 331 (excluding ID and label columns).\n"
      ]
    },
    {
      "cell_type": "code",
      "execution_count": null,
      "id": "a9e39c34",
      "metadata": {
        "attributes": {
          "classes": [],
          "id": "",
          "n": "33"
        },
        "execution": {
          "iopub.execute_input": "2023-08-18T19:32:25.242819Z",
          "iopub.status.busy": "2023-08-18T19:32:25.242192Z",
          "iopub.status.idle": "2023-08-18T19:32:25.356247Z",
          "shell.execute_reply": "2023-08-18T19:32:25.355251Z"
        },
        "origin_pos": 17,
        "tab": [
          "pytorch"
        ],
        "colab": {
          "base_uri": "https://localhost:8080/"
        },
        "id": "a9e39c34",
        "outputId": "97bacf9d-1fd5-4307-ad44-8115bf046295"
      },
      "outputs": [
        {
          "output_type": "execute_result",
          "data": {
            "text/plain": [
              "(1460, 331)"
            ]
          },
          "metadata": {},
          "execution_count": 11
        }
      ],
      "source": [
        "data.preprocess()\n",
        "data.train.shape"
      ]
    },
    {
      "cell_type": "markdown",
      "id": "4a4f19be",
      "metadata": {
        "origin_pos": 18,
        "id": "4a4f19be"
      },
      "source": [
        "## Error Measure\n",
        "\n",
        "To get started we will train a linear model with squared loss. Not surprisingly, our linear model will not lead to a competition-winning submission but it does provide a sanity check to see whether there is meaningful information in the data. If we cannot do better than random guessing here, then there might be a good chance that we have a data processing bug. And if things work, the linear model will serve as a baseline giving us some intuition about how close the simple model gets to the best reported models, giving us a sense of how much gain we should expect from fancier models.\n",
        "\n",
        "With house prices, as with stock prices,\n",
        "we care about relative quantities\n",
        "more than absolute quantities.\n",
        "Thus [**we tend to care more about\n",
        "the relative error $\\frac{y - \\hat{y}}{y}$**]\n",
        "than about the absolute error $y - \\hat{y}$.\n",
        "For instance, if our prediction is off by \\$100,000\n",
        "when estimating the price of a house in rural Ohio,\n",
        "where the value of a typical house is \\$125,000,\n",
        "then we are probably doing a horrible job.\n",
        "On the other hand, if we err by this amount\n",
        "in Los Altos Hills, California,\n",
        "this might represent a stunningly accurate prediction\n",
        "(there, the median house price exceeds \\$4 million).\n",
        "\n",
        "(**One way to address this problem is to\n",
        "measure the discrepancy in the logarithm of the price estimates.**)\n",
        "In fact, this is also the official error measure\n",
        "used by the competition to evaluate the quality of submissions.\n",
        "After all, a small value $\\delta$ for $|\\log y - \\log \\hat{y}| \\leq \\delta$\n",
        "translates into $e^{-\\delta} \\leq \\frac{\\hat{y}}{y} \\leq e^\\delta$.\n",
        "This leads to the following root-mean-squared-error between the logarithm of the predicted price and the logarithm of the label price:\n",
        "\n",
        "$$\\sqrt{\\frac{1}{n}\\sum_{i=1}^n\\left(\\log y_i -\\log \\hat{y}_i\\right)^2}.$$\n"
      ]
    },
    {
      "cell_type": "code",
      "execution_count": null,
      "id": "22cee03d",
      "metadata": {
        "attributes": {
          "classes": [],
          "id": "",
          "n": "60"
        },
        "execution": {
          "iopub.execute_input": "2023-08-18T19:32:25.360088Z",
          "iopub.status.busy": "2023-08-18T19:32:25.359480Z",
          "iopub.status.idle": "2023-08-18T19:32:25.365132Z",
          "shell.execute_reply": "2023-08-18T19:32:25.364342Z"
        },
        "origin_pos": 19,
        "tab": [
          "pytorch"
        ],
        "id": "22cee03d"
      },
      "outputs": [],
      "source": [
        "@d2l.add_to_class(KaggleHouse)\n",
        "def get_dataloader(self, train):\n",
        "    label = 'SalePrice'\n",
        "    data = self.train if train else self.val\n",
        "    if label not in data: return\n",
        "    get_tensor = lambda x: torch.tensor(x.values.astype(float),\n",
        "                                      dtype=torch.float32)\n",
        "    # Logarithm of prices\n",
        "    tensors = (get_tensor(data.drop(columns=[label])),  # X\n",
        "               torch.log(get_tensor(data[label])).reshape((-1, 1)))  # Y\n",
        "    return self.get_tensorloader(tensors, train)"
      ]
    },
    {
      "cell_type": "markdown",
      "id": "737b03af",
      "metadata": {
        "origin_pos": 20,
        "id": "737b03af"
      },
      "source": [
        "## $K$-Fold Cross-Validation\n",
        "\n",
        "You might recall that we introduced [**cross-validation**]\n",
        "in :numref:`subsec_generalization-model-selection`, where we discussed how to deal\n",
        "with model selection.\n",
        "We will put this to good use to select the model design\n",
        "and to adjust the hyperparameters.\n",
        "We first need a function that returns\n",
        "the $i^\\textrm{th}$ fold of the data\n",
        "in a $K$-fold cross-validation procedure.\n",
        "It proceeds by slicing out the $i^\\textrm{th}$ segment\n",
        "as validation data and returning the rest as training data.\n",
        "Note that this is not the most efficient way of handling data\n",
        "and we would definitely do something much smarter\n",
        "if our dataset was considerably larger.\n",
        "But this added complexity might obfuscate our code unnecessarily\n",
        "so we can safely omit it here owing to the simplicity of our problem.\n"
      ]
    },
    {
      "cell_type": "code",
      "execution_count": null,
      "id": "e6949856",
      "metadata": {
        "execution": {
          "iopub.execute_input": "2023-08-18T19:32:25.368517Z",
          "iopub.status.busy": "2023-08-18T19:32:25.367949Z",
          "iopub.status.idle": "2023-08-18T19:32:25.372985Z",
          "shell.execute_reply": "2023-08-18T19:32:25.372067Z"
        },
        "origin_pos": 21,
        "tab": [
          "pytorch"
        ],
        "id": "e6949856"
      },
      "outputs": [],
      "source": [
        "def k_fold_data(data, k):\n",
        "    rets = []\n",
        "    fold_size = data.train.shape[0] // k\n",
        "    for j in range(k):\n",
        "        idx = range(j * fold_size, (j+1) * fold_size)\n",
        "        rets.append(KaggleHouse(data.batch_size, data.train.drop(index=idx),\n",
        "                                data.train.loc[idx]))\n",
        "    return rets"
      ]
    },
    {
      "cell_type": "markdown",
      "id": "f7071050",
      "metadata": {
        "origin_pos": 22,
        "id": "f7071050"
      },
      "source": [
        "[**The average validation error is returned**]\n",
        "when we train $K$ times in the $K$-fold cross-validation.\n"
      ]
    },
    {
      "cell_type": "code",
      "execution_count": null,
      "id": "c626ec24",
      "metadata": {
        "execution": {
          "iopub.execute_input": "2023-08-18T19:32:25.376435Z",
          "iopub.status.busy": "2023-08-18T19:32:25.375867Z",
          "iopub.status.idle": "2023-08-18T19:32:25.381314Z",
          "shell.execute_reply": "2023-08-18T19:32:25.380464Z"
        },
        "origin_pos": 23,
        "tab": [
          "pytorch"
        ],
        "id": "c626ec24"
      },
      "outputs": [],
      "source": [
        "def k_fold(trainer, data, k, lr):\n",
        "    val_loss, models = [], []\n",
        "    for i, data_fold in enumerate(k_fold_data(data, k)):\n",
        "        model = d2l.LinearRegression(lr)\n",
        "        model.board.yscale='log'\n",
        "        if i != 0: model.board.display = False\n",
        "        trainer.fit(model, data_fold)\n",
        "        val_loss.append(float(model.board.data['val_loss'][-1].y))\n",
        "        models.append(model)\n",
        "    average_val_log_mse = sum(val_loss)/len(val_loss)\n",
        "    print(f'average validation log mse = {average_val_log_mse}')\n",
        "    return models, average_val_log_mse"
      ]
    },
    {
      "cell_type": "markdown",
      "id": "bcb1790f",
      "metadata": {
        "origin_pos": 24,
        "id": "bcb1790f"
      },
      "source": [
        "## [**Model Selection**]\n",
        "\n",
        "In this example, we pick an untuned set of hyperparameters\n",
        "and leave it up to the reader to improve the model.\n",
        "Finding a good choice can take time,\n",
        "depending on how many variables one optimizes over.\n",
        "With a large enough dataset,\n",
        "and the normal sorts of hyperparameters,\n",
        "$K$-fold cross-validation tends to be\n",
        "reasonably resilient against multiple testing.\n",
        "However, if we try an unreasonably large number of options\n",
        "we might find that our validation\n",
        "performance is no longer representative of the true error.\n"
      ]
    },
    {
      "cell_type": "code",
      "execution_count": null,
      "id": "c86184c4",
      "metadata": {
        "execution": {
          "iopub.execute_input": "2023-08-18T19:32:25.384646Z",
          "iopub.status.busy": "2023-08-18T19:32:25.384079Z",
          "iopub.status.idle": "2023-08-18T19:32:37.095341Z",
          "shell.execute_reply": "2023-08-18T19:32:37.094054Z"
        },
        "origin_pos": 25,
        "tab": [
          "pytorch"
        ],
        "colab": {
          "base_uri": "https://localhost:8080/",
          "height": 283
        },
        "id": "c86184c4",
        "outputId": "2180eeed-befc-4c58-e18f-cc3c62b65775"
      },
      "outputs": [
        {
          "output_type": "stream",
          "name": "stdout",
          "text": [
            "average validation log mse = 0.18035445213317872\n"
          ]
        },
        {
          "output_type": "display_data",
          "data": {
            "text/plain": [
              "<Figure size 350x250 with 1 Axes>"
            ],
            "image/svg+xml": "<?xml version=\"1.0\" encoding=\"utf-8\" standalone=\"no\"?>\n<!DOCTYPE svg PUBLIC \"-//W3C//DTD SVG 1.1//EN\"\n  \"http://www.w3.org/Graphics/SVG/1.1/DTD/svg11.dtd\">\n<svg xmlns:xlink=\"http://www.w3.org/1999/xlink\" width=\"240.6625pt\" height=\"183.35625pt\" viewBox=\"0 0 240.6625 183.35625\" xmlns=\"http://www.w3.org/2000/svg\" version=\"1.1\">\n <metadata>\n  <rdf:RDF xmlns:dc=\"http://purl.org/dc/elements/1.1/\" xmlns:cc=\"http://creativecommons.org/ns#\" xmlns:rdf=\"http://www.w3.org/1999/02/22-rdf-syntax-ns#\">\n   <cc:Work>\n    <dc:type rdf:resource=\"http://purl.org/dc/dcmitype/StillImage\"/>\n    <dc:date>2025-08-10T03:47:01.155258</dc:date>\n    <dc:format>image/svg+xml</dc:format>\n    <dc:creator>\n     <cc:Agent>\n      <dc:title>Matplotlib v3.7.2, https://matplotlib.org/</dc:title>\n     </cc:Agent>\n    </dc:creator>\n   </cc:Work>\n  </rdf:RDF>\n </metadata>\n <defs>\n  <style type=\"text/css\">*{stroke-linejoin: round; stroke-linecap: butt}</style>\n </defs>\n <g id=\"figure_1\">\n  <g id=\"patch_1\">\n   <path d=\"M 0 183.35625 \nL 240.6625 183.35625 \nL 240.6625 0 \nL 0 0 \nz\n\" style=\"fill: #ffffff\"/>\n  </g>\n  <g id=\"axes_1\">\n   <g id=\"patch_2\">\n    <path d=\"M 31.8 145.8 \nL 227.1 145.8 \nL 227.1 7.2 \nL 31.8 7.2 \nz\n\" style=\"fill: #ffffff\"/>\n   </g>\n   <g id=\"matplotlib.axis_1\">\n    <g id=\"xtick_1\">\n     <g id=\"line2d_1\">\n      <defs>\n       <path id=\"m10d366f88d\" d=\"M 0 0 \nL 0 3.5 \n\" style=\"stroke: #000000; stroke-width: 0.8\"/>\n      </defs>\n      <g>\n       <use xlink:href=\"#m10d366f88d\" x=\"31.8\" y=\"145.8\" style=\"stroke: #000000; stroke-width: 0.8\"/>\n      </g>\n     </g>\n     <g id=\"text_1\">\n      <!-- 0 -->\n      <g transform=\"translate(28.61875 160.398438) scale(0.1 -0.1)\">\n       <defs>\n        <path id=\"DejaVuSans-30\" d=\"M 2034 4250 \nQ 1547 4250 1301 3770 \nQ 1056 3291 1056 2328 \nQ 1056 1369 1301 889 \nQ 1547 409 2034 409 \nQ 2525 409 2770 889 \nQ 3016 1369 3016 2328 \nQ 3016 3291 2770 3770 \nQ 2525 4250 2034 4250 \nz\nM 2034 4750 \nQ 2819 4750 3233 4129 \nQ 3647 3509 3647 2328 \nQ 3647 1150 3233 529 \nQ 2819 -91 2034 -91 \nQ 1250 -91 836 529 \nQ 422 1150 422 2328 \nQ 422 3509 836 4129 \nQ 1250 4750 2034 4750 \nz\n\" transform=\"scale(0.015625)\"/>\n       </defs>\n       <use xlink:href=\"#DejaVuSans-30\"/>\n      </g>\n     </g>\n    </g>\n    <g id=\"xtick_2\">\n     <g id=\"line2d_2\">\n      <g>\n       <use xlink:href=\"#m10d366f88d\" x=\"70.86\" y=\"145.8\" style=\"stroke: #000000; stroke-width: 0.8\"/>\n      </g>\n     </g>\n     <g id=\"text_2\">\n      <!-- 2 -->\n      <g transform=\"translate(67.67875 160.398438) scale(0.1 -0.1)\">\n       <defs>\n        <path id=\"DejaVuSans-32\" d=\"M 1228 531 \nL 3431 531 \nL 3431 0 \nL 469 0 \nL 469 531 \nQ 828 903 1448 1529 \nQ 2069 2156 2228 2338 \nQ 2531 2678 2651 2914 \nQ 2772 3150 2772 3378 \nQ 2772 3750 2511 3984 \nQ 2250 4219 1831 4219 \nQ 1534 4219 1204 4116 \nQ 875 4013 500 3803 \nL 500 4441 \nQ 881 4594 1212 4672 \nQ 1544 4750 1819 4750 \nQ 2544 4750 2975 4387 \nQ 3406 4025 3406 3419 \nQ 3406 3131 3298 2873 \nQ 3191 2616 2906 2266 \nQ 2828 2175 2409 1742 \nQ 1991 1309 1228 531 \nz\n\" transform=\"scale(0.015625)\"/>\n       </defs>\n       <use xlink:href=\"#DejaVuSans-32\"/>\n      </g>\n     </g>\n    </g>\n    <g id=\"xtick_3\">\n     <g id=\"line2d_3\">\n      <g>\n       <use xlink:href=\"#m10d366f88d\" x=\"109.92\" y=\"145.8\" style=\"stroke: #000000; stroke-width: 0.8\"/>\n      </g>\n     </g>\n     <g id=\"text_3\">\n      <!-- 4 -->\n      <g transform=\"translate(106.73875 160.398438) scale(0.1 -0.1)\">\n       <defs>\n        <path id=\"DejaVuSans-34\" d=\"M 2419 4116 \nL 825 1625 \nL 2419 1625 \nL 2419 4116 \nz\nM 2253 4666 \nL 3047 4666 \nL 3047 1625 \nL 3713 1625 \nL 3713 1100 \nL 3047 1100 \nL 3047 0 \nL 2419 0 \nL 2419 1100 \nL 313 1100 \nL 313 1709 \nL 2253 4666 \nz\n\" transform=\"scale(0.015625)\"/>\n       </defs>\n       <use xlink:href=\"#DejaVuSans-34\"/>\n      </g>\n     </g>\n    </g>\n    <g id=\"xtick_4\">\n     <g id=\"line2d_4\">\n      <g>\n       <use xlink:href=\"#m10d366f88d\" x=\"148.98\" y=\"145.8\" style=\"stroke: #000000; stroke-width: 0.8\"/>\n      </g>\n     </g>\n     <g id=\"text_4\">\n      <!-- 6 -->\n      <g transform=\"translate(145.79875 160.398438) scale(0.1 -0.1)\">\n       <defs>\n        <path id=\"DejaVuSans-36\" d=\"M 2113 2584 \nQ 1688 2584 1439 2293 \nQ 1191 2003 1191 1497 \nQ 1191 994 1439 701 \nQ 1688 409 2113 409 \nQ 2538 409 2786 701 \nQ 3034 994 3034 1497 \nQ 3034 2003 2786 2293 \nQ 2538 2584 2113 2584 \nz\nM 3366 4563 \nL 3366 3988 \nQ 3128 4100 2886 4159 \nQ 2644 4219 2406 4219 \nQ 1781 4219 1451 3797 \nQ 1122 3375 1075 2522 \nQ 1259 2794 1537 2939 \nQ 1816 3084 2150 3084 \nQ 2853 3084 3261 2657 \nQ 3669 2231 3669 1497 \nQ 3669 778 3244 343 \nQ 2819 -91 2113 -91 \nQ 1303 -91 875 529 \nQ 447 1150 447 2328 \nQ 447 3434 972 4092 \nQ 1497 4750 2381 4750 \nQ 2619 4750 2861 4703 \nQ 3103 4656 3366 4563 \nz\n\" transform=\"scale(0.015625)\"/>\n       </defs>\n       <use xlink:href=\"#DejaVuSans-36\"/>\n      </g>\n     </g>\n    </g>\n    <g id=\"xtick_5\">\n     <g id=\"line2d_5\">\n      <g>\n       <use xlink:href=\"#m10d366f88d\" x=\"188.04\" y=\"145.8\" style=\"stroke: #000000; stroke-width: 0.8\"/>\n      </g>\n     </g>\n     <g id=\"text_5\">\n      <!-- 8 -->\n      <g transform=\"translate(184.85875 160.398438) scale(0.1 -0.1)\">\n       <defs>\n        <path id=\"DejaVuSans-38\" d=\"M 2034 2216 \nQ 1584 2216 1326 1975 \nQ 1069 1734 1069 1313 \nQ 1069 891 1326 650 \nQ 1584 409 2034 409 \nQ 2484 409 2743 651 \nQ 3003 894 3003 1313 \nQ 3003 1734 2745 1975 \nQ 2488 2216 2034 2216 \nz\nM 1403 2484 \nQ 997 2584 770 2862 \nQ 544 3141 544 3541 \nQ 544 4100 942 4425 \nQ 1341 4750 2034 4750 \nQ 2731 4750 3128 4425 \nQ 3525 4100 3525 3541 \nQ 3525 3141 3298 2862 \nQ 3072 2584 2669 2484 \nQ 3125 2378 3379 2068 \nQ 3634 1759 3634 1313 \nQ 3634 634 3220 271 \nQ 2806 -91 2034 -91 \nQ 1263 -91 848 271 \nQ 434 634 434 1313 \nQ 434 1759 690 2068 \nQ 947 2378 1403 2484 \nz\nM 1172 3481 \nQ 1172 3119 1398 2916 \nQ 1625 2713 2034 2713 \nQ 2441 2713 2670 2916 \nQ 2900 3119 2900 3481 \nQ 2900 3844 2670 4047 \nQ 2441 4250 2034 4250 \nQ 1625 4250 1398 4047 \nQ 1172 3844 1172 3481 \nz\n\" transform=\"scale(0.015625)\"/>\n       </defs>\n       <use xlink:href=\"#DejaVuSans-38\"/>\n      </g>\n     </g>\n    </g>\n    <g id=\"xtick_6\">\n     <g id=\"line2d_6\">\n      <g>\n       <use xlink:href=\"#m10d366f88d\" x=\"227.1\" y=\"145.8\" style=\"stroke: #000000; stroke-width: 0.8\"/>\n      </g>\n     </g>\n     <g id=\"text_6\">\n      <!-- 10 -->\n      <g transform=\"translate(220.7375 160.398438) scale(0.1 -0.1)\">\n       <defs>\n        <path id=\"DejaVuSans-31\" d=\"M 794 531 \nL 1825 531 \nL 1825 4091 \nL 703 3866 \nL 703 4441 \nL 1819 4666 \nL 2450 4666 \nL 2450 531 \nL 3481 531 \nL 3481 0 \nL 794 0 \nL 794 531 \nz\n\" transform=\"scale(0.015625)\"/>\n       </defs>\n       <use xlink:href=\"#DejaVuSans-31\"/>\n       <use xlink:href=\"#DejaVuSans-30\" x=\"63.623047\"/>\n      </g>\n     </g>\n    </g>\n    <g id=\"text_7\">\n     <!-- epoch -->\n     <g transform=\"translate(114.221875 174.076563) scale(0.1 -0.1)\">\n      <defs>\n       <path id=\"DejaVuSans-65\" d=\"M 3597 1894 \nL 3597 1613 \nL 953 1613 \nQ 991 1019 1311 708 \nQ 1631 397 2203 397 \nQ 2534 397 2845 478 \nQ 3156 559 3463 722 \nL 3463 178 \nQ 3153 47 2828 -22 \nQ 2503 -91 2169 -91 \nQ 1331 -91 842 396 \nQ 353 884 353 1716 \nQ 353 2575 817 3079 \nQ 1281 3584 2069 3584 \nQ 2775 3584 3186 3129 \nQ 3597 2675 3597 1894 \nz\nM 3022 2063 \nQ 3016 2534 2758 2815 \nQ 2500 3097 2075 3097 \nQ 1594 3097 1305 2825 \nQ 1016 2553 972 2059 \nL 3022 2063 \nz\n\" transform=\"scale(0.015625)\"/>\n       <path id=\"DejaVuSans-70\" d=\"M 1159 525 \nL 1159 -1331 \nL 581 -1331 \nL 581 3500 \nL 1159 3500 \nL 1159 2969 \nQ 1341 3281 1617 3432 \nQ 1894 3584 2278 3584 \nQ 2916 3584 3314 3078 \nQ 3713 2572 3713 1747 \nQ 3713 922 3314 415 \nQ 2916 -91 2278 -91 \nQ 1894 -91 1617 61 \nQ 1341 213 1159 525 \nz\nM 3116 1747 \nQ 3116 2381 2855 2742 \nQ 2594 3103 2138 3103 \nQ 1681 3103 1420 2742 \nQ 1159 2381 1159 1747 \nQ 1159 1113 1420 752 \nQ 1681 391 2138 391 \nQ 2594 391 2855 752 \nQ 3116 1113 3116 1747 \nz\n\" transform=\"scale(0.015625)\"/>\n       <path id=\"DejaVuSans-6f\" d=\"M 1959 3097 \nQ 1497 3097 1228 2736 \nQ 959 2375 959 1747 \nQ 959 1119 1226 758 \nQ 1494 397 1959 397 \nQ 2419 397 2687 759 \nQ 2956 1122 2956 1747 \nQ 2956 2369 2687 2733 \nQ 2419 3097 1959 3097 \nz\nM 1959 3584 \nQ 2709 3584 3137 3096 \nQ 3566 2609 3566 1747 \nQ 3566 888 3137 398 \nQ 2709 -91 1959 -91 \nQ 1206 -91 779 398 \nQ 353 888 353 1747 \nQ 353 2609 779 3096 \nQ 1206 3584 1959 3584 \nz\n\" transform=\"scale(0.015625)\"/>\n       <path id=\"DejaVuSans-63\" d=\"M 3122 3366 \nL 3122 2828 \nQ 2878 2963 2633 3030 \nQ 2388 3097 2138 3097 \nQ 1578 3097 1268 2742 \nQ 959 2388 959 1747 \nQ 959 1106 1268 751 \nQ 1578 397 2138 397 \nQ 2388 397 2633 464 \nQ 2878 531 3122 666 \nL 3122 134 \nQ 2881 22 2623 -34 \nQ 2366 -91 2075 -91 \nQ 1284 -91 818 406 \nQ 353 903 353 1747 \nQ 353 2603 823 3093 \nQ 1294 3584 2113 3584 \nQ 2378 3584 2631 3529 \nQ 2884 3475 3122 3366 \nz\n\" transform=\"scale(0.015625)\"/>\n       <path id=\"DejaVuSans-68\" d=\"M 3513 2113 \nL 3513 0 \nL 2938 0 \nL 2938 2094 \nQ 2938 2591 2744 2837 \nQ 2550 3084 2163 3084 \nQ 1697 3084 1428 2787 \nQ 1159 2491 1159 1978 \nL 1159 0 \nL 581 0 \nL 581 4863 \nL 1159 4863 \nL 1159 2956 \nQ 1366 3272 1645 3428 \nQ 1925 3584 2291 3584 \nQ 2894 3584 3203 3211 \nQ 3513 2838 3513 2113 \nz\n\" transform=\"scale(0.015625)\"/>\n      </defs>\n      <use xlink:href=\"#DejaVuSans-65\"/>\n      <use xlink:href=\"#DejaVuSans-70\" x=\"61.523438\"/>\n      <use xlink:href=\"#DejaVuSans-6f\" x=\"125\"/>\n      <use xlink:href=\"#DejaVuSans-63\" x=\"186.181641\"/>\n      <use xlink:href=\"#DejaVuSans-68\" x=\"241.162109\"/>\n     </g>\n    </g>\n   </g>\n   <g id=\"matplotlib.axis_2\">\n    <g id=\"ytick_1\">\n     <g id=\"line2d_7\">\n      <defs>\n       <path id=\"m4fc13a5360\" d=\"M 0 0 \nL -3.5 0 \n\" style=\"stroke: #000000; stroke-width: 0.8\"/>\n      </defs>\n      <g>\n       <use xlink:href=\"#m4fc13a5360\" x=\"31.8\" y=\"90.682042\" style=\"stroke: #000000; stroke-width: 0.8\"/>\n      </g>\n     </g>\n     <g id=\"text_8\">\n      <!-- $\\mathdefault{10^{0}}$ -->\n      <g transform=\"translate(7.2 94.481261) scale(0.1 -0.1)\">\n       <use xlink:href=\"#DejaVuSans-31\" transform=\"translate(0 0.765625)\"/>\n       <use xlink:href=\"#DejaVuSans-30\" transform=\"translate(63.623047 0.765625)\"/>\n       <use xlink:href=\"#DejaVuSans-30\" transform=\"translate(128.203125 39.046875) scale(0.7)\"/>\n      </g>\n     </g>\n    </g>\n    <g id=\"ytick_2\">\n     <g id=\"line2d_8\">\n      <g>\n       <use xlink:href=\"#m4fc13a5360\" x=\"31.8\" y=\"31.428682\" style=\"stroke: #000000; stroke-width: 0.8\"/>\n      </g>\n     </g>\n     <g id=\"text_9\">\n      <!-- $\\mathdefault{10^{1}}$ -->\n      <g transform=\"translate(7.2 35.2279) scale(0.1 -0.1)\">\n       <use xlink:href=\"#DejaVuSans-31\" transform=\"translate(0 0.684375)\"/>\n       <use xlink:href=\"#DejaVuSans-30\" transform=\"translate(63.623047 0.684375)\"/>\n       <use xlink:href=\"#DejaVuSans-31\" transform=\"translate(128.203125 38.965625) scale(0.7)\"/>\n      </g>\n     </g>\n    </g>\n    <g id=\"ytick_3\">\n     <g id=\"line2d_9\">\n      <defs>\n       <path id=\"mad07655828\" d=\"M 0 0 \nL -2 0 \n\" style=\"stroke: #000000; stroke-width: 0.6\"/>\n      </defs>\n      <g>\n       <use xlink:href=\"#mad07655828\" x=\"31.8\" y=\"132.098364\" style=\"stroke: #000000; stroke-width: 0.6\"/>\n      </g>\n     </g>\n    </g>\n    <g id=\"ytick_4\">\n     <g id=\"line2d_10\">\n      <g>\n       <use xlink:href=\"#mad07655828\" x=\"31.8\" y=\"121.664365\" style=\"stroke: #000000; stroke-width: 0.6\"/>\n      </g>\n     </g>\n    </g>\n    <g id=\"ytick_5\">\n     <g id=\"line2d_11\">\n      <g>\n       <use xlink:href=\"#mad07655828\" x=\"31.8\" y=\"114.261325\" style=\"stroke: #000000; stroke-width: 0.6\"/>\n      </g>\n     </g>\n    </g>\n    <g id=\"ytick_6\">\n     <g id=\"line2d_12\">\n      <g>\n       <use xlink:href=\"#mad07655828\" x=\"31.8\" y=\"108.519081\" style=\"stroke: #000000; stroke-width: 0.6\"/>\n      </g>\n     </g>\n    </g>\n    <g id=\"ytick_7\">\n     <g id=\"line2d_13\">\n      <g>\n       <use xlink:href=\"#mad07655828\" x=\"31.8\" y=\"103.827326\" style=\"stroke: #000000; stroke-width: 0.6\"/>\n      </g>\n     </g>\n    </g>\n    <g id=\"ytick_8\">\n     <g id=\"line2d_14\">\n      <g>\n       <use xlink:href=\"#mad07655828\" x=\"31.8\" y=\"99.860504\" style=\"stroke: #000000; stroke-width: 0.6\"/>\n      </g>\n     </g>\n    </g>\n    <g id=\"ytick_9\">\n     <g id=\"line2d_15\">\n      <g>\n       <use xlink:href=\"#mad07655828\" x=\"31.8\" y=\"96.424286\" style=\"stroke: #000000; stroke-width: 0.6\"/>\n      </g>\n     </g>\n    </g>\n    <g id=\"ytick_10\">\n     <g id=\"line2d_16\">\n      <g>\n       <use xlink:href=\"#mad07655828\" x=\"31.8\" y=\"93.393328\" style=\"stroke: #000000; stroke-width: 0.6\"/>\n      </g>\n     </g>\n    </g>\n    <g id=\"ytick_11\">\n     <g id=\"line2d_17\">\n      <g>\n       <use xlink:href=\"#mad07655828\" x=\"31.8\" y=\"72.845004\" style=\"stroke: #000000; stroke-width: 0.6\"/>\n      </g>\n     </g>\n    </g>\n    <g id=\"ytick_12\">\n     <g id=\"line2d_18\">\n      <g>\n       <use xlink:href=\"#mad07655828\" x=\"31.8\" y=\"62.411005\" style=\"stroke: #000000; stroke-width: 0.6\"/>\n      </g>\n     </g>\n    </g>\n    <g id=\"ytick_13\">\n     <g id=\"line2d_19\">\n      <g>\n       <use xlink:href=\"#mad07655828\" x=\"31.8\" y=\"55.007965\" style=\"stroke: #000000; stroke-width: 0.6\"/>\n      </g>\n     </g>\n    </g>\n    <g id=\"ytick_14\">\n     <g id=\"line2d_20\">\n      <g>\n       <use xlink:href=\"#mad07655828\" x=\"31.8\" y=\"49.265721\" style=\"stroke: #000000; stroke-width: 0.6\"/>\n      </g>\n     </g>\n    </g>\n    <g id=\"ytick_15\">\n     <g id=\"line2d_21\">\n      <g>\n       <use xlink:href=\"#mad07655828\" x=\"31.8\" y=\"44.573966\" style=\"stroke: #000000; stroke-width: 0.6\"/>\n      </g>\n     </g>\n    </g>\n    <g id=\"ytick_16\">\n     <g id=\"line2d_22\">\n      <g>\n       <use xlink:href=\"#mad07655828\" x=\"31.8\" y=\"40.607143\" style=\"stroke: #000000; stroke-width: 0.6\"/>\n      </g>\n     </g>\n    </g>\n    <g id=\"ytick_17\">\n     <g id=\"line2d_23\">\n      <g>\n       <use xlink:href=\"#mad07655828\" x=\"31.8\" y=\"37.170926\" style=\"stroke: #000000; stroke-width: 0.6\"/>\n      </g>\n     </g>\n    </g>\n    <g id=\"ytick_18\">\n     <g id=\"line2d_24\">\n      <g>\n       <use xlink:href=\"#mad07655828\" x=\"31.8\" y=\"34.139967\" style=\"stroke: #000000; stroke-width: 0.6\"/>\n      </g>\n     </g>\n    </g>\n    <g id=\"ytick_19\">\n     <g id=\"line2d_25\">\n      <g>\n       <use xlink:href=\"#mad07655828\" x=\"31.8\" y=\"13.591643\" style=\"stroke: #000000; stroke-width: 0.6\"/>\n      </g>\n     </g>\n    </g>\n   </g>\n   <g id=\"line2d_26\">\n    <path d=\"M 35.911579 13.5 \n\" clip-path=\"url(#p748764c9de)\" style=\"fill: none; stroke: #1f77b4; stroke-width: 1.5; stroke-linecap: square\"/>\n   </g>\n   <g id=\"line2d_27\">\n    <path d=\"M 35.911579 13.5 \nL 45.162632 104.793 \n\" clip-path=\"url(#p748764c9de)\" style=\"fill: none; stroke: #1f77b4; stroke-width: 1.5; stroke-linecap: square\"/>\n   </g>\n   <g id=\"line2d_28\">\n    <path d=\"M 35.911579 13.5 \nL 45.162632 104.793 \n\" clip-path=\"url(#p748764c9de)\" style=\"fill: none; stroke: #1f77b4; stroke-width: 1.5; stroke-linecap: square\"/>\n   </g>\n   <g id=\"line2d_29\">\n    <path d=\"M 51.33 110.602338 \n\" clip-path=\"url(#p748764c9de)\" style=\"fill: none; stroke-dasharray: 5.55,2.4; stroke-dashoffset: 0; stroke: #ff7f0e; stroke-width: 1.5\"/>\n   </g>\n   <g id=\"line2d_30\">\n    <path d=\"M 35.911579 13.5 \nL 45.162632 104.793 \nL 54.413684 107.145197 \n\" clip-path=\"url(#p748764c9de)\" style=\"fill: none; stroke: #1f77b4; stroke-width: 1.5; stroke-linecap: square\"/>\n   </g>\n   <g id=\"line2d_31\">\n    <path d=\"M 51.33 110.602338 \n\" clip-path=\"url(#p748764c9de)\" style=\"fill: none; stroke-dasharray: 5.55,2.4; stroke-dashoffset: 0; stroke: #ff7f0e; stroke-width: 1.5\"/>\n   </g>\n   <g id=\"line2d_32\">\n    <path d=\"M 35.911579 13.5 \nL 45.162632 104.793 \nL 54.413684 107.145197 \nL 63.664737 111.886745 \n\" clip-path=\"url(#p748764c9de)\" style=\"fill: none; stroke: #1f77b4; stroke-width: 1.5; stroke-linecap: square\"/>\n   </g>\n   <g id=\"line2d_33\">\n    <path d=\"M 51.33 110.602338 \n\" clip-path=\"url(#p748764c9de)\" style=\"fill: none; stroke-dasharray: 5.55,2.4; stroke-dashoffset: 0; stroke: #ff7f0e; stroke-width: 1.5\"/>\n   </g>\n   <g id=\"line2d_34\">\n    <path d=\"M 35.911579 13.5 \nL 45.162632 104.793 \nL 54.413684 107.145197 \nL 63.664737 111.886745 \n\" clip-path=\"url(#p748764c9de)\" style=\"fill: none; stroke: #1f77b4; stroke-width: 1.5; stroke-linecap: square\"/>\n   </g>\n   <g id=\"line2d_35\">\n    <path d=\"M 51.33 110.602338 \nL 70.86 117.253991 \n\" clip-path=\"url(#p748764c9de)\" style=\"fill: none; stroke-dasharray: 5.55,2.4; stroke-dashoffset: 0; stroke: #ff7f0e; stroke-width: 1.5\"/>\n   </g>\n   <g id=\"line2d_36\">\n    <path d=\"M 35.911579 13.5 \nL 45.162632 104.793 \nL 54.413684 107.145197 \nL 63.664737 111.886745 \nL 72.915789 113.678567 \n\" clip-path=\"url(#p748764c9de)\" style=\"fill: none; stroke: #1f77b4; stroke-width: 1.5; stroke-linecap: square\"/>\n   </g>\n   <g id=\"line2d_37\">\n    <path d=\"M 51.33 110.602338 \nL 70.86 117.253991 \n\" clip-path=\"url(#p748764c9de)\" style=\"fill: none; stroke-dasharray: 5.55,2.4; stroke-dashoffset: 0; stroke: #ff7f0e; stroke-width: 1.5\"/>\n   </g>\n   <g id=\"line2d_38\">\n    <path d=\"M 35.911579 13.5 \nL 45.162632 104.793 \nL 54.413684 107.145197 \nL 63.664737 111.886745 \nL 72.915789 113.678567 \nL 82.166842 124.003356 \n\" clip-path=\"url(#p748764c9de)\" style=\"fill: none; stroke: #1f77b4; stroke-width: 1.5; stroke-linecap: square\"/>\n   </g>\n   <g id=\"line2d_39\">\n    <path d=\"M 51.33 110.602338 \nL 70.86 117.253991 \n\" clip-path=\"url(#p748764c9de)\" style=\"fill: none; stroke-dasharray: 5.55,2.4; stroke-dashoffset: 0; stroke: #ff7f0e; stroke-width: 1.5\"/>\n   </g>\n   <g id=\"line2d_40\">\n    <path d=\"M 35.911579 13.5 \nL 45.162632 104.793 \nL 54.413684 107.145197 \nL 63.664737 111.886745 \nL 72.915789 113.678567 \nL 82.166842 124.003356 \n\" clip-path=\"url(#p748764c9de)\" style=\"fill: none; stroke: #1f77b4; stroke-width: 1.5; stroke-linecap: square\"/>\n   </g>\n   <g id=\"line2d_41\">\n    <path d=\"M 51.33 110.602338 \nL 70.86 117.253991 \nL 90.39 122.912622 \n\" clip-path=\"url(#p748764c9de)\" style=\"fill: none; stroke-dasharray: 5.55,2.4; stroke-dashoffset: 0; stroke: #ff7f0e; stroke-width: 1.5\"/>\n   </g>\n   <g id=\"line2d_42\">\n    <path d=\"M 35.911579 13.5 \nL 45.162632 104.793 \nL 54.413684 107.145197 \nL 63.664737 111.886745 \nL 72.915789 113.678567 \nL 82.166842 124.003356 \nL 91.417895 119.67452 \n\" clip-path=\"url(#p748764c9de)\" style=\"fill: none; stroke: #1f77b4; stroke-width: 1.5; stroke-linecap: square\"/>\n   </g>\n   <g id=\"line2d_43\">\n    <path d=\"M 51.33 110.602338 \nL 70.86 117.253991 \nL 90.39 122.912622 \n\" clip-path=\"url(#p748764c9de)\" style=\"fill: none; stroke-dasharray: 5.55,2.4; stroke-dashoffset: 0; stroke: #ff7f0e; stroke-width: 1.5\"/>\n   </g>\n   <g id=\"line2d_44\">\n    <path d=\"M 35.911579 13.5 \nL 45.162632 104.793 \nL 54.413684 107.145197 \nL 63.664737 111.886745 \nL 72.915789 113.678567 \nL 82.166842 124.003356 \nL 91.417895 119.67452 \nL 100.668947 122.379138 \n\" clip-path=\"url(#p748764c9de)\" style=\"fill: none; stroke: #1f77b4; stroke-width: 1.5; stroke-linecap: square\"/>\n   </g>\n   <g id=\"line2d_45\">\n    <path d=\"M 51.33 110.602338 \nL 70.86 117.253991 \nL 90.39 122.912622 \n\" clip-path=\"url(#p748764c9de)\" style=\"fill: none; stroke-dasharray: 5.55,2.4; stroke-dashoffset: 0; stroke: #ff7f0e; stroke-width: 1.5\"/>\n   </g>\n   <g id=\"line2d_46\">\n    <path d=\"M 35.911579 13.5 \nL 45.162632 104.793 \nL 54.413684 107.145197 \nL 63.664737 111.886745 \nL 72.915789 113.678567 \nL 82.166842 124.003356 \nL 91.417895 119.67452 \nL 100.668947 122.379138 \n\" clip-path=\"url(#p748764c9de)\" style=\"fill: none; stroke: #1f77b4; stroke-width: 1.5; stroke-linecap: square\"/>\n   </g>\n   <g id=\"line2d_47\">\n    <path d=\"M 51.33 110.602338 \nL 70.86 117.253991 \nL 90.39 122.912622 \nL 109.92 126.257985 \n\" clip-path=\"url(#p748764c9de)\" style=\"fill: none; stroke-dasharray: 5.55,2.4; stroke-dashoffset: 0; stroke: #ff7f0e; stroke-width: 1.5\"/>\n   </g>\n   <g id=\"line2d_48\">\n    <path d=\"M 35.911579 13.5 \nL 45.162632 104.793 \nL 54.413684 107.145197 \nL 63.664737 111.886745 \nL 72.915789 113.678567 \nL 82.166842 124.003356 \nL 91.417895 119.67452 \nL 100.668947 122.379138 \nL 109.92 119.217139 \n\" clip-path=\"url(#p748764c9de)\" style=\"fill: none; stroke: #1f77b4; stroke-width: 1.5; stroke-linecap: square\"/>\n   </g>\n   <g id=\"line2d_49\">\n    <path d=\"M 51.33 110.602338 \nL 70.86 117.253991 \nL 90.39 122.912622 \nL 109.92 126.257985 \n\" clip-path=\"url(#p748764c9de)\" style=\"fill: none; stroke-dasharray: 5.55,2.4; stroke-dashoffset: 0; stroke: #ff7f0e; stroke-width: 1.5\"/>\n   </g>\n   <g id=\"line2d_50\">\n    <path d=\"M 35.911579 13.5 \nL 45.162632 104.793 \nL 54.413684 107.145197 \nL 63.664737 111.886745 \nL 72.915789 113.678567 \nL 82.166842 124.003356 \nL 91.417895 119.67452 \nL 100.668947 122.379138 \nL 109.92 119.217139 \nL 119.171053 128.439073 \n\" clip-path=\"url(#p748764c9de)\" style=\"fill: none; stroke: #1f77b4; stroke-width: 1.5; stroke-linecap: square\"/>\n   </g>\n   <g id=\"line2d_51\">\n    <path d=\"M 51.33 110.602338 \nL 70.86 117.253991 \nL 90.39 122.912622 \nL 109.92 126.257985 \n\" clip-path=\"url(#p748764c9de)\" style=\"fill: none; stroke-dasharray: 5.55,2.4; stroke-dashoffset: 0; stroke: #ff7f0e; stroke-width: 1.5\"/>\n   </g>\n   <g id=\"line2d_52\">\n    <path d=\"M 35.911579 13.5 \nL 45.162632 104.793 \nL 54.413684 107.145197 \nL 63.664737 111.886745 \nL 72.915789 113.678567 \nL 82.166842 124.003356 \nL 91.417895 119.67452 \nL 100.668947 122.379138 \nL 109.92 119.217139 \nL 119.171053 128.439073 \n\" clip-path=\"url(#p748764c9de)\" style=\"fill: none; stroke: #1f77b4; stroke-width: 1.5; stroke-linecap: square\"/>\n   </g>\n   <g id=\"line2d_53\">\n    <path d=\"M 51.33 110.602338 \nL 70.86 117.253991 \nL 90.39 122.912622 \nL 109.92 126.257985 \nL 129.45 128.639258 \n\" clip-path=\"url(#p748764c9de)\" style=\"fill: none; stroke-dasharray: 5.55,2.4; stroke-dashoffset: 0; stroke: #ff7f0e; stroke-width: 1.5\"/>\n   </g>\n   <g id=\"line2d_54\">\n    <path d=\"M 35.911579 13.5 \nL 45.162632 104.793 \nL 54.413684 107.145197 \nL 63.664737 111.886745 \nL 72.915789 113.678567 \nL 82.166842 124.003356 \nL 91.417895 119.67452 \nL 100.668947 122.379138 \nL 109.92 119.217139 \nL 119.171053 128.439073 \nL 128.422105 130.566767 \n\" clip-path=\"url(#p748764c9de)\" style=\"fill: none; stroke: #1f77b4; stroke-width: 1.5; stroke-linecap: square\"/>\n   </g>\n   <g id=\"line2d_55\">\n    <path d=\"M 51.33 110.602338 \nL 70.86 117.253991 \nL 90.39 122.912622 \nL 109.92 126.257985 \nL 129.45 128.639258 \n\" clip-path=\"url(#p748764c9de)\" style=\"fill: none; stroke-dasharray: 5.55,2.4; stroke-dashoffset: 0; stroke: #ff7f0e; stroke-width: 1.5\"/>\n   </g>\n   <g id=\"line2d_56\">\n    <path d=\"M 35.911579 13.5 \nL 45.162632 104.793 \nL 54.413684 107.145197 \nL 63.664737 111.886745 \nL 72.915789 113.678567 \nL 82.166842 124.003356 \nL 91.417895 119.67452 \nL 100.668947 122.379138 \nL 109.92 119.217139 \nL 119.171053 128.439073 \nL 128.422105 130.566767 \nL 137.673158 129.54071 \n\" clip-path=\"url(#p748764c9de)\" style=\"fill: none; stroke: #1f77b4; stroke-width: 1.5; stroke-linecap: square\"/>\n   </g>\n   <g id=\"line2d_57\">\n    <path d=\"M 51.33 110.602338 \nL 70.86 117.253991 \nL 90.39 122.912622 \nL 109.92 126.257985 \nL 129.45 128.639258 \n\" clip-path=\"url(#p748764c9de)\" style=\"fill: none; stroke-dasharray: 5.55,2.4; stroke-dashoffset: 0; stroke: #ff7f0e; stroke-width: 1.5\"/>\n   </g>\n   <g id=\"line2d_58\">\n    <path d=\"M 35.911579 13.5 \nL 45.162632 104.793 \nL 54.413684 107.145197 \nL 63.664737 111.886745 \nL 72.915789 113.678567 \nL 82.166842 124.003356 \nL 91.417895 119.67452 \nL 100.668947 122.379138 \nL 109.92 119.217139 \nL 119.171053 128.439073 \nL 128.422105 130.566767 \nL 137.673158 129.54071 \n\" clip-path=\"url(#p748764c9de)\" style=\"fill: none; stroke: #1f77b4; stroke-width: 1.5; stroke-linecap: square\"/>\n   </g>\n   <g id=\"line2d_59\">\n    <path d=\"M 51.33 110.602338 \nL 70.86 117.253991 \nL 90.39 122.912622 \nL 109.92 126.257985 \nL 129.45 128.639258 \nL 148.98 131.864764 \n\" clip-path=\"url(#p748764c9de)\" style=\"fill: none; stroke-dasharray: 5.55,2.4; stroke-dashoffset: 0; stroke: #ff7f0e; stroke-width: 1.5\"/>\n   </g>\n   <g id=\"line2d_60\">\n    <path d=\"M 35.911579 13.5 \nL 45.162632 104.793 \nL 54.413684 107.145197 \nL 63.664737 111.886745 \nL 72.915789 113.678567 \nL 82.166842 124.003356 \nL 91.417895 119.67452 \nL 100.668947 122.379138 \nL 109.92 119.217139 \nL 119.171053 128.439073 \nL 128.422105 130.566767 \nL 137.673158 129.54071 \nL 146.924211 132.271032 \n\" clip-path=\"url(#p748764c9de)\" style=\"fill: none; stroke: #1f77b4; stroke-width: 1.5; stroke-linecap: square\"/>\n   </g>\n   <g id=\"line2d_61\">\n    <path d=\"M 51.33 110.602338 \nL 70.86 117.253991 \nL 90.39 122.912622 \nL 109.92 126.257985 \nL 129.45 128.639258 \nL 148.98 131.864764 \n\" clip-path=\"url(#p748764c9de)\" style=\"fill: none; stroke-dasharray: 5.55,2.4; stroke-dashoffset: 0; stroke: #ff7f0e; stroke-width: 1.5\"/>\n   </g>\n   <g id=\"line2d_62\">\n    <path d=\"M 35.911579 13.5 \nL 45.162632 104.793 \nL 54.413684 107.145197 \nL 63.664737 111.886745 \nL 72.915789 113.678567 \nL 82.166842 124.003356 \nL 91.417895 119.67452 \nL 100.668947 122.379138 \nL 109.92 119.217139 \nL 119.171053 128.439073 \nL 128.422105 130.566767 \nL 137.673158 129.54071 \nL 146.924211 132.271032 \nL 156.175263 130.077384 \n\" clip-path=\"url(#p748764c9de)\" style=\"fill: none; stroke: #1f77b4; stroke-width: 1.5; stroke-linecap: square\"/>\n   </g>\n   <g id=\"line2d_63\">\n    <path d=\"M 51.33 110.602338 \nL 70.86 117.253991 \nL 90.39 122.912622 \nL 109.92 126.257985 \nL 129.45 128.639258 \nL 148.98 131.864764 \n\" clip-path=\"url(#p748764c9de)\" style=\"fill: none; stroke-dasharray: 5.55,2.4; stroke-dashoffset: 0; stroke: #ff7f0e; stroke-width: 1.5\"/>\n   </g>\n   <g id=\"line2d_64\">\n    <path d=\"M 35.911579 13.5 \nL 45.162632 104.793 \nL 54.413684 107.145197 \nL 63.664737 111.886745 \nL 72.915789 113.678567 \nL 82.166842 124.003356 \nL 91.417895 119.67452 \nL 100.668947 122.379138 \nL 109.92 119.217139 \nL 119.171053 128.439073 \nL 128.422105 130.566767 \nL 137.673158 129.54071 \nL 146.924211 132.271032 \nL 156.175263 130.077384 \n\" clip-path=\"url(#p748764c9de)\" style=\"fill: none; stroke: #1f77b4; stroke-width: 1.5; stroke-linecap: square\"/>\n   </g>\n   <g id=\"line2d_65\">\n    <path d=\"M 51.33 110.602338 \nL 70.86 117.253991 \nL 90.39 122.912622 \nL 109.92 126.257985 \nL 129.45 128.639258 \nL 148.98 131.864764 \nL 168.51 133.733218 \n\" clip-path=\"url(#p748764c9de)\" style=\"fill: none; stroke-dasharray: 5.55,2.4; stroke-dashoffset: 0; stroke: #ff7f0e; stroke-width: 1.5\"/>\n   </g>\n   <g id=\"line2d_66\">\n    <path d=\"M 35.911579 13.5 \nL 45.162632 104.793 \nL 54.413684 107.145197 \nL 63.664737 111.886745 \nL 72.915789 113.678567 \nL 82.166842 124.003356 \nL 91.417895 119.67452 \nL 100.668947 122.379138 \nL 109.92 119.217139 \nL 119.171053 128.439073 \nL 128.422105 130.566767 \nL 137.673158 129.54071 \nL 146.924211 132.271032 \nL 156.175263 130.077384 \nL 165.426316 134.214565 \n\" clip-path=\"url(#p748764c9de)\" style=\"fill: none; stroke: #1f77b4; stroke-width: 1.5; stroke-linecap: square\"/>\n   </g>\n   <g id=\"line2d_67\">\n    <path d=\"M 51.33 110.602338 \nL 70.86 117.253991 \nL 90.39 122.912622 \nL 109.92 126.257985 \nL 129.45 128.639258 \nL 148.98 131.864764 \nL 168.51 133.733218 \n\" clip-path=\"url(#p748764c9de)\" style=\"fill: none; stroke-dasharray: 5.55,2.4; stroke-dashoffset: 0; stroke: #ff7f0e; stroke-width: 1.5\"/>\n   </g>\n   <g id=\"line2d_68\">\n    <path d=\"M 35.911579 13.5 \nL 45.162632 104.793 \nL 54.413684 107.145197 \nL 63.664737 111.886745 \nL 72.915789 113.678567 \nL 82.166842 124.003356 \nL 91.417895 119.67452 \nL 100.668947 122.379138 \nL 109.92 119.217139 \nL 119.171053 128.439073 \nL 128.422105 130.566767 \nL 137.673158 129.54071 \nL 146.924211 132.271032 \nL 156.175263 130.077384 \nL 165.426316 134.214565 \nL 174.677368 135.356667 \n\" clip-path=\"url(#p748764c9de)\" style=\"fill: none; stroke: #1f77b4; stroke-width: 1.5; stroke-linecap: square\"/>\n   </g>\n   <g id=\"line2d_69\">\n    <path d=\"M 51.33 110.602338 \nL 70.86 117.253991 \nL 90.39 122.912622 \nL 109.92 126.257985 \nL 129.45 128.639258 \nL 148.98 131.864764 \nL 168.51 133.733218 \n\" clip-path=\"url(#p748764c9de)\" style=\"fill: none; stroke-dasharray: 5.55,2.4; stroke-dashoffset: 0; stroke: #ff7f0e; stroke-width: 1.5\"/>\n   </g>\n   <g id=\"line2d_70\">\n    <path d=\"M 35.911579 13.5 \nL 45.162632 104.793 \nL 54.413684 107.145197 \nL 63.664737 111.886745 \nL 72.915789 113.678567 \nL 82.166842 124.003356 \nL 91.417895 119.67452 \nL 100.668947 122.379138 \nL 109.92 119.217139 \nL 119.171053 128.439073 \nL 128.422105 130.566767 \nL 137.673158 129.54071 \nL 146.924211 132.271032 \nL 156.175263 130.077384 \nL 165.426316 134.214565 \nL 174.677368 135.356667 \n\" clip-path=\"url(#p748764c9de)\" style=\"fill: none; stroke: #1f77b4; stroke-width: 1.5; stroke-linecap: square\"/>\n   </g>\n   <g id=\"line2d_71\">\n    <path d=\"M 51.33 110.602338 \nL 70.86 117.253991 \nL 90.39 122.912622 \nL 109.92 126.257985 \nL 129.45 128.639258 \nL 148.98 131.864764 \nL 168.51 133.733218 \nL 188.04 135.728761 \n\" clip-path=\"url(#p748764c9de)\" style=\"fill: none; stroke-dasharray: 5.55,2.4; stroke-dashoffset: 0; stroke: #ff7f0e; stroke-width: 1.5\"/>\n   </g>\n   <g id=\"line2d_72\">\n    <path d=\"M 35.911579 13.5 \nL 45.162632 104.793 \nL 54.413684 107.145197 \nL 63.664737 111.886745 \nL 72.915789 113.678567 \nL 82.166842 124.003356 \nL 91.417895 119.67452 \nL 100.668947 122.379138 \nL 109.92 119.217139 \nL 119.171053 128.439073 \nL 128.422105 130.566767 \nL 137.673158 129.54071 \nL 146.924211 132.271032 \nL 156.175263 130.077384 \nL 165.426316 134.214565 \nL 174.677368 135.356667 \nL 183.928421 132.554168 \n\" clip-path=\"url(#p748764c9de)\" style=\"fill: none; stroke: #1f77b4; stroke-width: 1.5; stroke-linecap: square\"/>\n   </g>\n   <g id=\"line2d_73\">\n    <path d=\"M 51.33 110.602338 \nL 70.86 117.253991 \nL 90.39 122.912622 \nL 109.92 126.257985 \nL 129.45 128.639258 \nL 148.98 131.864764 \nL 168.51 133.733218 \nL 188.04 135.728761 \n\" clip-path=\"url(#p748764c9de)\" style=\"fill: none; stroke-dasharray: 5.55,2.4; stroke-dashoffset: 0; stroke: #ff7f0e; stroke-width: 1.5\"/>\n   </g>\n   <g id=\"line2d_74\">\n    <path d=\"M 35.911579 13.5 \nL 45.162632 104.793 \nL 54.413684 107.145197 \nL 63.664737 111.886745 \nL 72.915789 113.678567 \nL 82.166842 124.003356 \nL 91.417895 119.67452 \nL 100.668947 122.379138 \nL 109.92 119.217139 \nL 119.171053 128.439073 \nL 128.422105 130.566767 \nL 137.673158 129.54071 \nL 146.924211 132.271032 \nL 156.175263 130.077384 \nL 165.426316 134.214565 \nL 174.677368 135.356667 \nL 183.928421 132.554168 \nL 193.179474 137.910046 \n\" clip-path=\"url(#p748764c9de)\" style=\"fill: none; stroke: #1f77b4; stroke-width: 1.5; stroke-linecap: square\"/>\n   </g>\n   <g id=\"line2d_75\">\n    <path d=\"M 51.33 110.602338 \nL 70.86 117.253991 \nL 90.39 122.912622 \nL 109.92 126.257985 \nL 129.45 128.639258 \nL 148.98 131.864764 \nL 168.51 133.733218 \nL 188.04 135.728761 \n\" clip-path=\"url(#p748764c9de)\" style=\"fill: none; stroke-dasharray: 5.55,2.4; stroke-dashoffset: 0; stroke: #ff7f0e; stroke-width: 1.5\"/>\n   </g>\n   <g id=\"line2d_76\">\n    <path d=\"M 35.911579 13.5 \nL 45.162632 104.793 \nL 54.413684 107.145197 \nL 63.664737 111.886745 \nL 72.915789 113.678567 \nL 82.166842 124.003356 \nL 91.417895 119.67452 \nL 100.668947 122.379138 \nL 109.92 119.217139 \nL 119.171053 128.439073 \nL 128.422105 130.566767 \nL 137.673158 129.54071 \nL 146.924211 132.271032 \nL 156.175263 130.077384 \nL 165.426316 134.214565 \nL 174.677368 135.356667 \nL 183.928421 132.554168 \nL 193.179474 137.910046 \nL 202.430526 136.329294 \n\" clip-path=\"url(#p748764c9de)\" style=\"fill: none; stroke: #1f77b4; stroke-width: 1.5; stroke-linecap: square\"/>\n   </g>\n   <g id=\"line2d_77\">\n    <path d=\"M 51.33 110.602338 \nL 70.86 117.253991 \nL 90.39 122.912622 \nL 109.92 126.257985 \nL 129.45 128.639258 \nL 148.98 131.864764 \nL 168.51 133.733218 \nL 188.04 135.728761 \n\" clip-path=\"url(#p748764c9de)\" style=\"fill: none; stroke-dasharray: 5.55,2.4; stroke-dashoffset: 0; stroke: #ff7f0e; stroke-width: 1.5\"/>\n   </g>\n   <g id=\"line2d_78\">\n    <path d=\"M 35.911579 13.5 \nL 45.162632 104.793 \nL 54.413684 107.145197 \nL 63.664737 111.886745 \nL 72.915789 113.678567 \nL 82.166842 124.003356 \nL 91.417895 119.67452 \nL 100.668947 122.379138 \nL 109.92 119.217139 \nL 119.171053 128.439073 \nL 128.422105 130.566767 \nL 137.673158 129.54071 \nL 146.924211 132.271032 \nL 156.175263 130.077384 \nL 165.426316 134.214565 \nL 174.677368 135.356667 \nL 183.928421 132.554168 \nL 193.179474 137.910046 \nL 202.430526 136.329294 \n\" clip-path=\"url(#p748764c9de)\" style=\"fill: none; stroke: #1f77b4; stroke-width: 1.5; stroke-linecap: square\"/>\n   </g>\n   <g id=\"line2d_79\">\n    <path d=\"M 51.33 110.602338 \nL 70.86 117.253991 \nL 90.39 122.912622 \nL 109.92 126.257985 \nL 129.45 128.639258 \nL 148.98 131.864764 \nL 168.51 133.733218 \nL 188.04 135.728761 \nL 207.57 137.015884 \n\" clip-path=\"url(#p748764c9de)\" style=\"fill: none; stroke-dasharray: 5.55,2.4; stroke-dashoffset: 0; stroke: #ff7f0e; stroke-width: 1.5\"/>\n   </g>\n   <g id=\"line2d_80\">\n    <path d=\"M 35.911579 13.5 \nL 45.162632 104.793 \nL 54.413684 107.145197 \nL 63.664737 111.886745 \nL 72.915789 113.678567 \nL 82.166842 124.003356 \nL 91.417895 119.67452 \nL 100.668947 122.379138 \nL 109.92 119.217139 \nL 119.171053 128.439073 \nL 128.422105 130.566767 \nL 137.673158 129.54071 \nL 146.924211 132.271032 \nL 156.175263 130.077384 \nL 165.426316 134.214565 \nL 174.677368 135.356667 \nL 183.928421 132.554168 \nL 193.179474 137.910046 \nL 202.430526 136.329294 \nL 211.681579 137.041489 \n\" clip-path=\"url(#p748764c9de)\" style=\"fill: none; stroke: #1f77b4; stroke-width: 1.5; stroke-linecap: square\"/>\n   </g>\n   <g id=\"line2d_81\">\n    <path d=\"M 51.33 110.602338 \nL 70.86 117.253991 \nL 90.39 122.912622 \nL 109.92 126.257985 \nL 129.45 128.639258 \nL 148.98 131.864764 \nL 168.51 133.733218 \nL 188.04 135.728761 \nL 207.57 137.015884 \n\" clip-path=\"url(#p748764c9de)\" style=\"fill: none; stroke-dasharray: 5.55,2.4; stroke-dashoffset: 0; stroke: #ff7f0e; stroke-width: 1.5\"/>\n   </g>\n   <g id=\"line2d_82\">\n    <path d=\"M 35.911579 13.5 \nL 45.162632 104.793 \nL 54.413684 107.145197 \nL 63.664737 111.886745 \nL 72.915789 113.678567 \nL 82.166842 124.003356 \nL 91.417895 119.67452 \nL 100.668947 122.379138 \nL 109.92 119.217139 \nL 119.171053 128.439073 \nL 128.422105 130.566767 \nL 137.673158 129.54071 \nL 146.924211 132.271032 \nL 156.175263 130.077384 \nL 165.426316 134.214565 \nL 174.677368 135.356667 \nL 183.928421 132.554168 \nL 193.179474 137.910046 \nL 202.430526 136.329294 \nL 211.681579 137.041489 \nL 220.932632 139.5 \n\" clip-path=\"url(#p748764c9de)\" style=\"fill: none; stroke: #1f77b4; stroke-width: 1.5; stroke-linecap: square\"/>\n   </g>\n   <g id=\"line2d_83\">\n    <path d=\"M 51.33 110.602338 \nL 70.86 117.253991 \nL 90.39 122.912622 \nL 109.92 126.257985 \nL 129.45 128.639258 \nL 148.98 131.864764 \nL 168.51 133.733218 \nL 188.04 135.728761 \nL 207.57 137.015884 \n\" clip-path=\"url(#p748764c9de)\" style=\"fill: none; stroke-dasharray: 5.55,2.4; stroke-dashoffset: 0; stroke: #ff7f0e; stroke-width: 1.5\"/>\n   </g>\n   <g id=\"line2d_84\">\n    <path d=\"M 35.911579 13.5 \nL 45.162632 104.793 \nL 54.413684 107.145197 \nL 63.664737 111.886745 \nL 72.915789 113.678567 \nL 82.166842 124.003356 \nL 91.417895 119.67452 \nL 100.668947 122.379138 \nL 109.92 119.217139 \nL 119.171053 128.439073 \nL 128.422105 130.566767 \nL 137.673158 129.54071 \nL 146.924211 132.271032 \nL 156.175263 130.077384 \nL 165.426316 134.214565 \nL 174.677368 135.356667 \nL 183.928421 132.554168 \nL 193.179474 137.910046 \nL 202.430526 136.329294 \nL 211.681579 137.041489 \nL 220.932632 139.5 \n\" clip-path=\"url(#p748764c9de)\" style=\"fill: none; stroke: #1f77b4; stroke-width: 1.5; stroke-linecap: square\"/>\n   </g>\n   <g id=\"line2d_85\">\n    <path d=\"M 51.33 110.602338 \nL 70.86 117.253991 \nL 90.39 122.912622 \nL 109.92 126.257985 \nL 129.45 128.639258 \nL 148.98 131.864764 \nL 168.51 133.733218 \nL 188.04 135.728761 \nL 207.57 137.015884 \nL 227.1 138.715509 \n\" clip-path=\"url(#p748764c9de)\" style=\"fill: none; stroke-dasharray: 5.55,2.4; stroke-dashoffset: 0; stroke: #ff7f0e; stroke-width: 1.5\"/>\n   </g>\n   <g id=\"patch_3\">\n    <path d=\"M 31.8 145.8 \nL 31.8 7.2 \n\" style=\"fill: none; stroke: #000000; stroke-width: 0.8; stroke-linejoin: miter; stroke-linecap: square\"/>\n   </g>\n   <g id=\"patch_4\">\n    <path d=\"M 227.1 145.8 \nL 227.1 7.2 \n\" style=\"fill: none; stroke: #000000; stroke-width: 0.8; stroke-linejoin: miter; stroke-linecap: square\"/>\n   </g>\n   <g id=\"patch_5\">\n    <path d=\"M 31.8 145.8 \nL 227.1 145.8 \n\" style=\"fill: none; stroke: #000000; stroke-width: 0.8; stroke-linejoin: miter; stroke-linecap: square\"/>\n   </g>\n   <g id=\"patch_6\">\n    <path d=\"M 31.8 7.2 \nL 227.1 7.2 \n\" style=\"fill: none; stroke: #000000; stroke-width: 0.8; stroke-linejoin: miter; stroke-linecap: square\"/>\n   </g>\n   <g id=\"legend_1\">\n    <g id=\"patch_7\">\n     <path d=\"M 140.509375 45.1125 \nL 220.1 45.1125 \nQ 222.1 45.1125 222.1 43.1125 \nL 222.1 14.2 \nQ 222.1 12.2 220.1 12.2 \nL 140.509375 12.2 \nQ 138.509375 12.2 138.509375 14.2 \nL 138.509375 43.1125 \nQ 138.509375 45.1125 140.509375 45.1125 \nz\n\" style=\"fill: #ffffff; opacity: 0.8; stroke: #cccccc; stroke-linejoin: miter\"/>\n    </g>\n    <g id=\"line2d_86\">\n     <path d=\"M 142.509375 20.298438 \nL 152.509375 20.298438 \nL 162.509375 20.298438 \n\" style=\"fill: none; stroke: #1f77b4; stroke-width: 1.5; stroke-linecap: square\"/>\n    </g>\n    <g id=\"text_10\">\n     <!-- train_loss -->\n     <g transform=\"translate(170.509375 23.798438) scale(0.1 -0.1)\">\n      <defs>\n       <path id=\"DejaVuSans-74\" d=\"M 1172 4494 \nL 1172 3500 \nL 2356 3500 \nL 2356 3053 \nL 1172 3053 \nL 1172 1153 \nQ 1172 725 1289 603 \nQ 1406 481 1766 481 \nL 2356 481 \nL 2356 0 \nL 1766 0 \nQ 1100 0 847 248 \nQ 594 497 594 1153 \nL 594 3053 \nL 172 3053 \nL 172 3500 \nL 594 3500 \nL 594 4494 \nL 1172 4494 \nz\n\" transform=\"scale(0.015625)\"/>\n       <path id=\"DejaVuSans-72\" d=\"M 2631 2963 \nQ 2534 3019 2420 3045 \nQ 2306 3072 2169 3072 \nQ 1681 3072 1420 2755 \nQ 1159 2438 1159 1844 \nL 1159 0 \nL 581 0 \nL 581 3500 \nL 1159 3500 \nL 1159 2956 \nQ 1341 3275 1631 3429 \nQ 1922 3584 2338 3584 \nQ 2397 3584 2469 3576 \nQ 2541 3569 2628 3553 \nL 2631 2963 \nz\n\" transform=\"scale(0.015625)\"/>\n       <path id=\"DejaVuSans-61\" d=\"M 2194 1759 \nQ 1497 1759 1228 1600 \nQ 959 1441 959 1056 \nQ 959 750 1161 570 \nQ 1363 391 1709 391 \nQ 2188 391 2477 730 \nQ 2766 1069 2766 1631 \nL 2766 1759 \nL 2194 1759 \nz\nM 3341 1997 \nL 3341 0 \nL 2766 0 \nL 2766 531 \nQ 2569 213 2275 61 \nQ 1981 -91 1556 -91 \nQ 1019 -91 701 211 \nQ 384 513 384 1019 \nQ 384 1609 779 1909 \nQ 1175 2209 1959 2209 \nL 2766 2209 \nL 2766 2266 \nQ 2766 2663 2505 2880 \nQ 2244 3097 1772 3097 \nQ 1472 3097 1187 3025 \nQ 903 2953 641 2809 \nL 641 3341 \nQ 956 3463 1253 3523 \nQ 1550 3584 1831 3584 \nQ 2591 3584 2966 3190 \nQ 3341 2797 3341 1997 \nz\n\" transform=\"scale(0.015625)\"/>\n       <path id=\"DejaVuSans-69\" d=\"M 603 3500 \nL 1178 3500 \nL 1178 0 \nL 603 0 \nL 603 3500 \nz\nM 603 4863 \nL 1178 4863 \nL 1178 4134 \nL 603 4134 \nL 603 4863 \nz\n\" transform=\"scale(0.015625)\"/>\n       <path id=\"DejaVuSans-6e\" d=\"M 3513 2113 \nL 3513 0 \nL 2938 0 \nL 2938 2094 \nQ 2938 2591 2744 2837 \nQ 2550 3084 2163 3084 \nQ 1697 3084 1428 2787 \nQ 1159 2491 1159 1978 \nL 1159 0 \nL 581 0 \nL 581 3500 \nL 1159 3500 \nL 1159 2956 \nQ 1366 3272 1645 3428 \nQ 1925 3584 2291 3584 \nQ 2894 3584 3203 3211 \nQ 3513 2838 3513 2113 \nz\n\" transform=\"scale(0.015625)\"/>\n       <path id=\"DejaVuSans-5f\" d=\"M 3263 -1063 \nL 3263 -1509 \nL -63 -1509 \nL -63 -1063 \nL 3263 -1063 \nz\n\" transform=\"scale(0.015625)\"/>\n       <path id=\"DejaVuSans-6c\" d=\"M 603 4863 \nL 1178 4863 \nL 1178 0 \nL 603 0 \nL 603 4863 \nz\n\" transform=\"scale(0.015625)\"/>\n       <path id=\"DejaVuSans-73\" d=\"M 2834 3397 \nL 2834 2853 \nQ 2591 2978 2328 3040 \nQ 2066 3103 1784 3103 \nQ 1356 3103 1142 2972 \nQ 928 2841 928 2578 \nQ 928 2378 1081 2264 \nQ 1234 2150 1697 2047 \nL 1894 2003 \nQ 2506 1872 2764 1633 \nQ 3022 1394 3022 966 \nQ 3022 478 2636 193 \nQ 2250 -91 1575 -91 \nQ 1294 -91 989 -36 \nQ 684 19 347 128 \nL 347 722 \nQ 666 556 975 473 \nQ 1284 391 1588 391 \nQ 1994 391 2212 530 \nQ 2431 669 2431 922 \nQ 2431 1156 2273 1281 \nQ 2116 1406 1581 1522 \nL 1381 1569 \nQ 847 1681 609 1914 \nQ 372 2147 372 2553 \nQ 372 3047 722 3315 \nQ 1072 3584 1716 3584 \nQ 2034 3584 2315 3537 \nQ 2597 3491 2834 3397 \nz\n\" transform=\"scale(0.015625)\"/>\n      </defs>\n      <use xlink:href=\"#DejaVuSans-74\"/>\n      <use xlink:href=\"#DejaVuSans-72\" x=\"39.208984\"/>\n      <use xlink:href=\"#DejaVuSans-61\" x=\"80.322266\"/>\n      <use xlink:href=\"#DejaVuSans-69\" x=\"141.601562\"/>\n      <use xlink:href=\"#DejaVuSans-6e\" x=\"169.384766\"/>\n      <use xlink:href=\"#DejaVuSans-5f\" x=\"232.763672\"/>\n      <use xlink:href=\"#DejaVuSans-6c\" x=\"282.763672\"/>\n      <use xlink:href=\"#DejaVuSans-6f\" x=\"310.546875\"/>\n      <use xlink:href=\"#DejaVuSans-73\" x=\"371.728516\"/>\n      <use xlink:href=\"#DejaVuSans-73\" x=\"423.828125\"/>\n     </g>\n    </g>\n    <g id=\"line2d_87\">\n     <path d=\"M 142.509375 35.254688 \nL 152.509375 35.254688 \nL 162.509375 35.254688 \n\" style=\"fill: none; stroke-dasharray: 5.55,2.4; stroke-dashoffset: 0; stroke: #ff7f0e; stroke-width: 1.5\"/>\n    </g>\n    <g id=\"text_11\">\n     <!-- val_loss -->\n     <g transform=\"translate(170.509375 38.754688) scale(0.1 -0.1)\">\n      <defs>\n       <path id=\"DejaVuSans-76\" d=\"M 191 3500 \nL 800 3500 \nL 1894 563 \nL 2988 3500 \nL 3597 3500 \nL 2284 0 \nL 1503 0 \nL 191 3500 \nz\n\" transform=\"scale(0.015625)\"/>\n      </defs>\n      <use xlink:href=\"#DejaVuSans-76\"/>\n      <use xlink:href=\"#DejaVuSans-61\" x=\"59.179688\"/>\n      <use xlink:href=\"#DejaVuSans-6c\" x=\"120.458984\"/>\n      <use xlink:href=\"#DejaVuSans-5f\" x=\"148.242188\"/>\n      <use xlink:href=\"#DejaVuSans-6c\" x=\"198.242188\"/>\n      <use xlink:href=\"#DejaVuSans-6f\" x=\"226.025391\"/>\n      <use xlink:href=\"#DejaVuSans-73\" x=\"287.207031\"/>\n      <use xlink:href=\"#DejaVuSans-73\" x=\"339.306641\"/>\n     </g>\n    </g>\n   </g>\n  </g>\n </g>\n <defs>\n  <clipPath id=\"p748764c9de\">\n   <rect x=\"31.8\" y=\"7.2\" width=\"195.3\" height=\"138.6\"/>\n  </clipPath>\n </defs>\n</svg>\n"
          },
          "metadata": {}
        }
      ],
      "source": [
        "trainer = d2l.Trainer(max_epochs=10)\n",
        "models = k_fold(trainer, data, k=5, lr=0.01)"
      ]
    },
    {
      "cell_type": "markdown",
      "id": "158afa13",
      "metadata": {
        "origin_pos": 26,
        "id": "158afa13"
      },
      "source": [
        "Notice that sometimes the number of training errors\n",
        "for a set of hyperparameters can be very low,\n",
        "even as the number of errors on $K$-fold cross-validation\n",
        "grows considerably higher.\n",
        "This indicates that we are overfitting.\n",
        "Throughout training you will want to monitor both numbers.\n",
        "Less overfitting might indicate that our data can support a more powerful model.\n",
        "Massive overfitting might suggest that we can gain\n",
        "by incorporating regularization techniques.\n",
        "\n",
        "##  [**Submitting Predictions on Kaggle**]\n",
        "\n",
        "Now that we know what a good choice of hyperparameters should be,\n",
        "we might\n",
        "calculate the average predictions\n",
        "on the test set\n",
        "by all the $K$ models.\n",
        "Saving the predictions in a csv file\n",
        "will simplify uploading the results to Kaggle.\n",
        "The following code will generate a file called `submission.csv`.\n"
      ]
    },
    {
      "cell_type": "code",
      "execution_count": null,
      "id": "f4a3bcde",
      "metadata": {
        "execution": {
          "iopub.execute_input": "2023-08-18T19:32:37.100208Z",
          "iopub.status.busy": "2023-08-18T19:32:37.099453Z",
          "iopub.status.idle": "2023-08-18T19:32:37.266811Z",
          "shell.execute_reply": "2023-08-18T19:32:37.265844Z"
        },
        "origin_pos": 27,
        "tab": [
          "pytorch"
        ],
        "id": "f4a3bcde"
      },
      "outputs": [],
      "source": [
        "preds = [model(torch.tensor(data.val.values.astype(float), dtype=torch.float32))\n",
        "         for model in models]\n",
        "# Taking exponentiation of predictions in the logarithm scale\n",
        "ensemble_preds = torch.exp(torch.cat(preds, 1)).mean(1)\n",
        "submission = pd.DataFrame({'Id':data.raw_val.Id,\n",
        "                           'SalePrice':ensemble_preds.detach().numpy()})\n",
        "submission.to_csv('submission.csv', index=False)"
      ]
    },
    {
      "cell_type": "markdown",
      "id": "206db870",
      "metadata": {
        "origin_pos": 28,
        "id": "206db870"
      },
      "source": [
        "Next, as demonstrated in :numref:`fig_kaggle_submit2`,\n",
        "we can submit our predictions on Kaggle\n",
        "and see how they compare with the actual house prices (labels)\n",
        "on the test set.\n",
        "The steps are quite simple:\n",
        "\n",
        "* Log in to the Kaggle website and visit the house price prediction competition page.\n",
        "* Click the “Submit Predictions” or “Late Submission” button.\n",
        "* Click the “Upload Submission File” button in the dashed box at the bottom of the page and select the prediction file you wish to upload.\n",
        "* Click the “Make Submission” button at the bottom of the page to view your results.\n",
        "\n",
        "![Submitting data to Kaggle](https://github.com/d2l-ai/d2l-pytorch-colab/blob/master/img/kaggle-submit2.png?raw=1)\n",
        ":width:`400px`\n",
        ":label:`fig_kaggle_submit2`\n",
        "\n",
        "## Summary and Discussion\n",
        "\n",
        "Real data often contains a mix of different data types and needs to be preprocessed.\n",
        "Rescaling real-valued data to zero mean and unit variance is a good default. So is replacing missing values with their mean.\n",
        "Furthermore, transforming categorical features into indicator features allows us to treat them like one-hot vectors.\n",
        "When we tend to care more about\n",
        "the relative error than about the absolute error,\n",
        "we can\n",
        "measure the discrepancy in the logarithm of the prediction.\n",
        "To select the model and adjust the hyperparameters,\n",
        "we can use $K$-fold cross-validation .\n",
        "\n",
        "\n",
        "\n",
        "## Exercises\n",
        "\n",
        "1. Submit your predictions for this section to Kaggle. How good are they?\n",
        "1. Is it always a good idea to replace missing values by a mean? Hint: can you construct a situation where the values are not missing at random?\n",
        "1. Improve the score by tuning the hyperparameters through $K$-fold cross-validation.\n",
        "1. Improve the score by improving the model (e.g., layers, weight decay, and dropout).\n",
        "1. What happens if we do not standardize the continuous numerical features as we have done in this section?\n"
      ]
    },
    {
      "cell_type": "markdown",
      "id": "fe43aac4",
      "metadata": {
        "origin_pos": 30,
        "tab": [
          "pytorch"
        ],
        "id": "fe43aac4"
      },
      "source": [
        "[Discussions](https://discuss.d2l.ai/t/107)\n"
      ]
    },
    {
      "cell_type": "code",
      "source": [
        "hparams = {\n",
        "    \"epoch\": [5, 10, 20],\n",
        "    \"batch_size\": [32, 64, 128],\n",
        "    \"lr\": [0.001, 0.01, 0.1]\n",
        "}"
      ],
      "metadata": {
        "id": "HMqLzXf9Lj3o"
      },
      "id": "HMqLzXf9Lj3o",
      "execution_count": null,
      "outputs": []
    },
    {
      "cell_type": "code",
      "source": [
        "from itertools import product\n",
        "keys = hparams.keys()\n",
        "values = hparams.values()\n",
        "\n",
        "models = []\n",
        "average_val_log_mses = []\n",
        "\n",
        "# Iterate over all combinations\n",
        "for i, combo in enumerate(product(*values)):\n",
        "    print(f\"{i}/9\")\n",
        "    params = dict(zip(keys, combo))\n",
        "    data = KaggleHouse(batch_size=params['batch_size'])\n",
        "    data.preprocess()\n",
        "    trainer = d2l.Trainer(max_epochs=params['epoch'])\n",
        "    h_models, average_val_log_mse = k_fold(trainer, data, k=5, lr=params['lr'])\n",
        "    models.append(h_models)\n",
        "    average_val_log_mses.append(average_val_log_mse)\n",
        "    print(f\"Average loss: \")"
      ],
      "metadata": {
        "colab": {
          "base_uri": "https://localhost:8080/",
          "height": 720
        },
        "id": "pzPB5uV5L4nx",
        "outputId": "0b95a804-fd41-499e-fd1e-5fe7f1dcc43e"
      },
      "id": "pzPB5uV5L4nx",
      "execution_count": null,
      "outputs": [
        {
          "output_type": "error",
          "ename": "KeyboardInterrupt",
          "evalue": "",
          "traceback": [
            "\u001b[0;31m---------------------------------------------------------------------------\u001b[0m",
            "\u001b[0;31mKeyboardInterrupt\u001b[0m                         Traceback (most recent call last)",
            "\u001b[0;32m/tmp/ipython-input-1252663790.py\u001b[0m in \u001b[0;36m<cell line: 0>\u001b[0;34m()\u001b[0m\n\u001b[1;32m     13\u001b[0m     \u001b[0mdata\u001b[0m\u001b[0;34m.\u001b[0m\u001b[0mpreprocess\u001b[0m\u001b[0;34m(\u001b[0m\u001b[0;34m)\u001b[0m\u001b[0;34m\u001b[0m\u001b[0;34m\u001b[0m\u001b[0m\n\u001b[1;32m     14\u001b[0m     \u001b[0mtrainer\u001b[0m \u001b[0;34m=\u001b[0m \u001b[0md2l\u001b[0m\u001b[0;34m.\u001b[0m\u001b[0mTrainer\u001b[0m\u001b[0;34m(\u001b[0m\u001b[0mmax_epochs\u001b[0m\u001b[0;34m=\u001b[0m\u001b[0mparams\u001b[0m\u001b[0;34m[\u001b[0m\u001b[0;34m'epoch'\u001b[0m\u001b[0;34m]\u001b[0m\u001b[0;34m)\u001b[0m\u001b[0;34m\u001b[0m\u001b[0;34m\u001b[0m\u001b[0m\n\u001b[0;32m---> 15\u001b[0;31m     \u001b[0mh_models\u001b[0m\u001b[0;34m,\u001b[0m \u001b[0maverage_val_log_mse\u001b[0m \u001b[0;34m=\u001b[0m \u001b[0mk_fold\u001b[0m\u001b[0;34m(\u001b[0m\u001b[0mtrainer\u001b[0m\u001b[0;34m,\u001b[0m \u001b[0mdata\u001b[0m\u001b[0;34m,\u001b[0m \u001b[0mk\u001b[0m\u001b[0;34m=\u001b[0m\u001b[0;36m5\u001b[0m\u001b[0;34m,\u001b[0m \u001b[0mlr\u001b[0m\u001b[0;34m=\u001b[0m\u001b[0mparams\u001b[0m\u001b[0;34m[\u001b[0m\u001b[0;34m'lr'\u001b[0m\u001b[0;34m]\u001b[0m\u001b[0;34m)\u001b[0m\u001b[0;34m\u001b[0m\u001b[0;34m\u001b[0m\u001b[0m\n\u001b[0m\u001b[1;32m     16\u001b[0m     \u001b[0mmodels\u001b[0m\u001b[0;34m.\u001b[0m\u001b[0mappend\u001b[0m\u001b[0;34m(\u001b[0m\u001b[0mh_models\u001b[0m\u001b[0;34m)\u001b[0m\u001b[0;34m\u001b[0m\u001b[0;34m\u001b[0m\u001b[0m\n\u001b[1;32m     17\u001b[0m     \u001b[0maverage_val_log_mses\u001b[0m\u001b[0;34m.\u001b[0m\u001b[0mappend\u001b[0m\u001b[0;34m(\u001b[0m\u001b[0maverage_val_log_mse\u001b[0m\u001b[0;34m)\u001b[0m\u001b[0;34m\u001b[0m\u001b[0;34m\u001b[0m\u001b[0m\n",
            "\u001b[0;32m/tmp/ipython-input-1213335089.py\u001b[0m in \u001b[0;36mk_fold\u001b[0;34m(trainer, data, k, lr)\u001b[0m\n\u001b[1;32m      5\u001b[0m         \u001b[0mmodel\u001b[0m\u001b[0;34m.\u001b[0m\u001b[0mboard\u001b[0m\u001b[0;34m.\u001b[0m\u001b[0myscale\u001b[0m\u001b[0;34m=\u001b[0m\u001b[0;34m'log'\u001b[0m\u001b[0;34m\u001b[0m\u001b[0;34m\u001b[0m\u001b[0m\n\u001b[1;32m      6\u001b[0m         \u001b[0;32mif\u001b[0m \u001b[0mi\u001b[0m \u001b[0;34m!=\u001b[0m \u001b[0;36m0\u001b[0m\u001b[0;34m:\u001b[0m \u001b[0mmodel\u001b[0m\u001b[0;34m.\u001b[0m\u001b[0mboard\u001b[0m\u001b[0;34m.\u001b[0m\u001b[0mdisplay\u001b[0m \u001b[0;34m=\u001b[0m \u001b[0;32mFalse\u001b[0m\u001b[0;34m\u001b[0m\u001b[0;34m\u001b[0m\u001b[0m\n\u001b[0;32m----> 7\u001b[0;31m         \u001b[0mtrainer\u001b[0m\u001b[0;34m.\u001b[0m\u001b[0mfit\u001b[0m\u001b[0;34m(\u001b[0m\u001b[0mmodel\u001b[0m\u001b[0;34m,\u001b[0m \u001b[0mdata_fold\u001b[0m\u001b[0;34m)\u001b[0m\u001b[0;34m\u001b[0m\u001b[0;34m\u001b[0m\u001b[0m\n\u001b[0m\u001b[1;32m      8\u001b[0m         \u001b[0mval_loss\u001b[0m\u001b[0;34m.\u001b[0m\u001b[0mappend\u001b[0m\u001b[0;34m(\u001b[0m\u001b[0mfloat\u001b[0m\u001b[0;34m(\u001b[0m\u001b[0mmodel\u001b[0m\u001b[0;34m.\u001b[0m\u001b[0mboard\u001b[0m\u001b[0;34m.\u001b[0m\u001b[0mdata\u001b[0m\u001b[0;34m[\u001b[0m\u001b[0;34m'val_loss'\u001b[0m\u001b[0;34m]\u001b[0m\u001b[0;34m[\u001b[0m\u001b[0;34m-\u001b[0m\u001b[0;36m1\u001b[0m\u001b[0;34m]\u001b[0m\u001b[0;34m.\u001b[0m\u001b[0my\u001b[0m\u001b[0;34m)\u001b[0m\u001b[0;34m)\u001b[0m\u001b[0;34m\u001b[0m\u001b[0;34m\u001b[0m\u001b[0m\n\u001b[1;32m      9\u001b[0m         \u001b[0mmodels\u001b[0m\u001b[0;34m.\u001b[0m\u001b[0mappend\u001b[0m\u001b[0;34m(\u001b[0m\u001b[0mmodel\u001b[0m\u001b[0;34m)\u001b[0m\u001b[0;34m\u001b[0m\u001b[0;34m\u001b[0m\u001b[0m\n",
            "\u001b[0;32m/usr/local/lib/python3.11/dist-packages/d2l/torch.py\u001b[0m in \u001b[0;36mfit\u001b[0;34m(self, model, data)\u001b[0m\n\u001b[1;32m    283\u001b[0m         \u001b[0mself\u001b[0m\u001b[0;34m.\u001b[0m\u001b[0mval_batch_idx\u001b[0m \u001b[0;34m=\u001b[0m \u001b[0;36m0\u001b[0m\u001b[0;34m\u001b[0m\u001b[0;34m\u001b[0m\u001b[0m\n\u001b[1;32m    284\u001b[0m         \u001b[0;32mfor\u001b[0m \u001b[0mself\u001b[0m\u001b[0;34m.\u001b[0m\u001b[0mepoch\u001b[0m \u001b[0;32min\u001b[0m \u001b[0mrange\u001b[0m\u001b[0;34m(\u001b[0m\u001b[0mself\u001b[0m\u001b[0;34m.\u001b[0m\u001b[0mmax_epochs\u001b[0m\u001b[0;34m)\u001b[0m\u001b[0;34m:\u001b[0m\u001b[0;34m\u001b[0m\u001b[0;34m\u001b[0m\u001b[0m\n\u001b[0;32m--> 285\u001b[0;31m             \u001b[0mself\u001b[0m\u001b[0;34m.\u001b[0m\u001b[0mfit_epoch\u001b[0m\u001b[0;34m(\u001b[0m\u001b[0;34m)\u001b[0m\u001b[0;34m\u001b[0m\u001b[0;34m\u001b[0m\u001b[0m\n\u001b[0m\u001b[1;32m    286\u001b[0m \u001b[0;34m\u001b[0m\u001b[0m\n\u001b[1;32m    287\u001b[0m     \u001b[0;32mdef\u001b[0m \u001b[0mfit_epoch\u001b[0m\u001b[0;34m(\u001b[0m\u001b[0mself\u001b[0m\u001b[0;34m)\u001b[0m\u001b[0;34m:\u001b[0m\u001b[0;34m\u001b[0m\u001b[0;34m\u001b[0m\u001b[0m\n",
            "\u001b[0;32m/usr/local/lib/python3.11/dist-packages/d2l/torch.py\u001b[0m in \u001b[0;36mfit_epoch\u001b[0;34m(self)\u001b[0m\n\u001b[1;32m    299\u001b[0m             \u001b[0mself\u001b[0m\u001b[0;34m.\u001b[0m\u001b[0moptim\u001b[0m\u001b[0;34m.\u001b[0m\u001b[0mzero_grad\u001b[0m\u001b[0;34m(\u001b[0m\u001b[0;34m)\u001b[0m\u001b[0;34m\u001b[0m\u001b[0;34m\u001b[0m\u001b[0m\n\u001b[1;32m    300\u001b[0m             \u001b[0;32mwith\u001b[0m \u001b[0mtorch\u001b[0m\u001b[0;34m.\u001b[0m\u001b[0mno_grad\u001b[0m\u001b[0;34m(\u001b[0m\u001b[0;34m)\u001b[0m\u001b[0;34m:\u001b[0m\u001b[0;34m\u001b[0m\u001b[0;34m\u001b[0m\u001b[0m\n\u001b[0;32m--> 301\u001b[0;31m                 \u001b[0mloss\u001b[0m\u001b[0;34m.\u001b[0m\u001b[0mbackward\u001b[0m\u001b[0;34m(\u001b[0m\u001b[0;34m)\u001b[0m\u001b[0;34m\u001b[0m\u001b[0;34m\u001b[0m\u001b[0m\n\u001b[0m\u001b[1;32m    302\u001b[0m                 \u001b[0;32mif\u001b[0m \u001b[0mself\u001b[0m\u001b[0;34m.\u001b[0m\u001b[0mgradient_clip_val\u001b[0m \u001b[0;34m>\u001b[0m \u001b[0;36m0\u001b[0m\u001b[0;34m:\u001b[0m  \u001b[0;31m# To be discussed later\u001b[0m\u001b[0;34m\u001b[0m\u001b[0;34m\u001b[0m\u001b[0m\n\u001b[1;32m    303\u001b[0m                     \u001b[0mself\u001b[0m\u001b[0;34m.\u001b[0m\u001b[0mclip_gradients\u001b[0m\u001b[0;34m(\u001b[0m\u001b[0mself\u001b[0m\u001b[0;34m.\u001b[0m\u001b[0mgradient_clip_val\u001b[0m\u001b[0;34m,\u001b[0m \u001b[0mself\u001b[0m\u001b[0;34m.\u001b[0m\u001b[0mmodel\u001b[0m\u001b[0;34m)\u001b[0m\u001b[0;34m\u001b[0m\u001b[0;34m\u001b[0m\u001b[0m\n",
            "\u001b[0;32m/usr/local/lib/python3.11/dist-packages/torch/_tensor.py\u001b[0m in \u001b[0;36mbackward\u001b[0;34m(self, gradient, retain_graph, create_graph, inputs)\u001b[0m\n\u001b[1;32m    624\u001b[0m                 \u001b[0minputs\u001b[0m\u001b[0;34m=\u001b[0m\u001b[0minputs\u001b[0m\u001b[0;34m,\u001b[0m\u001b[0;34m\u001b[0m\u001b[0;34m\u001b[0m\u001b[0m\n\u001b[1;32m    625\u001b[0m             )\n\u001b[0;32m--> 626\u001b[0;31m         torch.autograd.backward(\n\u001b[0m\u001b[1;32m    627\u001b[0m             \u001b[0mself\u001b[0m\u001b[0;34m,\u001b[0m \u001b[0mgradient\u001b[0m\u001b[0;34m,\u001b[0m \u001b[0mretain_graph\u001b[0m\u001b[0;34m,\u001b[0m \u001b[0mcreate_graph\u001b[0m\u001b[0;34m,\u001b[0m \u001b[0minputs\u001b[0m\u001b[0;34m=\u001b[0m\u001b[0minputs\u001b[0m\u001b[0;34m\u001b[0m\u001b[0;34m\u001b[0m\u001b[0m\n\u001b[1;32m    628\u001b[0m         )\n",
            "\u001b[0;32m/usr/local/lib/python3.11/dist-packages/torch/autograd/__init__.py\u001b[0m in \u001b[0;36mbackward\u001b[0;34m(tensors, grad_tensors, retain_graph, create_graph, grad_variables, inputs)\u001b[0m\n\u001b[1;32m    345\u001b[0m     \u001b[0;31m# some Python versions print out the first line of a multi-line function\u001b[0m\u001b[0;34m\u001b[0m\u001b[0;34m\u001b[0m\u001b[0m\n\u001b[1;32m    346\u001b[0m     \u001b[0;31m# calls in the traceback and some print out the last line\u001b[0m\u001b[0;34m\u001b[0m\u001b[0;34m\u001b[0m\u001b[0m\n\u001b[0;32m--> 347\u001b[0;31m     _engine_run_backward(\n\u001b[0m\u001b[1;32m    348\u001b[0m         \u001b[0mtensors\u001b[0m\u001b[0;34m,\u001b[0m\u001b[0;34m\u001b[0m\u001b[0;34m\u001b[0m\u001b[0m\n\u001b[1;32m    349\u001b[0m         \u001b[0mgrad_tensors_\u001b[0m\u001b[0;34m,\u001b[0m\u001b[0;34m\u001b[0m\u001b[0;34m\u001b[0m\u001b[0m\n",
            "\u001b[0;32m/usr/local/lib/python3.11/dist-packages/torch/autograd/graph.py\u001b[0m in \u001b[0;36m_engine_run_backward\u001b[0;34m(t_outputs, *args, **kwargs)\u001b[0m\n\u001b[1;32m    821\u001b[0m         \u001b[0munregister_hooks\u001b[0m \u001b[0;34m=\u001b[0m \u001b[0m_register_logging_hooks_on_whole_graph\u001b[0m\u001b[0;34m(\u001b[0m\u001b[0mt_outputs\u001b[0m\u001b[0;34m)\u001b[0m\u001b[0;34m\u001b[0m\u001b[0;34m\u001b[0m\u001b[0m\n\u001b[1;32m    822\u001b[0m     \u001b[0;32mtry\u001b[0m\u001b[0;34m:\u001b[0m\u001b[0;34m\u001b[0m\u001b[0;34m\u001b[0m\u001b[0m\n\u001b[0;32m--> 823\u001b[0;31m         return Variable._execution_engine.run_backward(  # Calls into the C++ engine to run the backward pass\n\u001b[0m\u001b[1;32m    824\u001b[0m             \u001b[0mt_outputs\u001b[0m\u001b[0;34m,\u001b[0m \u001b[0;34m*\u001b[0m\u001b[0margs\u001b[0m\u001b[0;34m,\u001b[0m \u001b[0;34m**\u001b[0m\u001b[0mkwargs\u001b[0m\u001b[0;34m\u001b[0m\u001b[0;34m\u001b[0m\u001b[0m\n\u001b[1;32m    825\u001b[0m         )  # Calls into the C++ engine to run the backward pass\n",
            "\u001b[0;31mKeyboardInterrupt\u001b[0m: "
          ]
        },
        {
          "output_type": "display_data",
          "data": {
            "text/plain": [
              "<Figure size 350x250 with 1 Axes>"
            ],
            "image/svg+xml": "<?xml version=\"1.0\" encoding=\"utf-8\" standalone=\"no\"?>\n<!DOCTYPE svg PUBLIC \"-//W3C//DTD SVG 1.1//EN\"\n  \"http://www.w3.org/Graphics/SVG/1.1/DTD/svg11.dtd\">\n<svg xmlns:xlink=\"http://www.w3.org/1999/xlink\" width=\"237.48125pt\" height=\"183.35625pt\" viewBox=\"0 0 237.48125 183.35625\" xmlns=\"http://www.w3.org/2000/svg\" version=\"1.1\">\n <metadata>\n  <rdf:RDF xmlns:dc=\"http://purl.org/dc/elements/1.1/\" xmlns:cc=\"http://creativecommons.org/ns#\" xmlns:rdf=\"http://www.w3.org/1999/02/22-rdf-syntax-ns#\">\n   <cc:Work>\n    <dc:type rdf:resource=\"http://purl.org/dc/dcmitype/StillImage\"/>\n    <dc:date>2025-08-10T04:59:19.240216</dc:date>\n    <dc:format>image/svg+xml</dc:format>\n    <dc:creator>\n     <cc:Agent>\n      <dc:title>Matplotlib v3.7.2, https://matplotlib.org/</dc:title>\n     </cc:Agent>\n    </dc:creator>\n   </cc:Work>\n  </rdf:RDF>\n </metadata>\n <defs>\n  <style type=\"text/css\">*{stroke-linejoin: round; stroke-linecap: butt}</style>\n </defs>\n <g id=\"figure_1\">\n  <g id=\"patch_1\">\n   <path d=\"M 0 183.35625 \nL 237.48125 183.35625 \nL 237.48125 0 \nL 0 0 \nz\n\" style=\"fill: #ffffff\"/>\n  </g>\n  <g id=\"axes_1\">\n   <g id=\"patch_2\">\n    <path d=\"M 31.8 145.8 \nL 227.1 145.8 \nL 227.1 7.2 \nL 31.8 7.2 \nz\n\" style=\"fill: #ffffff\"/>\n   </g>\n   <g id=\"matplotlib.axis_1\">\n    <g id=\"xtick_1\">\n     <g id=\"line2d_1\">\n      <defs>\n       <path id=\"m33c148b1c5\" d=\"M 0 0 \nL 0 3.5 \n\" style=\"stroke: #000000; stroke-width: 0.8\"/>\n      </defs>\n      <g>\n       <use xlink:href=\"#m33c148b1c5\" x=\"31.8\" y=\"145.8\" style=\"stroke: #000000; stroke-width: 0.8\"/>\n      </g>\n     </g>\n     <g id=\"text_1\">\n      <!-- 0 -->\n      <g transform=\"translate(28.61875 160.398438) scale(0.1 -0.1)\">\n       <defs>\n        <path id=\"DejaVuSans-30\" d=\"M 2034 4250 \nQ 1547 4250 1301 3770 \nQ 1056 3291 1056 2328 \nQ 1056 1369 1301 889 \nQ 1547 409 2034 409 \nQ 2525 409 2770 889 \nQ 3016 1369 3016 2328 \nQ 3016 3291 2770 3770 \nQ 2525 4250 2034 4250 \nz\nM 2034 4750 \nQ 2819 4750 3233 4129 \nQ 3647 3509 3647 2328 \nQ 3647 1150 3233 529 \nQ 2819 -91 2034 -91 \nQ 1250 -91 836 529 \nQ 422 1150 422 2328 \nQ 422 3509 836 4129 \nQ 1250 4750 2034 4750 \nz\n\" transform=\"scale(0.015625)\"/>\n       </defs>\n       <use xlink:href=\"#DejaVuSans-30\"/>\n      </g>\n     </g>\n    </g>\n    <g id=\"xtick_2\">\n     <g id=\"line2d_2\">\n      <g>\n       <use xlink:href=\"#m33c148b1c5\" x=\"70.86\" y=\"145.8\" style=\"stroke: #000000; stroke-width: 0.8\"/>\n      </g>\n     </g>\n     <g id=\"text_2\">\n      <!-- 1 -->\n      <g transform=\"translate(67.67875 160.398438) scale(0.1 -0.1)\">\n       <defs>\n        <path id=\"DejaVuSans-31\" d=\"M 794 531 \nL 1825 531 \nL 1825 4091 \nL 703 3866 \nL 703 4441 \nL 1819 4666 \nL 2450 4666 \nL 2450 531 \nL 3481 531 \nL 3481 0 \nL 794 0 \nL 794 531 \nz\n\" transform=\"scale(0.015625)\"/>\n       </defs>\n       <use xlink:href=\"#DejaVuSans-31\"/>\n      </g>\n     </g>\n    </g>\n    <g id=\"xtick_3\">\n     <g id=\"line2d_3\">\n      <g>\n       <use xlink:href=\"#m33c148b1c5\" x=\"109.92\" y=\"145.8\" style=\"stroke: #000000; stroke-width: 0.8\"/>\n      </g>\n     </g>\n     <g id=\"text_3\">\n      <!-- 2 -->\n      <g transform=\"translate(106.73875 160.398438) scale(0.1 -0.1)\">\n       <defs>\n        <path id=\"DejaVuSans-32\" d=\"M 1228 531 \nL 3431 531 \nL 3431 0 \nL 469 0 \nL 469 531 \nQ 828 903 1448 1529 \nQ 2069 2156 2228 2338 \nQ 2531 2678 2651 2914 \nQ 2772 3150 2772 3378 \nQ 2772 3750 2511 3984 \nQ 2250 4219 1831 4219 \nQ 1534 4219 1204 4116 \nQ 875 4013 500 3803 \nL 500 4441 \nQ 881 4594 1212 4672 \nQ 1544 4750 1819 4750 \nQ 2544 4750 2975 4387 \nQ 3406 4025 3406 3419 \nQ 3406 3131 3298 2873 \nQ 3191 2616 2906 2266 \nQ 2828 2175 2409 1742 \nQ 1991 1309 1228 531 \nz\n\" transform=\"scale(0.015625)\"/>\n       </defs>\n       <use xlink:href=\"#DejaVuSans-32\"/>\n      </g>\n     </g>\n    </g>\n    <g id=\"xtick_4\">\n     <g id=\"line2d_4\">\n      <g>\n       <use xlink:href=\"#m33c148b1c5\" x=\"148.98\" y=\"145.8\" style=\"stroke: #000000; stroke-width: 0.8\"/>\n      </g>\n     </g>\n     <g id=\"text_4\">\n      <!-- 3 -->\n      <g transform=\"translate(145.79875 160.398438) scale(0.1 -0.1)\">\n       <defs>\n        <path id=\"DejaVuSans-33\" d=\"M 2597 2516 \nQ 3050 2419 3304 2112 \nQ 3559 1806 3559 1356 \nQ 3559 666 3084 287 \nQ 2609 -91 1734 -91 \nQ 1441 -91 1130 -33 \nQ 819 25 488 141 \nL 488 750 \nQ 750 597 1062 519 \nQ 1375 441 1716 441 \nQ 2309 441 2620 675 \nQ 2931 909 2931 1356 \nQ 2931 1769 2642 2001 \nQ 2353 2234 1838 2234 \nL 1294 2234 \nL 1294 2753 \nL 1863 2753 \nQ 2328 2753 2575 2939 \nQ 2822 3125 2822 3475 \nQ 2822 3834 2567 4026 \nQ 2313 4219 1838 4219 \nQ 1578 4219 1281 4162 \nQ 984 4106 628 3988 \nL 628 4550 \nQ 988 4650 1302 4700 \nQ 1616 4750 1894 4750 \nQ 2613 4750 3031 4423 \nQ 3450 4097 3450 3541 \nQ 3450 3153 3228 2886 \nQ 3006 2619 2597 2516 \nz\n\" transform=\"scale(0.015625)\"/>\n       </defs>\n       <use xlink:href=\"#DejaVuSans-33\"/>\n      </g>\n     </g>\n    </g>\n    <g id=\"xtick_5\">\n     <g id=\"line2d_5\">\n      <g>\n       <use xlink:href=\"#m33c148b1c5\" x=\"188.04\" y=\"145.8\" style=\"stroke: #000000; stroke-width: 0.8\"/>\n      </g>\n     </g>\n     <g id=\"text_5\">\n      <!-- 4 -->\n      <g transform=\"translate(184.85875 160.398438) scale(0.1 -0.1)\">\n       <defs>\n        <path id=\"DejaVuSans-34\" d=\"M 2419 4116 \nL 825 1625 \nL 2419 1625 \nL 2419 4116 \nz\nM 2253 4666 \nL 3047 4666 \nL 3047 1625 \nL 3713 1625 \nL 3713 1100 \nL 3047 1100 \nL 3047 0 \nL 2419 0 \nL 2419 1100 \nL 313 1100 \nL 313 1709 \nL 2253 4666 \nz\n\" transform=\"scale(0.015625)\"/>\n       </defs>\n       <use xlink:href=\"#DejaVuSans-34\"/>\n      </g>\n     </g>\n    </g>\n    <g id=\"xtick_6\">\n     <g id=\"line2d_6\">\n      <g>\n       <use xlink:href=\"#m33c148b1c5\" x=\"227.1\" y=\"145.8\" style=\"stroke: #000000; stroke-width: 0.8\"/>\n      </g>\n     </g>\n     <g id=\"text_6\">\n      <!-- 5 -->\n      <g transform=\"translate(223.91875 160.398438) scale(0.1 -0.1)\">\n       <defs>\n        <path id=\"DejaVuSans-35\" d=\"M 691 4666 \nL 3169 4666 \nL 3169 4134 \nL 1269 4134 \nL 1269 2991 \nQ 1406 3038 1543 3061 \nQ 1681 3084 1819 3084 \nQ 2600 3084 3056 2656 \nQ 3513 2228 3513 1497 \nQ 3513 744 3044 326 \nQ 2575 -91 1722 -91 \nQ 1428 -91 1123 -41 \nQ 819 9 494 109 \nL 494 744 \nQ 775 591 1075 516 \nQ 1375 441 1709 441 \nQ 2250 441 2565 725 \nQ 2881 1009 2881 1497 \nQ 2881 1984 2565 2268 \nQ 2250 2553 1709 2553 \nQ 1456 2553 1204 2497 \nQ 953 2441 691 2322 \nL 691 4666 \nz\n\" transform=\"scale(0.015625)\"/>\n       </defs>\n       <use xlink:href=\"#DejaVuSans-35\"/>\n      </g>\n     </g>\n    </g>\n    <g id=\"text_7\">\n     <!-- epoch -->\n     <g transform=\"translate(114.221875 174.076563) scale(0.1 -0.1)\">\n      <defs>\n       <path id=\"DejaVuSans-65\" d=\"M 3597 1894 \nL 3597 1613 \nL 953 1613 \nQ 991 1019 1311 708 \nQ 1631 397 2203 397 \nQ 2534 397 2845 478 \nQ 3156 559 3463 722 \nL 3463 178 \nQ 3153 47 2828 -22 \nQ 2503 -91 2169 -91 \nQ 1331 -91 842 396 \nQ 353 884 353 1716 \nQ 353 2575 817 3079 \nQ 1281 3584 2069 3584 \nQ 2775 3584 3186 3129 \nQ 3597 2675 3597 1894 \nz\nM 3022 2063 \nQ 3016 2534 2758 2815 \nQ 2500 3097 2075 3097 \nQ 1594 3097 1305 2825 \nQ 1016 2553 972 2059 \nL 3022 2063 \nz\n\" transform=\"scale(0.015625)\"/>\n       <path id=\"DejaVuSans-70\" d=\"M 1159 525 \nL 1159 -1331 \nL 581 -1331 \nL 581 3500 \nL 1159 3500 \nL 1159 2969 \nQ 1341 3281 1617 3432 \nQ 1894 3584 2278 3584 \nQ 2916 3584 3314 3078 \nQ 3713 2572 3713 1747 \nQ 3713 922 3314 415 \nQ 2916 -91 2278 -91 \nQ 1894 -91 1617 61 \nQ 1341 213 1159 525 \nz\nM 3116 1747 \nQ 3116 2381 2855 2742 \nQ 2594 3103 2138 3103 \nQ 1681 3103 1420 2742 \nQ 1159 2381 1159 1747 \nQ 1159 1113 1420 752 \nQ 1681 391 2138 391 \nQ 2594 391 2855 752 \nQ 3116 1113 3116 1747 \nz\n\" transform=\"scale(0.015625)\"/>\n       <path id=\"DejaVuSans-6f\" d=\"M 1959 3097 \nQ 1497 3097 1228 2736 \nQ 959 2375 959 1747 \nQ 959 1119 1226 758 \nQ 1494 397 1959 397 \nQ 2419 397 2687 759 \nQ 2956 1122 2956 1747 \nQ 2956 2369 2687 2733 \nQ 2419 3097 1959 3097 \nz\nM 1959 3584 \nQ 2709 3584 3137 3096 \nQ 3566 2609 3566 1747 \nQ 3566 888 3137 398 \nQ 2709 -91 1959 -91 \nQ 1206 -91 779 398 \nQ 353 888 353 1747 \nQ 353 2609 779 3096 \nQ 1206 3584 1959 3584 \nz\n\" transform=\"scale(0.015625)\"/>\n       <path id=\"DejaVuSans-63\" d=\"M 3122 3366 \nL 3122 2828 \nQ 2878 2963 2633 3030 \nQ 2388 3097 2138 3097 \nQ 1578 3097 1268 2742 \nQ 959 2388 959 1747 \nQ 959 1106 1268 751 \nQ 1578 397 2138 397 \nQ 2388 397 2633 464 \nQ 2878 531 3122 666 \nL 3122 134 \nQ 2881 22 2623 -34 \nQ 2366 -91 2075 -91 \nQ 1284 -91 818 406 \nQ 353 903 353 1747 \nQ 353 2603 823 3093 \nQ 1294 3584 2113 3584 \nQ 2378 3584 2631 3529 \nQ 2884 3475 3122 3366 \nz\n\" transform=\"scale(0.015625)\"/>\n       <path id=\"DejaVuSans-68\" d=\"M 3513 2113 \nL 3513 0 \nL 2938 0 \nL 2938 2094 \nQ 2938 2591 2744 2837 \nQ 2550 3084 2163 3084 \nQ 1697 3084 1428 2787 \nQ 1159 2491 1159 1978 \nL 1159 0 \nL 581 0 \nL 581 4863 \nL 1159 4863 \nL 1159 2956 \nQ 1366 3272 1645 3428 \nQ 1925 3584 2291 3584 \nQ 2894 3584 3203 3211 \nQ 3513 2838 3513 2113 \nz\n\" transform=\"scale(0.015625)\"/>\n      </defs>\n      <use xlink:href=\"#DejaVuSans-65\"/>\n      <use xlink:href=\"#DejaVuSans-70\" x=\"61.523438\"/>\n      <use xlink:href=\"#DejaVuSans-6f\" x=\"125\"/>\n      <use xlink:href=\"#DejaVuSans-63\" x=\"186.181641\"/>\n      <use xlink:href=\"#DejaVuSans-68\" x=\"241.162109\"/>\n     </g>\n    </g>\n   </g>\n   <g id=\"matplotlib.axis_2\">\n    <g id=\"ytick_1\">\n     <g id=\"line2d_7\">\n      <defs>\n       <path id=\"mc73a1c0517\" d=\"M 0 0 \nL -3.5 0 \n\" style=\"stroke: #000000; stroke-width: 0.8\"/>\n      </defs>\n      <g>\n       <use xlink:href=\"#mc73a1c0517\" x=\"31.8\" y=\"131.429148\" style=\"stroke: #000000; stroke-width: 0.8\"/>\n      </g>\n     </g>\n     <g id=\"text_8\">\n      <!-- $\\mathdefault{10^{0}}$ -->\n      <g transform=\"translate(7.2 135.228366) scale(0.1 -0.1)\">\n       <use xlink:href=\"#DejaVuSans-31\" transform=\"translate(0 0.765625)\"/>\n       <use xlink:href=\"#DejaVuSans-30\" transform=\"translate(63.623047 0.765625)\"/>\n       <use xlink:href=\"#DejaVuSans-30\" transform=\"translate(128.203125 39.046875) scale(0.7)\"/>\n      </g>\n     </g>\n    </g>\n    <g id=\"ytick_2\">\n     <g id=\"line2d_8\">\n      <g>\n       <use xlink:href=\"#mc73a1c0517\" x=\"31.8\" y=\"65.644806\" style=\"stroke: #000000; stroke-width: 0.8\"/>\n      </g>\n     </g>\n     <g id=\"text_9\">\n      <!-- $\\mathdefault{10^{1}}$ -->\n      <g transform=\"translate(7.2 69.444025) scale(0.1 -0.1)\">\n       <use xlink:href=\"#DejaVuSans-31\" transform=\"translate(0 0.684375)\"/>\n       <use xlink:href=\"#DejaVuSans-30\" transform=\"translate(63.623047 0.684375)\"/>\n       <use xlink:href=\"#DejaVuSans-31\" transform=\"translate(128.203125 38.965625) scale(0.7)\"/>\n      </g>\n     </g>\n    </g>\n    <g id=\"ytick_3\">\n     <g id=\"line2d_9\">\n      <defs>\n       <path id=\"mac53dfc21e\" d=\"M 0 0 \nL -2 0 \n\" style=\"stroke: #000000; stroke-width: 0.6\"/>\n      </defs>\n      <g>\n       <use xlink:href=\"#mac53dfc21e\" x=\"31.8\" y=\"141.619271\" style=\"stroke: #000000; stroke-width: 0.6\"/>\n      </g>\n     </g>\n    </g>\n    <g id=\"ytick_4\">\n     <g id=\"line2d_10\">\n      <g>\n       <use xlink:href=\"#mac53dfc21e\" x=\"31.8\" y=\"137.804309\" style=\"stroke: #000000; stroke-width: 0.6\"/>\n      </g>\n     </g>\n    </g>\n    <g id=\"ytick_5\">\n     <g id=\"line2d_11\">\n      <g>\n       <use xlink:href=\"#mac53dfc21e\" x=\"31.8\" y=\"134.439274\" style=\"stroke: #000000; stroke-width: 0.6\"/>\n      </g>\n     </g>\n    </g>\n    <g id=\"ytick_6\">\n     <g id=\"line2d_12\">\n      <g>\n       <use xlink:href=\"#mac53dfc21e\" x=\"31.8\" y=\"111.626088\" style=\"stroke: #000000; stroke-width: 0.6\"/>\n      </g>\n     </g>\n    </g>\n    <g id=\"ytick_7\">\n     <g id=\"line2d_13\">\n      <g>\n       <use xlink:href=\"#mac53dfc21e\" x=\"31.8\" y=\"100.04204\" style=\"stroke: #000000; stroke-width: 0.6\"/>\n      </g>\n     </g>\n    </g>\n    <g id=\"ytick_8\">\n     <g id=\"line2d_14\">\n      <g>\n       <use xlink:href=\"#mac53dfc21e\" x=\"31.8\" y=\"91.823028\" style=\"stroke: #000000; stroke-width: 0.6\"/>\n      </g>\n     </g>\n    </g>\n    <g id=\"ytick_9\">\n     <g id=\"line2d_15\">\n      <g>\n       <use xlink:href=\"#mac53dfc21e\" x=\"31.8\" y=\"85.447866\" style=\"stroke: #000000; stroke-width: 0.6\"/>\n      </g>\n     </g>\n    </g>\n    <g id=\"ytick_10\">\n     <g id=\"line2d_16\">\n      <g>\n       <use xlink:href=\"#mac53dfc21e\" x=\"31.8\" y=\"80.23898\" style=\"stroke: #000000; stroke-width: 0.6\"/>\n      </g>\n     </g>\n    </g>\n    <g id=\"ytick_11\">\n     <g id=\"line2d_17\">\n      <g>\n       <use xlink:href=\"#mac53dfc21e\" x=\"31.8\" y=\"75.83493\" style=\"stroke: #000000; stroke-width: 0.6\"/>\n      </g>\n     </g>\n    </g>\n    <g id=\"ytick_12\">\n     <g id=\"line2d_18\">\n      <g>\n       <use xlink:href=\"#mac53dfc21e\" x=\"31.8\" y=\"72.019968\" style=\"stroke: #000000; stroke-width: 0.6\"/>\n      </g>\n     </g>\n    </g>\n    <g id=\"ytick_13\">\n     <g id=\"line2d_19\">\n      <g>\n       <use xlink:href=\"#mac53dfc21e\" x=\"31.8\" y=\"68.654933\" style=\"stroke: #000000; stroke-width: 0.6\"/>\n      </g>\n     </g>\n    </g>\n    <g id=\"ytick_14\">\n     <g id=\"line2d_20\">\n      <g>\n       <use xlink:href=\"#mac53dfc21e\" x=\"31.8\" y=\"45.841746\" style=\"stroke: #000000; stroke-width: 0.6\"/>\n      </g>\n     </g>\n    </g>\n    <g id=\"ytick_15\">\n     <g id=\"line2d_21\">\n      <g>\n       <use xlink:href=\"#mac53dfc21e\" x=\"31.8\" y=\"34.257699\" style=\"stroke: #000000; stroke-width: 0.6\"/>\n      </g>\n     </g>\n    </g>\n    <g id=\"ytick_16\">\n     <g id=\"line2d_22\">\n      <g>\n       <use xlink:href=\"#mac53dfc21e\" x=\"31.8\" y=\"26.038686\" style=\"stroke: #000000; stroke-width: 0.6\"/>\n      </g>\n     </g>\n    </g>\n    <g id=\"ytick_17\">\n     <g id=\"line2d_23\">\n      <g>\n       <use xlink:href=\"#mac53dfc21e\" x=\"31.8\" y=\"19.663525\" style=\"stroke: #000000; stroke-width: 0.6\"/>\n      </g>\n     </g>\n    </g>\n    <g id=\"ytick_18\">\n     <g id=\"line2d_24\">\n      <g>\n       <use xlink:href=\"#mac53dfc21e\" x=\"31.8\" y=\"14.454639\" style=\"stroke: #000000; stroke-width: 0.6\"/>\n      </g>\n     </g>\n    </g>\n    <g id=\"ytick_19\">\n     <g id=\"line2d_25\">\n      <g>\n       <use xlink:href=\"#mac53dfc21e\" x=\"31.8\" y=\"10.050588\" style=\"stroke: #000000; stroke-width: 0.6\"/>\n      </g>\n     </g>\n    </g>\n   </g>\n   <g id=\"line2d_26\">\n    <path d=\"M 40.773243 13.5 \n\" clip-path=\"url(#p71fe2967ad)\" style=\"fill: none; stroke: #1f77b4; stroke-width: 1.5; stroke-linecap: square\"/>\n   </g>\n   <g id=\"line2d_27\">\n    <path d=\"M 40.773243 13.5 \nL 59.775405 72.558679 \n\" clip-path=\"url(#p71fe2967ad)\" style=\"fill: none; stroke: #1f77b4; stroke-width: 1.5; stroke-linecap: square\"/>\n   </g>\n   <g id=\"line2d_28\">\n    <path d=\"M 40.773243 13.5 \nL 59.775405 72.558679 \n\" clip-path=\"url(#p71fe2967ad)\" style=\"fill: none; stroke: #1f77b4; stroke-width: 1.5; stroke-linecap: square\"/>\n   </g>\n   <g id=\"line2d_29\">\n    <path d=\"M 70.86 104.136803 \n\" clip-path=\"url(#p71fe2967ad)\" style=\"fill: none; stroke-dasharray: 5.55,2.4; stroke-dashoffset: 0; stroke: #ff7f0e; stroke-width: 1.5\"/>\n   </g>\n   <g id=\"line2d_30\">\n    <path d=\"M 40.773243 13.5 \nL 59.775405 72.558679 \nL 78.777568 120.568968 \n\" clip-path=\"url(#p71fe2967ad)\" style=\"fill: none; stroke: #1f77b4; stroke-width: 1.5; stroke-linecap: square\"/>\n   </g>\n   <g id=\"line2d_31\">\n    <path d=\"M 70.86 104.136803 \n\" clip-path=\"url(#p71fe2967ad)\" style=\"fill: none; stroke-dasharray: 5.55,2.4; stroke-dashoffset: 0; stroke: #ff7f0e; stroke-width: 1.5\"/>\n   </g>\n   <g id=\"line2d_32\">\n    <path d=\"M 40.773243 13.5 \nL 59.775405 72.558679 \nL 78.777568 120.568968 \nL 97.77973 138.490619 \n\" clip-path=\"url(#p71fe2967ad)\" style=\"fill: none; stroke: #1f77b4; stroke-width: 1.5; stroke-linecap: square\"/>\n   </g>\n   <g id=\"line2d_33\">\n    <path d=\"M 70.86 104.136803 \n\" clip-path=\"url(#p71fe2967ad)\" style=\"fill: none; stroke-dasharray: 5.55,2.4; stroke-dashoffset: 0; stroke: #ff7f0e; stroke-width: 1.5\"/>\n   </g>\n   <g id=\"line2d_34\">\n    <path d=\"M 40.773243 13.5 \nL 59.775405 72.558679 \nL 78.777568 120.568968 \nL 97.77973 138.490619 \n\" clip-path=\"url(#p71fe2967ad)\" style=\"fill: none; stroke: #1f77b4; stroke-width: 1.5; stroke-linecap: square\"/>\n   </g>\n   <g id=\"line2d_35\">\n    <path d=\"M 70.86 104.136803 \nL 109.92 139.5 \n\" clip-path=\"url(#p71fe2967ad)\" style=\"fill: none; stroke-dasharray: 5.55,2.4; stroke-dashoffset: 0; stroke: #ff7f0e; stroke-width: 1.5\"/>\n   </g>\n   <g id=\"patch_3\">\n    <path d=\"M 31.8 145.8 \nL 31.8 7.2 \n\" style=\"fill: none; stroke: #000000; stroke-width: 0.8; stroke-linejoin: miter; stroke-linecap: square\"/>\n   </g>\n   <g id=\"patch_4\">\n    <path d=\"M 227.1 145.8 \nL 227.1 7.2 \n\" style=\"fill: none; stroke: #000000; stroke-width: 0.8; stroke-linejoin: miter; stroke-linecap: square\"/>\n   </g>\n   <g id=\"patch_5\">\n    <path d=\"M 31.8 145.8 \nL 227.1 145.8 \n\" style=\"fill: none; stroke: #000000; stroke-width: 0.8; stroke-linejoin: miter; stroke-linecap: square\"/>\n   </g>\n   <g id=\"patch_6\">\n    <path d=\"M 31.8 7.2 \nL 227.1 7.2 \n\" style=\"fill: none; stroke: #000000; stroke-width: 0.8; stroke-linejoin: miter; stroke-linecap: square\"/>\n   </g>\n   <g id=\"legend_1\">\n    <g id=\"patch_7\">\n     <path d=\"M 140.509375 45.1125 \nL 220.1 45.1125 \nQ 222.1 45.1125 222.1 43.1125 \nL 222.1 14.2 \nQ 222.1 12.2 220.1 12.2 \nL 140.509375 12.2 \nQ 138.509375 12.2 138.509375 14.2 \nL 138.509375 43.1125 \nQ 138.509375 45.1125 140.509375 45.1125 \nz\n\" style=\"fill: #ffffff; opacity: 0.8; stroke: #cccccc; stroke-linejoin: miter\"/>\n    </g>\n    <g id=\"line2d_36\">\n     <path d=\"M 142.509375 20.298438 \nL 152.509375 20.298438 \nL 162.509375 20.298438 \n\" style=\"fill: none; stroke: #1f77b4; stroke-width: 1.5; stroke-linecap: square\"/>\n    </g>\n    <g id=\"text_10\">\n     <!-- train_loss -->\n     <g transform=\"translate(170.509375 23.798438) scale(0.1 -0.1)\">\n      <defs>\n       <path id=\"DejaVuSans-74\" d=\"M 1172 4494 \nL 1172 3500 \nL 2356 3500 \nL 2356 3053 \nL 1172 3053 \nL 1172 1153 \nQ 1172 725 1289 603 \nQ 1406 481 1766 481 \nL 2356 481 \nL 2356 0 \nL 1766 0 \nQ 1100 0 847 248 \nQ 594 497 594 1153 \nL 594 3053 \nL 172 3053 \nL 172 3500 \nL 594 3500 \nL 594 4494 \nL 1172 4494 \nz\n\" transform=\"scale(0.015625)\"/>\n       <path id=\"DejaVuSans-72\" d=\"M 2631 2963 \nQ 2534 3019 2420 3045 \nQ 2306 3072 2169 3072 \nQ 1681 3072 1420 2755 \nQ 1159 2438 1159 1844 \nL 1159 0 \nL 581 0 \nL 581 3500 \nL 1159 3500 \nL 1159 2956 \nQ 1341 3275 1631 3429 \nQ 1922 3584 2338 3584 \nQ 2397 3584 2469 3576 \nQ 2541 3569 2628 3553 \nL 2631 2963 \nz\n\" transform=\"scale(0.015625)\"/>\n       <path id=\"DejaVuSans-61\" d=\"M 2194 1759 \nQ 1497 1759 1228 1600 \nQ 959 1441 959 1056 \nQ 959 750 1161 570 \nQ 1363 391 1709 391 \nQ 2188 391 2477 730 \nQ 2766 1069 2766 1631 \nL 2766 1759 \nL 2194 1759 \nz\nM 3341 1997 \nL 3341 0 \nL 2766 0 \nL 2766 531 \nQ 2569 213 2275 61 \nQ 1981 -91 1556 -91 \nQ 1019 -91 701 211 \nQ 384 513 384 1019 \nQ 384 1609 779 1909 \nQ 1175 2209 1959 2209 \nL 2766 2209 \nL 2766 2266 \nQ 2766 2663 2505 2880 \nQ 2244 3097 1772 3097 \nQ 1472 3097 1187 3025 \nQ 903 2953 641 2809 \nL 641 3341 \nQ 956 3463 1253 3523 \nQ 1550 3584 1831 3584 \nQ 2591 3584 2966 3190 \nQ 3341 2797 3341 1997 \nz\n\" transform=\"scale(0.015625)\"/>\n       <path id=\"DejaVuSans-69\" d=\"M 603 3500 \nL 1178 3500 \nL 1178 0 \nL 603 0 \nL 603 3500 \nz\nM 603 4863 \nL 1178 4863 \nL 1178 4134 \nL 603 4134 \nL 603 4863 \nz\n\" transform=\"scale(0.015625)\"/>\n       <path id=\"DejaVuSans-6e\" d=\"M 3513 2113 \nL 3513 0 \nL 2938 0 \nL 2938 2094 \nQ 2938 2591 2744 2837 \nQ 2550 3084 2163 3084 \nQ 1697 3084 1428 2787 \nQ 1159 2491 1159 1978 \nL 1159 0 \nL 581 0 \nL 581 3500 \nL 1159 3500 \nL 1159 2956 \nQ 1366 3272 1645 3428 \nQ 1925 3584 2291 3584 \nQ 2894 3584 3203 3211 \nQ 3513 2838 3513 2113 \nz\n\" transform=\"scale(0.015625)\"/>\n       <path id=\"DejaVuSans-5f\" d=\"M 3263 -1063 \nL 3263 -1509 \nL -63 -1509 \nL -63 -1063 \nL 3263 -1063 \nz\n\" transform=\"scale(0.015625)\"/>\n       <path id=\"DejaVuSans-6c\" d=\"M 603 4863 \nL 1178 4863 \nL 1178 0 \nL 603 0 \nL 603 4863 \nz\n\" transform=\"scale(0.015625)\"/>\n       <path id=\"DejaVuSans-73\" d=\"M 2834 3397 \nL 2834 2853 \nQ 2591 2978 2328 3040 \nQ 2066 3103 1784 3103 \nQ 1356 3103 1142 2972 \nQ 928 2841 928 2578 \nQ 928 2378 1081 2264 \nQ 1234 2150 1697 2047 \nL 1894 2003 \nQ 2506 1872 2764 1633 \nQ 3022 1394 3022 966 \nQ 3022 478 2636 193 \nQ 2250 -91 1575 -91 \nQ 1294 -91 989 -36 \nQ 684 19 347 128 \nL 347 722 \nQ 666 556 975 473 \nQ 1284 391 1588 391 \nQ 1994 391 2212 530 \nQ 2431 669 2431 922 \nQ 2431 1156 2273 1281 \nQ 2116 1406 1581 1522 \nL 1381 1569 \nQ 847 1681 609 1914 \nQ 372 2147 372 2553 \nQ 372 3047 722 3315 \nQ 1072 3584 1716 3584 \nQ 2034 3584 2315 3537 \nQ 2597 3491 2834 3397 \nz\n\" transform=\"scale(0.015625)\"/>\n      </defs>\n      <use xlink:href=\"#DejaVuSans-74\"/>\n      <use xlink:href=\"#DejaVuSans-72\" x=\"39.208984\"/>\n      <use xlink:href=\"#DejaVuSans-61\" x=\"80.322266\"/>\n      <use xlink:href=\"#DejaVuSans-69\" x=\"141.601562\"/>\n      <use xlink:href=\"#DejaVuSans-6e\" x=\"169.384766\"/>\n      <use xlink:href=\"#DejaVuSans-5f\" x=\"232.763672\"/>\n      <use xlink:href=\"#DejaVuSans-6c\" x=\"282.763672\"/>\n      <use xlink:href=\"#DejaVuSans-6f\" x=\"310.546875\"/>\n      <use xlink:href=\"#DejaVuSans-73\" x=\"371.728516\"/>\n      <use xlink:href=\"#DejaVuSans-73\" x=\"423.828125\"/>\n     </g>\n    </g>\n    <g id=\"line2d_37\">\n     <path d=\"M 142.509375 35.254688 \nL 152.509375 35.254688 \nL 162.509375 35.254688 \n\" style=\"fill: none; stroke-dasharray: 5.55,2.4; stroke-dashoffset: 0; stroke: #ff7f0e; stroke-width: 1.5\"/>\n    </g>\n    <g id=\"text_11\">\n     <!-- val_loss -->\n     <g transform=\"translate(170.509375 38.754688) scale(0.1 -0.1)\">\n      <defs>\n       <path id=\"DejaVuSans-76\" d=\"M 191 3500 \nL 800 3500 \nL 1894 563 \nL 2988 3500 \nL 3597 3500 \nL 2284 0 \nL 1503 0 \nL 191 3500 \nz\n\" transform=\"scale(0.015625)\"/>\n      </defs>\n      <use xlink:href=\"#DejaVuSans-76\"/>\n      <use xlink:href=\"#DejaVuSans-61\" x=\"59.179688\"/>\n      <use xlink:href=\"#DejaVuSans-6c\" x=\"120.458984\"/>\n      <use xlink:href=\"#DejaVuSans-5f\" x=\"148.242188\"/>\n      <use xlink:href=\"#DejaVuSans-6c\" x=\"198.242188\"/>\n      <use xlink:href=\"#DejaVuSans-6f\" x=\"226.025391\"/>\n      <use xlink:href=\"#DejaVuSans-73\" x=\"287.207031\"/>\n      <use xlink:href=\"#DejaVuSans-73\" x=\"339.306641\"/>\n     </g>\n    </g>\n   </g>\n  </g>\n </g>\n <defs>\n  <clipPath id=\"p71fe2967ad\">\n   <rect x=\"31.8\" y=\"7.2\" width=\"195.3\" height=\"138.6\"/>\n  </clipPath>\n </defs>\n</svg>\n"
          },
          "metadata": {}
        }
      ]
    },
    {
      "cell_type": "code",
      "source": [
        "average_val_log_mses"
      ],
      "metadata": {
        "colab": {
          "base_uri": "https://localhost:8080/"
        },
        "id": "0wWUzSKrRXNJ",
        "outputId": "9e6561ef-697b-42dc-99c9-f574b9b409b4"
      },
      "id": "0wWUzSKrRXNJ",
      "execution_count": null,
      "outputs": [
        {
          "output_type": "execute_result",
          "data": {
            "text/plain": [
              "[0.48681517273187636,\n",
              " 0.19609333127737044,\n",
              " nan,\n",
              " 0.5652838563919067,\n",
              " 0.2685654193162918,\n",
              " nan,\n",
              " 0.982044259707133,\n",
              " 0.34091431498527525,\n",
              " inf,\n",
              " 0.3988894873857498,\n",
              " 0.12721845775842666,\n",
              " nan,\n",
              " 0.5017150151729585,\n",
              " 0.18957324981689455,\n",
              " nan,\n",
              " 0.5404897451400756,\n",
              " 0.25473682483037313,\n",
              " nan,\n",
              " 0.2987891057133675,\n",
              " 0.08424817580729724,\n",
              " nan,\n",
              " 0.3673030614852905,\n",
              " 0.11806958705186843,\n",
              " nan,\n",
              " 0.47108403245608016,\n",
              " 0.17292685558398563,\n",
              " nan]"
            ]
          },
          "metadata": {},
          "execution_count": 42
        }
      ]
    },
    {
      "cell_type": "code",
      "source": [
        "for i, combo in enumerate(product(*values)):\n",
        "  params = dict(zip(keys, combo))\n",
        "  if i == 19:\n",
        "    print(params)"
      ],
      "metadata": {
        "colab": {
          "base_uri": "https://localhost:8080/"
        },
        "id": "q5tpbyU9RiEP",
        "outputId": "85145d46-76f9-46d4-9576-b33109db2ff9"
      },
      "id": "q5tpbyU9RiEP",
      "execution_count": null,
      "outputs": [
        {
          "output_type": "stream",
          "name": "stdout",
          "text": [
            "{'epoch': 20, 'batch_size': 32, 'lr': 0.01}\n"
          ]
        }
      ]
    },
    {
      "cell_type": "code",
      "source": [
        "data = KaggleHouse(batch_size=32)\n",
        "data.preprocess()\n",
        "trainer = d2l.Trainer(max_epochs=20)\n",
        "h_models, average_val_log_mse = k_fold(trainer, data, k=5, lr=0.01)\n",
        "print(average_val_log_mse)"
      ],
      "metadata": {
        "colab": {
          "base_uri": "https://localhost:8080/",
          "height": 301
        },
        "id": "Bwnzqri_R5Qi",
        "outputId": "78db4951-f56c-46cd-c7af-a6a65d4e4b5f"
      },
      "id": "Bwnzqri_R5Qi",
      "execution_count": null,
      "outputs": [
        {
          "output_type": "stream",
          "name": "stdout",
          "text": [
            "average validation log mse = 0.08697047227062285\n",
            "0.08697047227062285\n"
          ]
        },
        {
          "output_type": "display_data",
          "data": {
            "text/plain": [
              "<Figure size 350x250 with 1 Axes>"
            ],
            "image/svg+xml": "<?xml version=\"1.0\" encoding=\"utf-8\" standalone=\"no\"?>\n<!DOCTYPE svg PUBLIC \"-//W3C//DTD SVG 1.1//EN\"\n  \"http://www.w3.org/Graphics/SVG/1.1/DTD/svg11.dtd\">\n<svg xmlns:xlink=\"http://www.w3.org/1999/xlink\" width=\"246.5625pt\" height=\"183.35625pt\" viewBox=\"0 0 246.5625 183.35625\" xmlns=\"http://www.w3.org/2000/svg\" version=\"1.1\">\n <metadata>\n  <rdf:RDF xmlns:dc=\"http://purl.org/dc/elements/1.1/\" xmlns:cc=\"http://creativecommons.org/ns#\" xmlns:rdf=\"http://www.w3.org/1999/02/22-rdf-syntax-ns#\">\n   <cc:Work>\n    <dc:type rdf:resource=\"http://purl.org/dc/dcmitype/StillImage\"/>\n    <dc:date>2025-08-10T04:42:11.269452</dc:date>\n    <dc:format>image/svg+xml</dc:format>\n    <dc:creator>\n     <cc:Agent>\n      <dc:title>Matplotlib v3.7.2, https://matplotlib.org/</dc:title>\n     </cc:Agent>\n    </dc:creator>\n   </cc:Work>\n  </rdf:RDF>\n </metadata>\n <defs>\n  <style type=\"text/css\">*{stroke-linejoin: round; stroke-linecap: butt}</style>\n </defs>\n <g id=\"figure_1\">\n  <g id=\"patch_1\">\n   <path d=\"M 0 183.35625 \nL 246.5625 183.35625 \nL 246.5625 0 \nL 0 0 \nz\n\" style=\"fill: #ffffff\"/>\n  </g>\n  <g id=\"axes_1\">\n   <g id=\"patch_2\">\n    <path d=\"M 37.7 145.8 \nL 233 145.8 \nL 233 7.2 \nL 37.7 7.2 \nz\n\" style=\"fill: #ffffff\"/>\n   </g>\n   <g id=\"matplotlib.axis_1\">\n    <g id=\"xtick_1\">\n     <g id=\"line2d_1\">\n      <defs>\n       <path id=\"m2ae612f4f4\" d=\"M 0 0 \nL 0 3.5 \n\" style=\"stroke: #000000; stroke-width: 0.8\"/>\n      </defs>\n      <g>\n       <use xlink:href=\"#m2ae612f4f4\" x=\"37.7\" y=\"145.8\" style=\"stroke: #000000; stroke-width: 0.8\"/>\n      </g>\n     </g>\n     <g id=\"text_1\">\n      <!-- 0 -->\n      <g transform=\"translate(34.51875 160.398438) scale(0.1 -0.1)\">\n       <defs>\n        <path id=\"DejaVuSans-30\" d=\"M 2034 4250 \nQ 1547 4250 1301 3770 \nQ 1056 3291 1056 2328 \nQ 1056 1369 1301 889 \nQ 1547 409 2034 409 \nQ 2525 409 2770 889 \nQ 3016 1369 3016 2328 \nQ 3016 3291 2770 3770 \nQ 2525 4250 2034 4250 \nz\nM 2034 4750 \nQ 2819 4750 3233 4129 \nQ 3647 3509 3647 2328 \nQ 3647 1150 3233 529 \nQ 2819 -91 2034 -91 \nQ 1250 -91 836 529 \nQ 422 1150 422 2328 \nQ 422 3509 836 4129 \nQ 1250 4750 2034 4750 \nz\n\" transform=\"scale(0.015625)\"/>\n       </defs>\n       <use xlink:href=\"#DejaVuSans-30\"/>\n      </g>\n     </g>\n    </g>\n    <g id=\"xtick_2\">\n     <g id=\"line2d_2\">\n      <g>\n       <use xlink:href=\"#m2ae612f4f4\" x=\"86.525\" y=\"145.8\" style=\"stroke: #000000; stroke-width: 0.8\"/>\n      </g>\n     </g>\n     <g id=\"text_2\">\n      <!-- 5 -->\n      <g transform=\"translate(83.34375 160.398438) scale(0.1 -0.1)\">\n       <defs>\n        <path id=\"DejaVuSans-35\" d=\"M 691 4666 \nL 3169 4666 \nL 3169 4134 \nL 1269 4134 \nL 1269 2991 \nQ 1406 3038 1543 3061 \nQ 1681 3084 1819 3084 \nQ 2600 3084 3056 2656 \nQ 3513 2228 3513 1497 \nQ 3513 744 3044 326 \nQ 2575 -91 1722 -91 \nQ 1428 -91 1123 -41 \nQ 819 9 494 109 \nL 494 744 \nQ 775 591 1075 516 \nQ 1375 441 1709 441 \nQ 2250 441 2565 725 \nQ 2881 1009 2881 1497 \nQ 2881 1984 2565 2268 \nQ 2250 2553 1709 2553 \nQ 1456 2553 1204 2497 \nQ 953 2441 691 2322 \nL 691 4666 \nz\n\" transform=\"scale(0.015625)\"/>\n       </defs>\n       <use xlink:href=\"#DejaVuSans-35\"/>\n      </g>\n     </g>\n    </g>\n    <g id=\"xtick_3\">\n     <g id=\"line2d_3\">\n      <g>\n       <use xlink:href=\"#m2ae612f4f4\" x=\"135.35\" y=\"145.8\" style=\"stroke: #000000; stroke-width: 0.8\"/>\n      </g>\n     </g>\n     <g id=\"text_3\">\n      <!-- 10 -->\n      <g transform=\"translate(128.9875 160.398438) scale(0.1 -0.1)\">\n       <defs>\n        <path id=\"DejaVuSans-31\" d=\"M 794 531 \nL 1825 531 \nL 1825 4091 \nL 703 3866 \nL 703 4441 \nL 1819 4666 \nL 2450 4666 \nL 2450 531 \nL 3481 531 \nL 3481 0 \nL 794 0 \nL 794 531 \nz\n\" transform=\"scale(0.015625)\"/>\n       </defs>\n       <use xlink:href=\"#DejaVuSans-31\"/>\n       <use xlink:href=\"#DejaVuSans-30\" x=\"63.623047\"/>\n      </g>\n     </g>\n    </g>\n    <g id=\"xtick_4\">\n     <g id=\"line2d_4\">\n      <g>\n       <use xlink:href=\"#m2ae612f4f4\" x=\"184.175\" y=\"145.8\" style=\"stroke: #000000; stroke-width: 0.8\"/>\n      </g>\n     </g>\n     <g id=\"text_4\">\n      <!-- 15 -->\n      <g transform=\"translate(177.8125 160.398438) scale(0.1 -0.1)\">\n       <use xlink:href=\"#DejaVuSans-31\"/>\n       <use xlink:href=\"#DejaVuSans-35\" x=\"63.623047\"/>\n      </g>\n     </g>\n    </g>\n    <g id=\"xtick_5\">\n     <g id=\"line2d_5\">\n      <g>\n       <use xlink:href=\"#m2ae612f4f4\" x=\"233\" y=\"145.8\" style=\"stroke: #000000; stroke-width: 0.8\"/>\n      </g>\n     </g>\n     <g id=\"text_5\">\n      <!-- 20 -->\n      <g transform=\"translate(226.6375 160.398438) scale(0.1 -0.1)\">\n       <defs>\n        <path id=\"DejaVuSans-32\" d=\"M 1228 531 \nL 3431 531 \nL 3431 0 \nL 469 0 \nL 469 531 \nQ 828 903 1448 1529 \nQ 2069 2156 2228 2338 \nQ 2531 2678 2651 2914 \nQ 2772 3150 2772 3378 \nQ 2772 3750 2511 3984 \nQ 2250 4219 1831 4219 \nQ 1534 4219 1204 4116 \nQ 875 4013 500 3803 \nL 500 4441 \nQ 881 4594 1212 4672 \nQ 1544 4750 1819 4750 \nQ 2544 4750 2975 4387 \nQ 3406 4025 3406 3419 \nQ 3406 3131 3298 2873 \nQ 3191 2616 2906 2266 \nQ 2828 2175 2409 1742 \nQ 1991 1309 1228 531 \nz\n\" transform=\"scale(0.015625)\"/>\n       </defs>\n       <use xlink:href=\"#DejaVuSans-32\"/>\n       <use xlink:href=\"#DejaVuSans-30\" x=\"63.623047\"/>\n      </g>\n     </g>\n    </g>\n    <g id=\"text_6\">\n     <!-- epoch -->\n     <g transform=\"translate(120.121875 174.076563) scale(0.1 -0.1)\">\n      <defs>\n       <path id=\"DejaVuSans-65\" d=\"M 3597 1894 \nL 3597 1613 \nL 953 1613 \nQ 991 1019 1311 708 \nQ 1631 397 2203 397 \nQ 2534 397 2845 478 \nQ 3156 559 3463 722 \nL 3463 178 \nQ 3153 47 2828 -22 \nQ 2503 -91 2169 -91 \nQ 1331 -91 842 396 \nQ 353 884 353 1716 \nQ 353 2575 817 3079 \nQ 1281 3584 2069 3584 \nQ 2775 3584 3186 3129 \nQ 3597 2675 3597 1894 \nz\nM 3022 2063 \nQ 3016 2534 2758 2815 \nQ 2500 3097 2075 3097 \nQ 1594 3097 1305 2825 \nQ 1016 2553 972 2059 \nL 3022 2063 \nz\n\" transform=\"scale(0.015625)\"/>\n       <path id=\"DejaVuSans-70\" d=\"M 1159 525 \nL 1159 -1331 \nL 581 -1331 \nL 581 3500 \nL 1159 3500 \nL 1159 2969 \nQ 1341 3281 1617 3432 \nQ 1894 3584 2278 3584 \nQ 2916 3584 3314 3078 \nQ 3713 2572 3713 1747 \nQ 3713 922 3314 415 \nQ 2916 -91 2278 -91 \nQ 1894 -91 1617 61 \nQ 1341 213 1159 525 \nz\nM 3116 1747 \nQ 3116 2381 2855 2742 \nQ 2594 3103 2138 3103 \nQ 1681 3103 1420 2742 \nQ 1159 2381 1159 1747 \nQ 1159 1113 1420 752 \nQ 1681 391 2138 391 \nQ 2594 391 2855 752 \nQ 3116 1113 3116 1747 \nz\n\" transform=\"scale(0.015625)\"/>\n       <path id=\"DejaVuSans-6f\" d=\"M 1959 3097 \nQ 1497 3097 1228 2736 \nQ 959 2375 959 1747 \nQ 959 1119 1226 758 \nQ 1494 397 1959 397 \nQ 2419 397 2687 759 \nQ 2956 1122 2956 1747 \nQ 2956 2369 2687 2733 \nQ 2419 3097 1959 3097 \nz\nM 1959 3584 \nQ 2709 3584 3137 3096 \nQ 3566 2609 3566 1747 \nQ 3566 888 3137 398 \nQ 2709 -91 1959 -91 \nQ 1206 -91 779 398 \nQ 353 888 353 1747 \nQ 353 2609 779 3096 \nQ 1206 3584 1959 3584 \nz\n\" transform=\"scale(0.015625)\"/>\n       <path id=\"DejaVuSans-63\" d=\"M 3122 3366 \nL 3122 2828 \nQ 2878 2963 2633 3030 \nQ 2388 3097 2138 3097 \nQ 1578 3097 1268 2742 \nQ 959 2388 959 1747 \nQ 959 1106 1268 751 \nQ 1578 397 2138 397 \nQ 2388 397 2633 464 \nQ 2878 531 3122 666 \nL 3122 134 \nQ 2881 22 2623 -34 \nQ 2366 -91 2075 -91 \nQ 1284 -91 818 406 \nQ 353 903 353 1747 \nQ 353 2603 823 3093 \nQ 1294 3584 2113 3584 \nQ 2378 3584 2631 3529 \nQ 2884 3475 3122 3366 \nz\n\" transform=\"scale(0.015625)\"/>\n       <path id=\"DejaVuSans-68\" d=\"M 3513 2113 \nL 3513 0 \nL 2938 0 \nL 2938 2094 \nQ 2938 2591 2744 2837 \nQ 2550 3084 2163 3084 \nQ 1697 3084 1428 2787 \nQ 1159 2491 1159 1978 \nL 1159 0 \nL 581 0 \nL 581 4863 \nL 1159 4863 \nL 1159 2956 \nQ 1366 3272 1645 3428 \nQ 1925 3584 2291 3584 \nQ 2894 3584 3203 3211 \nQ 3513 2838 3513 2113 \nz\n\" transform=\"scale(0.015625)\"/>\n      </defs>\n      <use xlink:href=\"#DejaVuSans-65\"/>\n      <use xlink:href=\"#DejaVuSans-70\" x=\"61.523438\"/>\n      <use xlink:href=\"#DejaVuSans-6f\" x=\"125\"/>\n      <use xlink:href=\"#DejaVuSans-63\" x=\"186.181641\"/>\n      <use xlink:href=\"#DejaVuSans-68\" x=\"241.162109\"/>\n     </g>\n    </g>\n   </g>\n   <g id=\"matplotlib.axis_2\">\n    <g id=\"ytick_1\">\n     <g id=\"line2d_6\">\n      <defs>\n       <path id=\"m70bad5d6ba\" d=\"M 0 0 \nL -3.5 0 \n\" style=\"stroke: #000000; stroke-width: 0.8\"/>\n      </defs>\n      <g>\n       <use xlink:href=\"#m70bad5d6ba\" x=\"37.7\" y=\"124.756803\" style=\"stroke: #000000; stroke-width: 0.8\"/>\n      </g>\n     </g>\n     <g id=\"text_7\">\n      <!-- $\\mathdefault{10^{-1}}$ -->\n      <g transform=\"translate(7.2 128.556022) scale(0.1 -0.1)\">\n       <defs>\n        <path id=\"DejaVuSans-2212\" d=\"M 678 2272 \nL 4684 2272 \nL 4684 1741 \nL 678 1741 \nL 678 2272 \nz\n\" transform=\"scale(0.015625)\"/>\n       </defs>\n       <use xlink:href=\"#DejaVuSans-31\" transform=\"translate(0 0.684375)\"/>\n       <use xlink:href=\"#DejaVuSans-30\" transform=\"translate(63.623047 0.684375)\"/>\n       <use xlink:href=\"#DejaVuSans-2212\" transform=\"translate(128.203125 38.965625) scale(0.7)\"/>\n       <use xlink:href=\"#DejaVuSans-31\" transform=\"translate(186.855469 38.965625) scale(0.7)\"/>\n      </g>\n     </g>\n    </g>\n    <g id=\"ytick_2\">\n     <g id=\"line2d_7\">\n      <g>\n       <use xlink:href=\"#m70bad5d6ba\" x=\"37.7\" y=\"69.367102\" style=\"stroke: #000000; stroke-width: 0.8\"/>\n      </g>\n     </g>\n     <g id=\"text_8\">\n      <!-- $\\mathdefault{10^{0}}$ -->\n      <g transform=\"translate(13.1 73.166321) scale(0.1 -0.1)\">\n       <use xlink:href=\"#DejaVuSans-31\" transform=\"translate(0 0.765625)\"/>\n       <use xlink:href=\"#DejaVuSans-30\" transform=\"translate(63.623047 0.765625)\"/>\n       <use xlink:href=\"#DejaVuSans-30\" transform=\"translate(128.203125 39.046875) scale(0.7)\"/>\n      </g>\n     </g>\n    </g>\n    <g id=\"ytick_3\">\n     <g id=\"line2d_8\">\n      <g>\n       <use xlink:href=\"#m70bad5d6ba\" x=\"37.7\" y=\"13.977401\" style=\"stroke: #000000; stroke-width: 0.8\"/>\n      </g>\n     </g>\n     <g id=\"text_9\">\n      <!-- $\\mathdefault{10^{1}}$ -->\n      <g transform=\"translate(13.1 17.77662) scale(0.1 -0.1)\">\n       <use xlink:href=\"#DejaVuSans-31\" transform=\"translate(0 0.684375)\"/>\n       <use xlink:href=\"#DejaVuSans-30\" transform=\"translate(63.623047 0.684375)\"/>\n       <use xlink:href=\"#DejaVuSans-31\" transform=\"translate(128.203125 38.965625) scale(0.7)\"/>\n      </g>\n     </g>\n    </g>\n    <g id=\"ytick_4\">\n     <g id=\"line2d_9\">\n      <defs>\n       <path id=\"m91778eee9d\" d=\"M 0 0 \nL -2 0 \n\" style=\"stroke: #000000; stroke-width: 0.6\"/>\n      </defs>\n      <g>\n       <use xlink:href=\"#m91778eee9d\" x=\"37.7\" y=\"141.430764\" style=\"stroke: #000000; stroke-width: 0.6\"/>\n      </g>\n     </g>\n    </g>\n    <g id=\"ytick_5\">\n     <g id=\"line2d_10\">\n      <g>\n       <use xlink:href=\"#m91778eee9d\" x=\"37.7\" y=\"137.044939\" style=\"stroke: #000000; stroke-width: 0.6\"/>\n      </g>\n     </g>\n    </g>\n    <g id=\"ytick_6\">\n     <g id=\"line2d_11\">\n      <g>\n       <use xlink:href=\"#m91778eee9d\" x=\"37.7\" y=\"133.336776\" style=\"stroke: #000000; stroke-width: 0.6\"/>\n      </g>\n     </g>\n    </g>\n    <g id=\"ytick_7\">\n     <g id=\"line2d_12\">\n      <g>\n       <use xlink:href=\"#m91778eee9d\" x=\"37.7\" y=\"130.12462\" style=\"stroke: #000000; stroke-width: 0.6\"/>\n      </g>\n     </g>\n    </g>\n    <g id=\"ytick_8\">\n     <g id=\"line2d_13\">\n      <g>\n       <use xlink:href=\"#m91778eee9d\" x=\"37.7\" y=\"127.291297\" style=\"stroke: #000000; stroke-width: 0.6\"/>\n      </g>\n     </g>\n    </g>\n    <g id=\"ytick_9\">\n     <g id=\"line2d_14\">\n      <g>\n       <use xlink:href=\"#m91778eee9d\" x=\"37.7\" y=\"108.082842\" style=\"stroke: #000000; stroke-width: 0.6\"/>\n      </g>\n     </g>\n    </g>\n    <g id=\"ytick_10\">\n     <g id=\"line2d_15\">\n      <g>\n       <use xlink:href=\"#m91778eee9d\" x=\"37.7\" y=\"98.329199\" style=\"stroke: #000000; stroke-width: 0.6\"/>\n      </g>\n     </g>\n    </g>\n    <g id=\"ytick_11\">\n     <g id=\"line2d_16\">\n      <g>\n       <use xlink:href=\"#m91778eee9d\" x=\"37.7\" y=\"91.40888\" style=\"stroke: #000000; stroke-width: 0.6\"/>\n      </g>\n     </g>\n    </g>\n    <g id=\"ytick_12\">\n     <g id=\"line2d_17\">\n      <g>\n       <use xlink:href=\"#m91778eee9d\" x=\"37.7\" y=\"86.041064\" style=\"stroke: #000000; stroke-width: 0.6\"/>\n      </g>\n     </g>\n    </g>\n    <g id=\"ytick_13\">\n     <g id=\"line2d_18\">\n      <g>\n       <use xlink:href=\"#m91778eee9d\" x=\"37.7\" y=\"81.655238\" style=\"stroke: #000000; stroke-width: 0.6\"/>\n      </g>\n     </g>\n    </g>\n    <g id=\"ytick_14\">\n     <g id=\"line2d_19\">\n      <g>\n       <use xlink:href=\"#m91778eee9d\" x=\"37.7\" y=\"77.947075\" style=\"stroke: #000000; stroke-width: 0.6\"/>\n      </g>\n     </g>\n    </g>\n    <g id=\"ytick_15\">\n     <g id=\"line2d_20\">\n      <g>\n       <use xlink:href=\"#m91778eee9d\" x=\"37.7\" y=\"74.734919\" style=\"stroke: #000000; stroke-width: 0.6\"/>\n      </g>\n     </g>\n    </g>\n    <g id=\"ytick_16\">\n     <g id=\"line2d_21\">\n      <g>\n       <use xlink:href=\"#m91778eee9d\" x=\"37.7\" y=\"71.901596\" style=\"stroke: #000000; stroke-width: 0.6\"/>\n      </g>\n     </g>\n    </g>\n    <g id=\"ytick_17\">\n     <g id=\"line2d_22\">\n      <g>\n       <use xlink:href=\"#m91778eee9d\" x=\"37.7\" y=\"52.693141\" style=\"stroke: #000000; stroke-width: 0.6\"/>\n      </g>\n     </g>\n    </g>\n    <g id=\"ytick_18\">\n     <g id=\"line2d_23\">\n      <g>\n       <use xlink:href=\"#m91778eee9d\" x=\"37.7\" y=\"42.939499\" style=\"stroke: #000000; stroke-width: 0.6\"/>\n      </g>\n     </g>\n    </g>\n    <g id=\"ytick_19\">\n     <g id=\"line2d_24\">\n      <g>\n       <use xlink:href=\"#m91778eee9d\" x=\"37.7\" y=\"36.019179\" style=\"stroke: #000000; stroke-width: 0.6\"/>\n      </g>\n     </g>\n    </g>\n    <g id=\"ytick_20\">\n     <g id=\"line2d_25\">\n      <g>\n       <use xlink:href=\"#m91778eee9d\" x=\"37.7\" y=\"30.651363\" style=\"stroke: #000000; stroke-width: 0.6\"/>\n      </g>\n     </g>\n    </g>\n    <g id=\"ytick_21\">\n     <g id=\"line2d_26\">\n      <g>\n       <use xlink:href=\"#m91778eee9d\" x=\"37.7\" y=\"26.265537\" style=\"stroke: #000000; stroke-width: 0.6\"/>\n      </g>\n     </g>\n    </g>\n    <g id=\"ytick_22\">\n     <g id=\"line2d_27\">\n      <g>\n       <use xlink:href=\"#m91778eee9d\" x=\"37.7\" y=\"22.557374\" style=\"stroke: #000000; stroke-width: 0.6\"/>\n      </g>\n     </g>\n    </g>\n    <g id=\"ytick_23\">\n     <g id=\"line2d_28\">\n      <g>\n       <use xlink:href=\"#m91778eee9d\" x=\"37.7\" y=\"19.345218\" style=\"stroke: #000000; stroke-width: 0.6\"/>\n      </g>\n     </g>\n    </g>\n    <g id=\"ytick_24\">\n     <g id=\"line2d_29\">\n      <g>\n       <use xlink:href=\"#m91778eee9d\" x=\"37.7\" y=\"16.511895\" style=\"stroke: #000000; stroke-width: 0.6\"/>\n      </g>\n     </g>\n    </g>\n   </g>\n   <g id=\"line2d_30\">\n    <path d=\"M 39.943311 13.5 \n\" clip-path=\"url(#p1af985c0c6)\" style=\"fill: none; stroke: #1f77b4; stroke-width: 1.5; stroke-linecap: square\"/>\n   </g>\n   <g id=\"line2d_31\">\n    <path d=\"M 39.943311 13.5 \nL 44.693851 85.693939 \n\" clip-path=\"url(#p1af985c0c6)\" style=\"fill: none; stroke: #1f77b4; stroke-width: 1.5; stroke-linecap: square\"/>\n   </g>\n   <g id=\"line2d_32\">\n    <path d=\"M 39.943311 13.5 \nL 44.693851 85.693939 \n\" clip-path=\"url(#p1af985c0c6)\" style=\"fill: none; stroke: #1f77b4; stroke-width: 1.5; stroke-linecap: square\"/>\n   </g>\n   <g id=\"line2d_33\">\n    <path d=\"M 47.465 90.387563 \n\" clip-path=\"url(#p1af985c0c6)\" style=\"fill: none; stroke-dasharray: 5.55,2.4; stroke-dashoffset: 0; stroke: #ff7f0e; stroke-width: 1.5\"/>\n   </g>\n   <g id=\"line2d_34\">\n    <path d=\"M 39.943311 13.5 \nL 44.693851 85.693939 \nL 49.444392 96.366835 \n\" clip-path=\"url(#p1af985c0c6)\" style=\"fill: none; stroke: #1f77b4; stroke-width: 1.5; stroke-linecap: square\"/>\n   </g>\n   <g id=\"line2d_35\">\n    <path d=\"M 47.465 90.387563 \n\" clip-path=\"url(#p1af985c0c6)\" style=\"fill: none; stroke-dasharray: 5.55,2.4; stroke-dashoffset: 0; stroke: #ff7f0e; stroke-width: 1.5\"/>\n   </g>\n   <g id=\"line2d_36\">\n    <path d=\"M 39.943311 13.5 \nL 44.693851 85.693939 \nL 49.444392 96.366835 \nL 54.194932 95.867972 \n\" clip-path=\"url(#p1af985c0c6)\" style=\"fill: none; stroke: #1f77b4; stroke-width: 1.5; stroke-linecap: square\"/>\n   </g>\n   <g id=\"line2d_37\">\n    <path d=\"M 47.465 90.387563 \n\" clip-path=\"url(#p1af985c0c6)\" style=\"fill: none; stroke-dasharray: 5.55,2.4; stroke-dashoffset: 0; stroke: #ff7f0e; stroke-width: 1.5\"/>\n   </g>\n   <g id=\"line2d_38\">\n    <path d=\"M 39.943311 13.5 \nL 44.693851 85.693939 \nL 49.444392 96.366835 \nL 54.194932 95.867972 \n\" clip-path=\"url(#p1af985c0c6)\" style=\"fill: none; stroke: #1f77b4; stroke-width: 1.5; stroke-linecap: square\"/>\n   </g>\n   <g id=\"line2d_39\">\n    <path d=\"M 47.465 90.387563 \nL 57.23 98.03296 \n\" clip-path=\"url(#p1af985c0c6)\" style=\"fill: none; stroke-dasharray: 5.55,2.4; stroke-dashoffset: 0; stroke: #ff7f0e; stroke-width: 1.5\"/>\n   </g>\n   <g id=\"line2d_40\">\n    <path d=\"M 39.943311 13.5 \nL 44.693851 85.693939 \nL 49.444392 96.366835 \nL 54.194932 95.867972 \nL 58.945473 100.089543 \n\" clip-path=\"url(#p1af985c0c6)\" style=\"fill: none; stroke: #1f77b4; stroke-width: 1.5; stroke-linecap: square\"/>\n   </g>\n   <g id=\"line2d_41\">\n    <path d=\"M 47.465 90.387563 \nL 57.23 98.03296 \n\" clip-path=\"url(#p1af985c0c6)\" style=\"fill: none; stroke-dasharray: 5.55,2.4; stroke-dashoffset: 0; stroke: #ff7f0e; stroke-width: 1.5\"/>\n   </g>\n   <g id=\"line2d_42\">\n    <path d=\"M 39.943311 13.5 \nL 44.693851 85.693939 \nL 49.444392 96.366835 \nL 54.194932 95.867972 \nL 58.945473 100.089543 \nL 63.696014 103.734554 \n\" clip-path=\"url(#p1af985c0c6)\" style=\"fill: none; stroke: #1f77b4; stroke-width: 1.5; stroke-linecap: square\"/>\n   </g>\n   <g id=\"line2d_43\">\n    <path d=\"M 47.465 90.387563 \nL 57.23 98.03296 \n\" clip-path=\"url(#p1af985c0c6)\" style=\"fill: none; stroke-dasharray: 5.55,2.4; stroke-dashoffset: 0; stroke: #ff7f0e; stroke-width: 1.5\"/>\n   </g>\n   <g id=\"line2d_44\">\n    <path d=\"M 39.943311 13.5 \nL 44.693851 85.693939 \nL 49.444392 96.366835 \nL 54.194932 95.867972 \nL 58.945473 100.089543 \nL 63.696014 103.734554 \n\" clip-path=\"url(#p1af985c0c6)\" style=\"fill: none; stroke: #1f77b4; stroke-width: 1.5; stroke-linecap: square\"/>\n   </g>\n   <g id=\"line2d_45\">\n    <path d=\"M 47.465 90.387563 \nL 57.23 98.03296 \nL 66.995 104.318445 \n\" clip-path=\"url(#p1af985c0c6)\" style=\"fill: none; stroke-dasharray: 5.55,2.4; stroke-dashoffset: 0; stroke: #ff7f0e; stroke-width: 1.5\"/>\n   </g>\n   <g id=\"line2d_46\">\n    <path d=\"M 39.943311 13.5 \nL 44.693851 85.693939 \nL 49.444392 96.366835 \nL 54.194932 95.867972 \nL 58.945473 100.089543 \nL 63.696014 103.734554 \nL 68.446554 107.851995 \n\" clip-path=\"url(#p1af985c0c6)\" style=\"fill: none; stroke: #1f77b4; stroke-width: 1.5; stroke-linecap: square\"/>\n   </g>\n   <g id=\"line2d_47\">\n    <path d=\"M 47.465 90.387563 \nL 57.23 98.03296 \nL 66.995 104.318445 \n\" clip-path=\"url(#p1af985c0c6)\" style=\"fill: none; stroke-dasharray: 5.55,2.4; stroke-dashoffset: 0; stroke: #ff7f0e; stroke-width: 1.5\"/>\n   </g>\n   <g id=\"line2d_48\">\n    <path d=\"M 39.943311 13.5 \nL 44.693851 85.693939 \nL 49.444392 96.366835 \nL 54.194932 95.867972 \nL 58.945473 100.089543 \nL 63.696014 103.734554 \nL 68.446554 107.851995 \nL 73.197095 108.392608 \n\" clip-path=\"url(#p1af985c0c6)\" style=\"fill: none; stroke: #1f77b4; stroke-width: 1.5; stroke-linecap: square\"/>\n   </g>\n   <g id=\"line2d_49\">\n    <path d=\"M 47.465 90.387563 \nL 57.23 98.03296 \nL 66.995 104.318445 \n\" clip-path=\"url(#p1af985c0c6)\" style=\"fill: none; stroke-dasharray: 5.55,2.4; stroke-dashoffset: 0; stroke: #ff7f0e; stroke-width: 1.5\"/>\n   </g>\n   <g id=\"line2d_50\">\n    <path d=\"M 39.943311 13.5 \nL 44.693851 85.693939 \nL 49.444392 96.366835 \nL 54.194932 95.867972 \nL 58.945473 100.089543 \nL 63.696014 103.734554 \nL 68.446554 107.851995 \nL 73.197095 108.392608 \n\" clip-path=\"url(#p1af985c0c6)\" style=\"fill: none; stroke: #1f77b4; stroke-width: 1.5; stroke-linecap: square\"/>\n   </g>\n   <g id=\"line2d_51\">\n    <path d=\"M 47.465 90.387563 \nL 57.23 98.03296 \nL 66.995 104.318445 \nL 76.76 107.742482 \n\" clip-path=\"url(#p1af985c0c6)\" style=\"fill: none; stroke-dasharray: 5.55,2.4; stroke-dashoffset: 0; stroke: #ff7f0e; stroke-width: 1.5\"/>\n   </g>\n   <g id=\"line2d_52\">\n    <path d=\"M 39.943311 13.5 \nL 44.693851 85.693939 \nL 49.444392 96.366835 \nL 54.194932 95.867972 \nL 58.945473 100.089543 \nL 63.696014 103.734554 \nL 68.446554 107.851995 \nL 73.197095 108.392608 \nL 77.947635 109.688896 \n\" clip-path=\"url(#p1af985c0c6)\" style=\"fill: none; stroke: #1f77b4; stroke-width: 1.5; stroke-linecap: square\"/>\n   </g>\n   <g id=\"line2d_53\">\n    <path d=\"M 47.465 90.387563 \nL 57.23 98.03296 \nL 66.995 104.318445 \nL 76.76 107.742482 \n\" clip-path=\"url(#p1af985c0c6)\" style=\"fill: none; stroke-dasharray: 5.55,2.4; stroke-dashoffset: 0; stroke: #ff7f0e; stroke-width: 1.5\"/>\n   </g>\n   <g id=\"line2d_54\">\n    <path d=\"M 39.943311 13.5 \nL 44.693851 85.693939 \nL 49.444392 96.366835 \nL 54.194932 95.867972 \nL 58.945473 100.089543 \nL 63.696014 103.734554 \nL 68.446554 107.851995 \nL 73.197095 108.392608 \nL 77.947635 109.688896 \nL 82.698176 110.728853 \n\" clip-path=\"url(#p1af985c0c6)\" style=\"fill: none; stroke: #1f77b4; stroke-width: 1.5; stroke-linecap: square\"/>\n   </g>\n   <g id=\"line2d_55\">\n    <path d=\"M 47.465 90.387563 \nL 57.23 98.03296 \nL 66.995 104.318445 \nL 76.76 107.742482 \n\" clip-path=\"url(#p1af985c0c6)\" style=\"fill: none; stroke-dasharray: 5.55,2.4; stroke-dashoffset: 0; stroke: #ff7f0e; stroke-width: 1.5\"/>\n   </g>\n   <g id=\"line2d_56\">\n    <path d=\"M 39.943311 13.5 \nL 44.693851 85.693939 \nL 49.444392 96.366835 \nL 54.194932 95.867972 \nL 58.945473 100.089543 \nL 63.696014 103.734554 \nL 68.446554 107.851995 \nL 73.197095 108.392608 \nL 77.947635 109.688896 \nL 82.698176 110.728853 \n\" clip-path=\"url(#p1af985c0c6)\" style=\"fill: none; stroke: #1f77b4; stroke-width: 1.5; stroke-linecap: square\"/>\n   </g>\n   <g id=\"line2d_57\">\n    <path d=\"M 47.465 90.387563 \nL 57.23 98.03296 \nL 66.995 104.318445 \nL 76.76 107.742482 \nL 86.525 110.312435 \n\" clip-path=\"url(#p1af985c0c6)\" style=\"fill: none; stroke-dasharray: 5.55,2.4; stroke-dashoffset: 0; stroke: #ff7f0e; stroke-width: 1.5\"/>\n   </g>\n   <g id=\"line2d_58\">\n    <path d=\"M 39.943311 13.5 \nL 44.693851 85.693939 \nL 49.444392 96.366835 \nL 54.194932 95.867972 \nL 58.945473 100.089543 \nL 63.696014 103.734554 \nL 68.446554 107.851995 \nL 73.197095 108.392608 \nL 77.947635 109.688896 \nL 82.698176 110.728853 \nL 87.448716 117.990669 \n\" clip-path=\"url(#p1af985c0c6)\" style=\"fill: none; stroke: #1f77b4; stroke-width: 1.5; stroke-linecap: square\"/>\n   </g>\n   <g id=\"line2d_59\">\n    <path d=\"M 47.465 90.387563 \nL 57.23 98.03296 \nL 66.995 104.318445 \nL 76.76 107.742482 \nL 86.525 110.312435 \n\" clip-path=\"url(#p1af985c0c6)\" style=\"fill: none; stroke-dasharray: 5.55,2.4; stroke-dashoffset: 0; stroke: #ff7f0e; stroke-width: 1.5\"/>\n   </g>\n   <g id=\"line2d_60\">\n    <path d=\"M 39.943311 13.5 \nL 44.693851 85.693939 \nL 49.444392 96.366835 \nL 54.194932 95.867972 \nL 58.945473 100.089543 \nL 63.696014 103.734554 \nL 68.446554 107.851995 \nL 73.197095 108.392608 \nL 77.947635 109.688896 \nL 82.698176 110.728853 \nL 87.448716 117.990669 \nL 92.199257 114.228863 \n\" clip-path=\"url(#p1af985c0c6)\" style=\"fill: none; stroke: #1f77b4; stroke-width: 1.5; stroke-linecap: square\"/>\n   </g>\n   <g id=\"line2d_61\">\n    <path d=\"M 47.465 90.387563 \nL 57.23 98.03296 \nL 66.995 104.318445 \nL 76.76 107.742482 \nL 86.525 110.312435 \n\" clip-path=\"url(#p1af985c0c6)\" style=\"fill: none; stroke-dasharray: 5.55,2.4; stroke-dashoffset: 0; stroke: #ff7f0e; stroke-width: 1.5\"/>\n   </g>\n   <g id=\"line2d_62\">\n    <path d=\"M 39.943311 13.5 \nL 44.693851 85.693939 \nL 49.444392 96.366835 \nL 54.194932 95.867972 \nL 58.945473 100.089543 \nL 63.696014 103.734554 \nL 68.446554 107.851995 \nL 73.197095 108.392608 \nL 77.947635 109.688896 \nL 82.698176 110.728853 \nL 87.448716 117.990669 \nL 92.199257 114.228863 \n\" clip-path=\"url(#p1af985c0c6)\" style=\"fill: none; stroke: #1f77b4; stroke-width: 1.5; stroke-linecap: square\"/>\n   </g>\n   <g id=\"line2d_63\">\n    <path d=\"M 47.465 90.387563 \nL 57.23 98.03296 \nL 66.995 104.318445 \nL 76.76 107.742482 \nL 86.525 110.312435 \nL 96.29 114.425438 \n\" clip-path=\"url(#p1af985c0c6)\" style=\"fill: none; stroke-dasharray: 5.55,2.4; stroke-dashoffset: 0; stroke: #ff7f0e; stroke-width: 1.5\"/>\n   </g>\n   <g id=\"line2d_64\">\n    <path d=\"M 39.943311 13.5 \nL 44.693851 85.693939 \nL 49.444392 96.366835 \nL 54.194932 95.867972 \nL 58.945473 100.089543 \nL 63.696014 103.734554 \nL 68.446554 107.851995 \nL 73.197095 108.392608 \nL 77.947635 109.688896 \nL 82.698176 110.728853 \nL 87.448716 117.990669 \nL 92.199257 114.228863 \nL 96.949797 117.07142 \n\" clip-path=\"url(#p1af985c0c6)\" style=\"fill: none; stroke: #1f77b4; stroke-width: 1.5; stroke-linecap: square\"/>\n   </g>\n   <g id=\"line2d_65\">\n    <path d=\"M 47.465 90.387563 \nL 57.23 98.03296 \nL 66.995 104.318445 \nL 76.76 107.742482 \nL 86.525 110.312435 \nL 96.29 114.425438 \n\" clip-path=\"url(#p1af985c0c6)\" style=\"fill: none; stroke-dasharray: 5.55,2.4; stroke-dashoffset: 0; stroke: #ff7f0e; stroke-width: 1.5\"/>\n   </g>\n   <g id=\"line2d_66\">\n    <path d=\"M 39.943311 13.5 \nL 44.693851 85.693939 \nL 49.444392 96.366835 \nL 54.194932 95.867972 \nL 58.945473 100.089543 \nL 63.696014 103.734554 \nL 68.446554 107.851995 \nL 73.197095 108.392608 \nL 77.947635 109.688896 \nL 82.698176 110.728853 \nL 87.448716 117.990669 \nL 92.199257 114.228863 \nL 96.949797 117.07142 \nL 101.700338 116.704417 \n\" clip-path=\"url(#p1af985c0c6)\" style=\"fill: none; stroke: #1f77b4; stroke-width: 1.5; stroke-linecap: square\"/>\n   </g>\n   <g id=\"line2d_67\">\n    <path d=\"M 47.465 90.387563 \nL 57.23 98.03296 \nL 66.995 104.318445 \nL 76.76 107.742482 \nL 86.525 110.312435 \nL 96.29 114.425438 \n\" clip-path=\"url(#p1af985c0c6)\" style=\"fill: none; stroke-dasharray: 5.55,2.4; stroke-dashoffset: 0; stroke: #ff7f0e; stroke-width: 1.5\"/>\n   </g>\n   <g id=\"line2d_68\">\n    <path d=\"M 39.943311 13.5 \nL 44.693851 85.693939 \nL 49.444392 96.366835 \nL 54.194932 95.867972 \nL 58.945473 100.089543 \nL 63.696014 103.734554 \nL 68.446554 107.851995 \nL 73.197095 108.392608 \nL 77.947635 109.688896 \nL 82.698176 110.728853 \nL 87.448716 117.990669 \nL 92.199257 114.228863 \nL 96.949797 117.07142 \nL 101.700338 116.704417 \n\" clip-path=\"url(#p1af985c0c6)\" style=\"fill: none; stroke: #1f77b4; stroke-width: 1.5; stroke-linecap: square\"/>\n   </g>\n   <g id=\"line2d_69\">\n    <path d=\"M 47.465 90.387563 \nL 57.23 98.03296 \nL 66.995 104.318445 \nL 76.76 107.742482 \nL 86.525 110.312435 \nL 96.29 114.425438 \nL 106.055 116.65014 \n\" clip-path=\"url(#p1af985c0c6)\" style=\"fill: none; stroke-dasharray: 5.55,2.4; stroke-dashoffset: 0; stroke: #ff7f0e; stroke-width: 1.5\"/>\n   </g>\n   <g id=\"line2d_70\">\n    <path d=\"M 39.943311 13.5 \nL 44.693851 85.693939 \nL 49.444392 96.366835 \nL 54.194932 95.867972 \nL 58.945473 100.089543 \nL 63.696014 103.734554 \nL 68.446554 107.851995 \nL 73.197095 108.392608 \nL 77.947635 109.688896 \nL 82.698176 110.728853 \nL 87.448716 117.990669 \nL 92.199257 114.228863 \nL 96.949797 117.07142 \nL 101.700338 116.704417 \nL 106.450878 121.611861 \n\" clip-path=\"url(#p1af985c0c6)\" style=\"fill: none; stroke: #1f77b4; stroke-width: 1.5; stroke-linecap: square\"/>\n   </g>\n   <g id=\"line2d_71\">\n    <path d=\"M 47.465 90.387563 \nL 57.23 98.03296 \nL 66.995 104.318445 \nL 76.76 107.742482 \nL 86.525 110.312435 \nL 96.29 114.425438 \nL 106.055 116.65014 \n\" clip-path=\"url(#p1af985c0c6)\" style=\"fill: none; stroke-dasharray: 5.55,2.4; stroke-dashoffset: 0; stroke: #ff7f0e; stroke-width: 1.5\"/>\n   </g>\n   <g id=\"line2d_72\">\n    <path d=\"M 39.943311 13.5 \nL 44.693851 85.693939 \nL 49.444392 96.366835 \nL 54.194932 95.867972 \nL 58.945473 100.089543 \nL 63.696014 103.734554 \nL 68.446554 107.851995 \nL 73.197095 108.392608 \nL 77.947635 109.688896 \nL 82.698176 110.728853 \nL 87.448716 117.990669 \nL 92.199257 114.228863 \nL 96.949797 117.07142 \nL 101.700338 116.704417 \nL 106.450878 121.611861 \nL 111.201419 120.81944 \n\" clip-path=\"url(#p1af985c0c6)\" style=\"fill: none; stroke: #1f77b4; stroke-width: 1.5; stroke-linecap: square\"/>\n   </g>\n   <g id=\"line2d_73\">\n    <path d=\"M 47.465 90.387563 \nL 57.23 98.03296 \nL 66.995 104.318445 \nL 76.76 107.742482 \nL 86.525 110.312435 \nL 96.29 114.425438 \nL 106.055 116.65014 \n\" clip-path=\"url(#p1af985c0c6)\" style=\"fill: none; stroke-dasharray: 5.55,2.4; stroke-dashoffset: 0; stroke: #ff7f0e; stroke-width: 1.5\"/>\n   </g>\n   <g id=\"line2d_74\">\n    <path d=\"M 39.943311 13.5 \nL 44.693851 85.693939 \nL 49.444392 96.366835 \nL 54.194932 95.867972 \nL 58.945473 100.089543 \nL 63.696014 103.734554 \nL 68.446554 107.851995 \nL 73.197095 108.392608 \nL 77.947635 109.688896 \nL 82.698176 110.728853 \nL 87.448716 117.990669 \nL 92.199257 114.228863 \nL 96.949797 117.07142 \nL 101.700338 116.704417 \nL 106.450878 121.611861 \nL 111.201419 120.81944 \n\" clip-path=\"url(#p1af985c0c6)\" style=\"fill: none; stroke: #1f77b4; stroke-width: 1.5; stroke-linecap: square\"/>\n   </g>\n   <g id=\"line2d_75\">\n    <path d=\"M 47.465 90.387563 \nL 57.23 98.03296 \nL 66.995 104.318445 \nL 76.76 107.742482 \nL 86.525 110.312435 \nL 96.29 114.425438 \nL 106.055 116.65014 \nL 115.82 118.666948 \n\" clip-path=\"url(#p1af985c0c6)\" style=\"fill: none; stroke-dasharray: 5.55,2.4; stroke-dashoffset: 0; stroke: #ff7f0e; stroke-width: 1.5\"/>\n   </g>\n   <g id=\"line2d_76\">\n    <path d=\"M 39.943311 13.5 \nL 44.693851 85.693939 \nL 49.444392 96.366835 \nL 54.194932 95.867972 \nL 58.945473 100.089543 \nL 63.696014 103.734554 \nL 68.446554 107.851995 \nL 73.197095 108.392608 \nL 77.947635 109.688896 \nL 82.698176 110.728853 \nL 87.448716 117.990669 \nL 92.199257 114.228863 \nL 96.949797 117.07142 \nL 101.700338 116.704417 \nL 106.450878 121.611861 \nL 111.201419 120.81944 \nL 115.951959 121.657586 \n\" clip-path=\"url(#p1af985c0c6)\" style=\"fill: none; stroke: #1f77b4; stroke-width: 1.5; stroke-linecap: square\"/>\n   </g>\n   <g id=\"line2d_77\">\n    <path d=\"M 47.465 90.387563 \nL 57.23 98.03296 \nL 66.995 104.318445 \nL 76.76 107.742482 \nL 86.525 110.312435 \nL 96.29 114.425438 \nL 106.055 116.65014 \nL 115.82 118.666948 \n\" clip-path=\"url(#p1af985c0c6)\" style=\"fill: none; stroke-dasharray: 5.55,2.4; stroke-dashoffset: 0; stroke: #ff7f0e; stroke-width: 1.5\"/>\n   </g>\n   <g id=\"line2d_78\">\n    <path d=\"M 39.943311 13.5 \nL 44.693851 85.693939 \nL 49.444392 96.366835 \nL 54.194932 95.867972 \nL 58.945473 100.089543 \nL 63.696014 103.734554 \nL 68.446554 107.851995 \nL 73.197095 108.392608 \nL 77.947635 109.688896 \nL 82.698176 110.728853 \nL 87.448716 117.990669 \nL 92.199257 114.228863 \nL 96.949797 117.07142 \nL 101.700338 116.704417 \nL 106.450878 121.611861 \nL 111.201419 120.81944 \nL 115.951959 121.657586 \nL 120.7025 123.846555 \n\" clip-path=\"url(#p1af985c0c6)\" style=\"fill: none; stroke: #1f77b4; stroke-width: 1.5; stroke-linecap: square\"/>\n   </g>\n   <g id=\"line2d_79\">\n    <path d=\"M 47.465 90.387563 \nL 57.23 98.03296 \nL 66.995 104.318445 \nL 76.76 107.742482 \nL 86.525 110.312435 \nL 96.29 114.425438 \nL 106.055 116.65014 \nL 115.82 118.666948 \n\" clip-path=\"url(#p1af985c0c6)\" style=\"fill: none; stroke-dasharray: 5.55,2.4; stroke-dashoffset: 0; stroke: #ff7f0e; stroke-width: 1.5\"/>\n   </g>\n   <g id=\"line2d_80\">\n    <path d=\"M 39.943311 13.5 \nL 44.693851 85.693939 \nL 49.444392 96.366835 \nL 54.194932 95.867972 \nL 58.945473 100.089543 \nL 63.696014 103.734554 \nL 68.446554 107.851995 \nL 73.197095 108.392608 \nL 77.947635 109.688896 \nL 82.698176 110.728853 \nL 87.448716 117.990669 \nL 92.199257 114.228863 \nL 96.949797 117.07142 \nL 101.700338 116.704417 \nL 106.450878 121.611861 \nL 111.201419 120.81944 \nL 115.951959 121.657586 \nL 120.7025 123.846555 \n\" clip-path=\"url(#p1af985c0c6)\" style=\"fill: none; stroke: #1f77b4; stroke-width: 1.5; stroke-linecap: square\"/>\n   </g>\n   <g id=\"line2d_81\">\n    <path d=\"M 47.465 90.387563 \nL 57.23 98.03296 \nL 66.995 104.318445 \nL 76.76 107.742482 \nL 86.525 110.312435 \nL 96.29 114.425438 \nL 106.055 116.65014 \nL 115.82 118.666948 \nL 125.585 120.638732 \n\" clip-path=\"url(#p1af985c0c6)\" style=\"fill: none; stroke-dasharray: 5.55,2.4; stroke-dashoffset: 0; stroke: #ff7f0e; stroke-width: 1.5\"/>\n   </g>\n   <g id=\"line2d_82\">\n    <path d=\"M 39.943311 13.5 \nL 44.693851 85.693939 \nL 49.444392 96.366835 \nL 54.194932 95.867972 \nL 58.945473 100.089543 \nL 63.696014 103.734554 \nL 68.446554 107.851995 \nL 73.197095 108.392608 \nL 77.947635 109.688896 \nL 82.698176 110.728853 \nL 87.448716 117.990669 \nL 92.199257 114.228863 \nL 96.949797 117.07142 \nL 101.700338 116.704417 \nL 106.450878 121.611861 \nL 111.201419 120.81944 \nL 115.951959 121.657586 \nL 120.7025 123.846555 \nL 125.453041 122.887741 \n\" clip-path=\"url(#p1af985c0c6)\" style=\"fill: none; stroke: #1f77b4; stroke-width: 1.5; stroke-linecap: square\"/>\n   </g>\n   <g id=\"line2d_83\">\n    <path d=\"M 47.465 90.387563 \nL 57.23 98.03296 \nL 66.995 104.318445 \nL 76.76 107.742482 \nL 86.525 110.312435 \nL 96.29 114.425438 \nL 106.055 116.65014 \nL 115.82 118.666948 \nL 125.585 120.638732 \n\" clip-path=\"url(#p1af985c0c6)\" style=\"fill: none; stroke-dasharray: 5.55,2.4; stroke-dashoffset: 0; stroke: #ff7f0e; stroke-width: 1.5\"/>\n   </g>\n   <g id=\"line2d_84\">\n    <path d=\"M 39.943311 13.5 \nL 44.693851 85.693939 \nL 49.444392 96.366835 \nL 54.194932 95.867972 \nL 58.945473 100.089543 \nL 63.696014 103.734554 \nL 68.446554 107.851995 \nL 73.197095 108.392608 \nL 77.947635 109.688896 \nL 82.698176 110.728853 \nL 87.448716 117.990669 \nL 92.199257 114.228863 \nL 96.949797 117.07142 \nL 101.700338 116.704417 \nL 106.450878 121.611861 \nL 111.201419 120.81944 \nL 115.951959 121.657586 \nL 120.7025 123.846555 \nL 125.453041 122.887741 \nL 130.203581 125.184288 \n\" clip-path=\"url(#p1af985c0c6)\" style=\"fill: none; stroke: #1f77b4; stroke-width: 1.5; stroke-linecap: square\"/>\n   </g>\n   <g id=\"line2d_85\">\n    <path d=\"M 47.465 90.387563 \nL 57.23 98.03296 \nL 66.995 104.318445 \nL 76.76 107.742482 \nL 86.525 110.312435 \nL 96.29 114.425438 \nL 106.055 116.65014 \nL 115.82 118.666948 \nL 125.585 120.638732 \n\" clip-path=\"url(#p1af985c0c6)\" style=\"fill: none; stroke-dasharray: 5.55,2.4; stroke-dashoffset: 0; stroke: #ff7f0e; stroke-width: 1.5\"/>\n   </g>\n   <g id=\"line2d_86\">\n    <path d=\"M 39.943311 13.5 \nL 44.693851 85.693939 \nL 49.444392 96.366835 \nL 54.194932 95.867972 \nL 58.945473 100.089543 \nL 63.696014 103.734554 \nL 68.446554 107.851995 \nL 73.197095 108.392608 \nL 77.947635 109.688896 \nL 82.698176 110.728853 \nL 87.448716 117.990669 \nL 92.199257 114.228863 \nL 96.949797 117.07142 \nL 101.700338 116.704417 \nL 106.450878 121.611861 \nL 111.201419 120.81944 \nL 115.951959 121.657586 \nL 120.7025 123.846555 \nL 125.453041 122.887741 \nL 130.203581 125.184288 \n\" clip-path=\"url(#p1af985c0c6)\" style=\"fill: none; stroke: #1f77b4; stroke-width: 1.5; stroke-linecap: square\"/>\n   </g>\n   <g id=\"line2d_87\">\n    <path d=\"M 47.465 90.387563 \nL 57.23 98.03296 \nL 66.995 104.318445 \nL 76.76 107.742482 \nL 86.525 110.312435 \nL 96.29 114.425438 \nL 106.055 116.65014 \nL 115.82 118.666948 \nL 125.585 120.638732 \nL 135.35 121.956634 \n\" clip-path=\"url(#p1af985c0c6)\" style=\"fill: none; stroke-dasharray: 5.55,2.4; stroke-dashoffset: 0; stroke: #ff7f0e; stroke-width: 1.5\"/>\n   </g>\n   <g id=\"line2d_88\">\n    <path d=\"M 39.943311 13.5 \nL 44.693851 85.693939 \nL 49.444392 96.366835 \nL 54.194932 95.867972 \nL 58.945473 100.089543 \nL 63.696014 103.734554 \nL 68.446554 107.851995 \nL 73.197095 108.392608 \nL 77.947635 109.688896 \nL 82.698176 110.728853 \nL 87.448716 117.990669 \nL 92.199257 114.228863 \nL 96.949797 117.07142 \nL 101.700338 116.704417 \nL 106.450878 121.611861 \nL 111.201419 120.81944 \nL 115.951959 121.657586 \nL 120.7025 123.846555 \nL 125.453041 122.887741 \nL 130.203581 125.184288 \nL 134.954122 129.203422 \n\" clip-path=\"url(#p1af985c0c6)\" style=\"fill: none; stroke: #1f77b4; stroke-width: 1.5; stroke-linecap: square\"/>\n   </g>\n   <g id=\"line2d_89\">\n    <path d=\"M 47.465 90.387563 \nL 57.23 98.03296 \nL 66.995 104.318445 \nL 76.76 107.742482 \nL 86.525 110.312435 \nL 96.29 114.425438 \nL 106.055 116.65014 \nL 115.82 118.666948 \nL 125.585 120.638732 \nL 135.35 121.956634 \n\" clip-path=\"url(#p1af985c0c6)\" style=\"fill: none; stroke-dasharray: 5.55,2.4; stroke-dashoffset: 0; stroke: #ff7f0e; stroke-width: 1.5\"/>\n   </g>\n   <g id=\"line2d_90\">\n    <path d=\"M 39.943311 13.5 \nL 44.693851 85.693939 \nL 49.444392 96.366835 \nL 54.194932 95.867972 \nL 58.945473 100.089543 \nL 63.696014 103.734554 \nL 68.446554 107.851995 \nL 73.197095 108.392608 \nL 77.947635 109.688896 \nL 82.698176 110.728853 \nL 87.448716 117.990669 \nL 92.199257 114.228863 \nL 96.949797 117.07142 \nL 101.700338 116.704417 \nL 106.450878 121.611861 \nL 111.201419 120.81944 \nL 115.951959 121.657586 \nL 120.7025 123.846555 \nL 125.453041 122.887741 \nL 130.203581 125.184288 \nL 134.954122 129.203422 \nL 139.704662 125.841197 \n\" clip-path=\"url(#p1af985c0c6)\" style=\"fill: none; stroke: #1f77b4; stroke-width: 1.5; stroke-linecap: square\"/>\n   </g>\n   <g id=\"line2d_91\">\n    <path d=\"M 47.465 90.387563 \nL 57.23 98.03296 \nL 66.995 104.318445 \nL 76.76 107.742482 \nL 86.525 110.312435 \nL 96.29 114.425438 \nL 106.055 116.65014 \nL 115.82 118.666948 \nL 125.585 120.638732 \nL 135.35 121.956634 \n\" clip-path=\"url(#p1af985c0c6)\" style=\"fill: none; stroke-dasharray: 5.55,2.4; stroke-dashoffset: 0; stroke: #ff7f0e; stroke-width: 1.5\"/>\n   </g>\n   <g id=\"line2d_92\">\n    <path d=\"M 39.943311 13.5 \nL 44.693851 85.693939 \nL 49.444392 96.366835 \nL 54.194932 95.867972 \nL 58.945473 100.089543 \nL 63.696014 103.734554 \nL 68.446554 107.851995 \nL 73.197095 108.392608 \nL 77.947635 109.688896 \nL 82.698176 110.728853 \nL 87.448716 117.990669 \nL 92.199257 114.228863 \nL 96.949797 117.07142 \nL 101.700338 116.704417 \nL 106.450878 121.611861 \nL 111.201419 120.81944 \nL 115.951959 121.657586 \nL 120.7025 123.846555 \nL 125.453041 122.887741 \nL 130.203581 125.184288 \nL 134.954122 129.203422 \nL 139.704662 125.841197 \n\" clip-path=\"url(#p1af985c0c6)\" style=\"fill: none; stroke: #1f77b4; stroke-width: 1.5; stroke-linecap: square\"/>\n   </g>\n   <g id=\"line2d_93\">\n    <path d=\"M 47.465 90.387563 \nL 57.23 98.03296 \nL 66.995 104.318445 \nL 76.76 107.742482 \nL 86.525 110.312435 \nL 96.29 114.425438 \nL 106.055 116.65014 \nL 115.82 118.666948 \nL 125.585 120.638732 \nL 135.35 121.956634 \nL 145.115 124.941589 \n\" clip-path=\"url(#p1af985c0c6)\" style=\"fill: none; stroke-dasharray: 5.55,2.4; stroke-dashoffset: 0; stroke: #ff7f0e; stroke-width: 1.5\"/>\n   </g>\n   <g id=\"line2d_94\">\n    <path d=\"M 39.943311 13.5 \nL 44.693851 85.693939 \nL 49.444392 96.366835 \nL 54.194932 95.867972 \nL 58.945473 100.089543 \nL 63.696014 103.734554 \nL 68.446554 107.851995 \nL 73.197095 108.392608 \nL 77.947635 109.688896 \nL 82.698176 110.728853 \nL 87.448716 117.990669 \nL 92.199257 114.228863 \nL 96.949797 117.07142 \nL 101.700338 116.704417 \nL 106.450878 121.611861 \nL 111.201419 120.81944 \nL 115.951959 121.657586 \nL 120.7025 123.846555 \nL 125.453041 122.887741 \nL 130.203581 125.184288 \nL 134.954122 129.203422 \nL 139.704662 125.841197 \nL 144.455203 128.036964 \n\" clip-path=\"url(#p1af985c0c6)\" style=\"fill: none; stroke: #1f77b4; stroke-width: 1.5; stroke-linecap: square\"/>\n   </g>\n   <g id=\"line2d_95\">\n    <path d=\"M 47.465 90.387563 \nL 57.23 98.03296 \nL 66.995 104.318445 \nL 76.76 107.742482 \nL 86.525 110.312435 \nL 96.29 114.425438 \nL 106.055 116.65014 \nL 115.82 118.666948 \nL 125.585 120.638732 \nL 135.35 121.956634 \nL 145.115 124.941589 \n\" clip-path=\"url(#p1af985c0c6)\" style=\"fill: none; stroke-dasharray: 5.55,2.4; stroke-dashoffset: 0; stroke: #ff7f0e; stroke-width: 1.5\"/>\n   </g>\n   <g id=\"line2d_96\">\n    <path d=\"M 39.943311 13.5 \nL 44.693851 85.693939 \nL 49.444392 96.366835 \nL 54.194932 95.867972 \nL 58.945473 100.089543 \nL 63.696014 103.734554 \nL 68.446554 107.851995 \nL 73.197095 108.392608 \nL 77.947635 109.688896 \nL 82.698176 110.728853 \nL 87.448716 117.990669 \nL 92.199257 114.228863 \nL 96.949797 117.07142 \nL 101.700338 116.704417 \nL 106.450878 121.611861 \nL 111.201419 120.81944 \nL 115.951959 121.657586 \nL 120.7025 123.846555 \nL 125.453041 122.887741 \nL 130.203581 125.184288 \nL 134.954122 129.203422 \nL 139.704662 125.841197 \nL 144.455203 128.036964 \nL 149.205743 127.774872 \n\" clip-path=\"url(#p1af985c0c6)\" style=\"fill: none; stroke: #1f77b4; stroke-width: 1.5; stroke-linecap: square\"/>\n   </g>\n   <g id=\"line2d_97\">\n    <path d=\"M 47.465 90.387563 \nL 57.23 98.03296 \nL 66.995 104.318445 \nL 76.76 107.742482 \nL 86.525 110.312435 \nL 96.29 114.425438 \nL 106.055 116.65014 \nL 115.82 118.666948 \nL 125.585 120.638732 \nL 135.35 121.956634 \nL 145.115 124.941589 \n\" clip-path=\"url(#p1af985c0c6)\" style=\"fill: none; stroke-dasharray: 5.55,2.4; stroke-dashoffset: 0; stroke: #ff7f0e; stroke-width: 1.5\"/>\n   </g>\n   <g id=\"line2d_98\">\n    <path d=\"M 39.943311 13.5 \nL 44.693851 85.693939 \nL 49.444392 96.366835 \nL 54.194932 95.867972 \nL 58.945473 100.089543 \nL 63.696014 103.734554 \nL 68.446554 107.851995 \nL 73.197095 108.392608 \nL 77.947635 109.688896 \nL 82.698176 110.728853 \nL 87.448716 117.990669 \nL 92.199257 114.228863 \nL 96.949797 117.07142 \nL 101.700338 116.704417 \nL 106.450878 121.611861 \nL 111.201419 120.81944 \nL 115.951959 121.657586 \nL 120.7025 123.846555 \nL 125.453041 122.887741 \nL 130.203581 125.184288 \nL 134.954122 129.203422 \nL 139.704662 125.841197 \nL 144.455203 128.036964 \nL 149.205743 127.774872 \n\" clip-path=\"url(#p1af985c0c6)\" style=\"fill: none; stroke: #1f77b4; stroke-width: 1.5; stroke-linecap: square\"/>\n   </g>\n   <g id=\"line2d_99\">\n    <path d=\"M 47.465 90.387563 \nL 57.23 98.03296 \nL 66.995 104.318445 \nL 76.76 107.742482 \nL 86.525 110.312435 \nL 96.29 114.425438 \nL 106.055 116.65014 \nL 115.82 118.666948 \nL 125.585 120.638732 \nL 135.35 121.956634 \nL 145.115 124.941589 \nL 154.88 124.196997 \n\" clip-path=\"url(#p1af985c0c6)\" style=\"fill: none; stroke-dasharray: 5.55,2.4; stroke-dashoffset: 0; stroke: #ff7f0e; stroke-width: 1.5\"/>\n   </g>\n   <g id=\"line2d_100\">\n    <path d=\"M 39.943311 13.5 \nL 44.693851 85.693939 \nL 49.444392 96.366835 \nL 54.194932 95.867972 \nL 58.945473 100.089543 \nL 63.696014 103.734554 \nL 68.446554 107.851995 \nL 73.197095 108.392608 \nL 77.947635 109.688896 \nL 82.698176 110.728853 \nL 87.448716 117.990669 \nL 92.199257 114.228863 \nL 96.949797 117.07142 \nL 101.700338 116.704417 \nL 106.450878 121.611861 \nL 111.201419 120.81944 \nL 115.951959 121.657586 \nL 120.7025 123.846555 \nL 125.453041 122.887741 \nL 130.203581 125.184288 \nL 134.954122 129.203422 \nL 139.704662 125.841197 \nL 144.455203 128.036964 \nL 149.205743 127.774872 \nL 153.956284 129.927426 \n\" clip-path=\"url(#p1af985c0c6)\" style=\"fill: none; stroke: #1f77b4; stroke-width: 1.5; stroke-linecap: square\"/>\n   </g>\n   <g id=\"line2d_101\">\n    <path d=\"M 47.465 90.387563 \nL 57.23 98.03296 \nL 66.995 104.318445 \nL 76.76 107.742482 \nL 86.525 110.312435 \nL 96.29 114.425438 \nL 106.055 116.65014 \nL 115.82 118.666948 \nL 125.585 120.638732 \nL 135.35 121.956634 \nL 145.115 124.941589 \nL 154.88 124.196997 \n\" clip-path=\"url(#p1af985c0c6)\" style=\"fill: none; stroke-dasharray: 5.55,2.4; stroke-dashoffset: 0; stroke: #ff7f0e; stroke-width: 1.5\"/>\n   </g>\n   <g id=\"line2d_102\">\n    <path d=\"M 39.943311 13.5 \nL 44.693851 85.693939 \nL 49.444392 96.366835 \nL 54.194932 95.867972 \nL 58.945473 100.089543 \nL 63.696014 103.734554 \nL 68.446554 107.851995 \nL 73.197095 108.392608 \nL 77.947635 109.688896 \nL 82.698176 110.728853 \nL 87.448716 117.990669 \nL 92.199257 114.228863 \nL 96.949797 117.07142 \nL 101.700338 116.704417 \nL 106.450878 121.611861 \nL 111.201419 120.81944 \nL 115.951959 121.657586 \nL 120.7025 123.846555 \nL 125.453041 122.887741 \nL 130.203581 125.184288 \nL 134.954122 129.203422 \nL 139.704662 125.841197 \nL 144.455203 128.036964 \nL 149.205743 127.774872 \nL 153.956284 129.927426 \nL 158.706824 128.131956 \n\" clip-path=\"url(#p1af985c0c6)\" style=\"fill: none; stroke: #1f77b4; stroke-width: 1.5; stroke-linecap: square\"/>\n   </g>\n   <g id=\"line2d_103\">\n    <path d=\"M 47.465 90.387563 \nL 57.23 98.03296 \nL 66.995 104.318445 \nL 76.76 107.742482 \nL 86.525 110.312435 \nL 96.29 114.425438 \nL 106.055 116.65014 \nL 115.82 118.666948 \nL 125.585 120.638732 \nL 135.35 121.956634 \nL 145.115 124.941589 \nL 154.88 124.196997 \n\" clip-path=\"url(#p1af985c0c6)\" style=\"fill: none; stroke-dasharray: 5.55,2.4; stroke-dashoffset: 0; stroke: #ff7f0e; stroke-width: 1.5\"/>\n   </g>\n   <g id=\"line2d_104\">\n    <path d=\"M 39.943311 13.5 \nL 44.693851 85.693939 \nL 49.444392 96.366835 \nL 54.194932 95.867972 \nL 58.945473 100.089543 \nL 63.696014 103.734554 \nL 68.446554 107.851995 \nL 73.197095 108.392608 \nL 77.947635 109.688896 \nL 82.698176 110.728853 \nL 87.448716 117.990669 \nL 92.199257 114.228863 \nL 96.949797 117.07142 \nL 101.700338 116.704417 \nL 106.450878 121.611861 \nL 111.201419 120.81944 \nL 115.951959 121.657586 \nL 120.7025 123.846555 \nL 125.453041 122.887741 \nL 130.203581 125.184288 \nL 134.954122 129.203422 \nL 139.704662 125.841197 \nL 144.455203 128.036964 \nL 149.205743 127.774872 \nL 153.956284 129.927426 \nL 158.706824 128.131956 \n\" clip-path=\"url(#p1af985c0c6)\" style=\"fill: none; stroke: #1f77b4; stroke-width: 1.5; stroke-linecap: square\"/>\n   </g>\n   <g id=\"line2d_105\">\n    <path d=\"M 47.465 90.387563 \nL 57.23 98.03296 \nL 66.995 104.318445 \nL 76.76 107.742482 \nL 86.525 110.312435 \nL 96.29 114.425438 \nL 106.055 116.65014 \nL 115.82 118.666948 \nL 125.585 120.638732 \nL 135.35 121.956634 \nL 145.115 124.941589 \nL 154.88 124.196997 \nL 164.645 127.741591 \n\" clip-path=\"url(#p1af985c0c6)\" style=\"fill: none; stroke-dasharray: 5.55,2.4; stroke-dashoffset: 0; stroke: #ff7f0e; stroke-width: 1.5\"/>\n   </g>\n   <g id=\"line2d_106\">\n    <path d=\"M 39.943311 13.5 \nL 44.693851 85.693939 \nL 49.444392 96.366835 \nL 54.194932 95.867972 \nL 58.945473 100.089543 \nL 63.696014 103.734554 \nL 68.446554 107.851995 \nL 73.197095 108.392608 \nL 77.947635 109.688896 \nL 82.698176 110.728853 \nL 87.448716 117.990669 \nL 92.199257 114.228863 \nL 96.949797 117.07142 \nL 101.700338 116.704417 \nL 106.450878 121.611861 \nL 111.201419 120.81944 \nL 115.951959 121.657586 \nL 120.7025 123.846555 \nL 125.453041 122.887741 \nL 130.203581 125.184288 \nL 134.954122 129.203422 \nL 139.704662 125.841197 \nL 144.455203 128.036964 \nL 149.205743 127.774872 \nL 153.956284 129.927426 \nL 158.706824 128.131956 \nL 163.457365 132.051381 \n\" clip-path=\"url(#p1af985c0c6)\" style=\"fill: none; stroke: #1f77b4; stroke-width: 1.5; stroke-linecap: square\"/>\n   </g>\n   <g id=\"line2d_107\">\n    <path d=\"M 47.465 90.387563 \nL 57.23 98.03296 \nL 66.995 104.318445 \nL 76.76 107.742482 \nL 86.525 110.312435 \nL 96.29 114.425438 \nL 106.055 116.65014 \nL 115.82 118.666948 \nL 125.585 120.638732 \nL 135.35 121.956634 \nL 145.115 124.941589 \nL 154.88 124.196997 \nL 164.645 127.741591 \n\" clip-path=\"url(#p1af985c0c6)\" style=\"fill: none; stroke-dasharray: 5.55,2.4; stroke-dashoffset: 0; stroke: #ff7f0e; stroke-width: 1.5\"/>\n   </g>\n   <g id=\"line2d_108\">\n    <path d=\"M 39.943311 13.5 \nL 44.693851 85.693939 \nL 49.444392 96.366835 \nL 54.194932 95.867972 \nL 58.945473 100.089543 \nL 63.696014 103.734554 \nL 68.446554 107.851995 \nL 73.197095 108.392608 \nL 77.947635 109.688896 \nL 82.698176 110.728853 \nL 87.448716 117.990669 \nL 92.199257 114.228863 \nL 96.949797 117.07142 \nL 101.700338 116.704417 \nL 106.450878 121.611861 \nL 111.201419 120.81944 \nL 115.951959 121.657586 \nL 120.7025 123.846555 \nL 125.453041 122.887741 \nL 130.203581 125.184288 \nL 134.954122 129.203422 \nL 139.704662 125.841197 \nL 144.455203 128.036964 \nL 149.205743 127.774872 \nL 153.956284 129.927426 \nL 158.706824 128.131956 \nL 163.457365 132.051381 \nL 168.207905 132.934463 \n\" clip-path=\"url(#p1af985c0c6)\" style=\"fill: none; stroke: #1f77b4; stroke-width: 1.5; stroke-linecap: square\"/>\n   </g>\n   <g id=\"line2d_109\">\n    <path d=\"M 47.465 90.387563 \nL 57.23 98.03296 \nL 66.995 104.318445 \nL 76.76 107.742482 \nL 86.525 110.312435 \nL 96.29 114.425438 \nL 106.055 116.65014 \nL 115.82 118.666948 \nL 125.585 120.638732 \nL 135.35 121.956634 \nL 145.115 124.941589 \nL 154.88 124.196997 \nL 164.645 127.741591 \n\" clip-path=\"url(#p1af985c0c6)\" style=\"fill: none; stroke-dasharray: 5.55,2.4; stroke-dashoffset: 0; stroke: #ff7f0e; stroke-width: 1.5\"/>\n   </g>\n   <g id=\"line2d_110\">\n    <path d=\"M 39.943311 13.5 \nL 44.693851 85.693939 \nL 49.444392 96.366835 \nL 54.194932 95.867972 \nL 58.945473 100.089543 \nL 63.696014 103.734554 \nL 68.446554 107.851995 \nL 73.197095 108.392608 \nL 77.947635 109.688896 \nL 82.698176 110.728853 \nL 87.448716 117.990669 \nL 92.199257 114.228863 \nL 96.949797 117.07142 \nL 101.700338 116.704417 \nL 106.450878 121.611861 \nL 111.201419 120.81944 \nL 115.951959 121.657586 \nL 120.7025 123.846555 \nL 125.453041 122.887741 \nL 130.203581 125.184288 \nL 134.954122 129.203422 \nL 139.704662 125.841197 \nL 144.455203 128.036964 \nL 149.205743 127.774872 \nL 153.956284 129.927426 \nL 158.706824 128.131956 \nL 163.457365 132.051381 \nL 168.207905 132.934463 \n\" clip-path=\"url(#p1af985c0c6)\" style=\"fill: none; stroke: #1f77b4; stroke-width: 1.5; stroke-linecap: square\"/>\n   </g>\n   <g id=\"line2d_111\">\n    <path d=\"M 47.465 90.387563 \nL 57.23 98.03296 \nL 66.995 104.318445 \nL 76.76 107.742482 \nL 86.525 110.312435 \nL 96.29 114.425438 \nL 106.055 116.65014 \nL 115.82 118.666948 \nL 125.585 120.638732 \nL 135.35 121.956634 \nL 145.115 124.941589 \nL 154.88 124.196997 \nL 164.645 127.741591 \nL 174.41 129.652956 \n\" clip-path=\"url(#p1af985c0c6)\" style=\"fill: none; stroke-dasharray: 5.55,2.4; stroke-dashoffset: 0; stroke: #ff7f0e; stroke-width: 1.5\"/>\n   </g>\n   <g id=\"line2d_112\">\n    <path d=\"M 39.943311 13.5 \nL 44.693851 85.693939 \nL 49.444392 96.366835 \nL 54.194932 95.867972 \nL 58.945473 100.089543 \nL 63.696014 103.734554 \nL 68.446554 107.851995 \nL 73.197095 108.392608 \nL 77.947635 109.688896 \nL 82.698176 110.728853 \nL 87.448716 117.990669 \nL 92.199257 114.228863 \nL 96.949797 117.07142 \nL 101.700338 116.704417 \nL 106.450878 121.611861 \nL 111.201419 120.81944 \nL 115.951959 121.657586 \nL 120.7025 123.846555 \nL 125.453041 122.887741 \nL 130.203581 125.184288 \nL 134.954122 129.203422 \nL 139.704662 125.841197 \nL 144.455203 128.036964 \nL 149.205743 127.774872 \nL 153.956284 129.927426 \nL 158.706824 128.131956 \nL 163.457365 132.051381 \nL 168.207905 132.934463 \nL 172.958446 127.699076 \n\" clip-path=\"url(#p1af985c0c6)\" style=\"fill: none; stroke: #1f77b4; stroke-width: 1.5; stroke-linecap: square\"/>\n   </g>\n   <g id=\"line2d_113\">\n    <path d=\"M 47.465 90.387563 \nL 57.23 98.03296 \nL 66.995 104.318445 \nL 76.76 107.742482 \nL 86.525 110.312435 \nL 96.29 114.425438 \nL 106.055 116.65014 \nL 115.82 118.666948 \nL 125.585 120.638732 \nL 135.35 121.956634 \nL 145.115 124.941589 \nL 154.88 124.196997 \nL 164.645 127.741591 \nL 174.41 129.652956 \n\" clip-path=\"url(#p1af985c0c6)\" style=\"fill: none; stroke-dasharray: 5.55,2.4; stroke-dashoffset: 0; stroke: #ff7f0e; stroke-width: 1.5\"/>\n   </g>\n   <g id=\"line2d_114\">\n    <path d=\"M 39.943311 13.5 \nL 44.693851 85.693939 \nL 49.444392 96.366835 \nL 54.194932 95.867972 \nL 58.945473 100.089543 \nL 63.696014 103.734554 \nL 68.446554 107.851995 \nL 73.197095 108.392608 \nL 77.947635 109.688896 \nL 82.698176 110.728853 \nL 87.448716 117.990669 \nL 92.199257 114.228863 \nL 96.949797 117.07142 \nL 101.700338 116.704417 \nL 106.450878 121.611861 \nL 111.201419 120.81944 \nL 115.951959 121.657586 \nL 120.7025 123.846555 \nL 125.453041 122.887741 \nL 130.203581 125.184288 \nL 134.954122 129.203422 \nL 139.704662 125.841197 \nL 144.455203 128.036964 \nL 149.205743 127.774872 \nL 153.956284 129.927426 \nL 158.706824 128.131956 \nL 163.457365 132.051381 \nL 168.207905 132.934463 \nL 172.958446 127.699076 \nL 177.708986 134.62135 \n\" clip-path=\"url(#p1af985c0c6)\" style=\"fill: none; stroke: #1f77b4; stroke-width: 1.5; stroke-linecap: square\"/>\n   </g>\n   <g id=\"line2d_115\">\n    <path d=\"M 47.465 90.387563 \nL 57.23 98.03296 \nL 66.995 104.318445 \nL 76.76 107.742482 \nL 86.525 110.312435 \nL 96.29 114.425438 \nL 106.055 116.65014 \nL 115.82 118.666948 \nL 125.585 120.638732 \nL 135.35 121.956634 \nL 145.115 124.941589 \nL 154.88 124.196997 \nL 164.645 127.741591 \nL 174.41 129.652956 \n\" clip-path=\"url(#p1af985c0c6)\" style=\"fill: none; stroke-dasharray: 5.55,2.4; stroke-dashoffset: 0; stroke: #ff7f0e; stroke-width: 1.5\"/>\n   </g>\n   <g id=\"line2d_116\">\n    <path d=\"M 39.943311 13.5 \nL 44.693851 85.693939 \nL 49.444392 96.366835 \nL 54.194932 95.867972 \nL 58.945473 100.089543 \nL 63.696014 103.734554 \nL 68.446554 107.851995 \nL 73.197095 108.392608 \nL 77.947635 109.688896 \nL 82.698176 110.728853 \nL 87.448716 117.990669 \nL 92.199257 114.228863 \nL 96.949797 117.07142 \nL 101.700338 116.704417 \nL 106.450878 121.611861 \nL 111.201419 120.81944 \nL 115.951959 121.657586 \nL 120.7025 123.846555 \nL 125.453041 122.887741 \nL 130.203581 125.184288 \nL 134.954122 129.203422 \nL 139.704662 125.841197 \nL 144.455203 128.036964 \nL 149.205743 127.774872 \nL 153.956284 129.927426 \nL 158.706824 128.131956 \nL 163.457365 132.051381 \nL 168.207905 132.934463 \nL 172.958446 127.699076 \nL 177.708986 134.62135 \n\" clip-path=\"url(#p1af985c0c6)\" style=\"fill: none; stroke: #1f77b4; stroke-width: 1.5; stroke-linecap: square\"/>\n   </g>\n   <g id=\"line2d_117\">\n    <path d=\"M 47.465 90.387563 \nL 57.23 98.03296 \nL 66.995 104.318445 \nL 76.76 107.742482 \nL 86.525 110.312435 \nL 96.29 114.425438 \nL 106.055 116.65014 \nL 115.82 118.666948 \nL 125.585 120.638732 \nL 135.35 121.956634 \nL 145.115 124.941589 \nL 154.88 124.196997 \nL 164.645 127.741591 \nL 174.41 129.652956 \nL 184.175 129.442527 \n\" clip-path=\"url(#p1af985c0c6)\" style=\"fill: none; stroke-dasharray: 5.55,2.4; stroke-dashoffset: 0; stroke: #ff7f0e; stroke-width: 1.5\"/>\n   </g>\n   <g id=\"line2d_118\">\n    <path d=\"M 39.943311 13.5 \nL 44.693851 85.693939 \nL 49.444392 96.366835 \nL 54.194932 95.867972 \nL 58.945473 100.089543 \nL 63.696014 103.734554 \nL 68.446554 107.851995 \nL 73.197095 108.392608 \nL 77.947635 109.688896 \nL 82.698176 110.728853 \nL 87.448716 117.990669 \nL 92.199257 114.228863 \nL 96.949797 117.07142 \nL 101.700338 116.704417 \nL 106.450878 121.611861 \nL 111.201419 120.81944 \nL 115.951959 121.657586 \nL 120.7025 123.846555 \nL 125.453041 122.887741 \nL 130.203581 125.184288 \nL 134.954122 129.203422 \nL 139.704662 125.841197 \nL 144.455203 128.036964 \nL 149.205743 127.774872 \nL 153.956284 129.927426 \nL 158.706824 128.131956 \nL 163.457365 132.051381 \nL 168.207905 132.934463 \nL 172.958446 127.699076 \nL 177.708986 134.62135 \nL 182.459527 132.488163 \n\" clip-path=\"url(#p1af985c0c6)\" style=\"fill: none; stroke: #1f77b4; stroke-width: 1.5; stroke-linecap: square\"/>\n   </g>\n   <g id=\"line2d_119\">\n    <path d=\"M 47.465 90.387563 \nL 57.23 98.03296 \nL 66.995 104.318445 \nL 76.76 107.742482 \nL 86.525 110.312435 \nL 96.29 114.425438 \nL 106.055 116.65014 \nL 115.82 118.666948 \nL 125.585 120.638732 \nL 135.35 121.956634 \nL 145.115 124.941589 \nL 154.88 124.196997 \nL 164.645 127.741591 \nL 174.41 129.652956 \nL 184.175 129.442527 \n\" clip-path=\"url(#p1af985c0c6)\" style=\"fill: none; stroke-dasharray: 5.55,2.4; stroke-dashoffset: 0; stroke: #ff7f0e; stroke-width: 1.5\"/>\n   </g>\n   <g id=\"line2d_120\">\n    <path d=\"M 39.943311 13.5 \nL 44.693851 85.693939 \nL 49.444392 96.366835 \nL 54.194932 95.867972 \nL 58.945473 100.089543 \nL 63.696014 103.734554 \nL 68.446554 107.851995 \nL 73.197095 108.392608 \nL 77.947635 109.688896 \nL 82.698176 110.728853 \nL 87.448716 117.990669 \nL 92.199257 114.228863 \nL 96.949797 117.07142 \nL 101.700338 116.704417 \nL 106.450878 121.611861 \nL 111.201419 120.81944 \nL 115.951959 121.657586 \nL 120.7025 123.846555 \nL 125.453041 122.887741 \nL 130.203581 125.184288 \nL 134.954122 129.203422 \nL 139.704662 125.841197 \nL 144.455203 128.036964 \nL 149.205743 127.774872 \nL 153.956284 129.927426 \nL 158.706824 128.131956 \nL 163.457365 132.051381 \nL 168.207905 132.934463 \nL 172.958446 127.699076 \nL 177.708986 134.62135 \nL 182.459527 132.488163 \nL 187.210068 135.08062 \n\" clip-path=\"url(#p1af985c0c6)\" style=\"fill: none; stroke: #1f77b4; stroke-width: 1.5; stroke-linecap: square\"/>\n   </g>\n   <g id=\"line2d_121\">\n    <path d=\"M 47.465 90.387563 \nL 57.23 98.03296 \nL 66.995 104.318445 \nL 76.76 107.742482 \nL 86.525 110.312435 \nL 96.29 114.425438 \nL 106.055 116.65014 \nL 115.82 118.666948 \nL 125.585 120.638732 \nL 135.35 121.956634 \nL 145.115 124.941589 \nL 154.88 124.196997 \nL 164.645 127.741591 \nL 174.41 129.652956 \nL 184.175 129.442527 \n\" clip-path=\"url(#p1af985c0c6)\" style=\"fill: none; stroke-dasharray: 5.55,2.4; stroke-dashoffset: 0; stroke: #ff7f0e; stroke-width: 1.5\"/>\n   </g>\n   <g id=\"line2d_122\">\n    <path d=\"M 39.943311 13.5 \nL 44.693851 85.693939 \nL 49.444392 96.366835 \nL 54.194932 95.867972 \nL 58.945473 100.089543 \nL 63.696014 103.734554 \nL 68.446554 107.851995 \nL 73.197095 108.392608 \nL 77.947635 109.688896 \nL 82.698176 110.728853 \nL 87.448716 117.990669 \nL 92.199257 114.228863 \nL 96.949797 117.07142 \nL 101.700338 116.704417 \nL 106.450878 121.611861 \nL 111.201419 120.81944 \nL 115.951959 121.657586 \nL 120.7025 123.846555 \nL 125.453041 122.887741 \nL 130.203581 125.184288 \nL 134.954122 129.203422 \nL 139.704662 125.841197 \nL 144.455203 128.036964 \nL 149.205743 127.774872 \nL 153.956284 129.927426 \nL 158.706824 128.131956 \nL 163.457365 132.051381 \nL 168.207905 132.934463 \nL 172.958446 127.699076 \nL 177.708986 134.62135 \nL 182.459527 132.488163 \nL 187.210068 135.08062 \n\" clip-path=\"url(#p1af985c0c6)\" style=\"fill: none; stroke: #1f77b4; stroke-width: 1.5; stroke-linecap: square\"/>\n   </g>\n   <g id=\"line2d_123\">\n    <path d=\"M 47.465 90.387563 \nL 57.23 98.03296 \nL 66.995 104.318445 \nL 76.76 107.742482 \nL 86.525 110.312435 \nL 96.29 114.425438 \nL 106.055 116.65014 \nL 115.82 118.666948 \nL 125.585 120.638732 \nL 135.35 121.956634 \nL 145.115 124.941589 \nL 154.88 124.196997 \nL 164.645 127.741591 \nL 174.41 129.652956 \nL 184.175 129.442527 \nL 193.94 132.207527 \n\" clip-path=\"url(#p1af985c0c6)\" style=\"fill: none; stroke-dasharray: 5.55,2.4; stroke-dashoffset: 0; stroke: #ff7f0e; stroke-width: 1.5\"/>\n   </g>\n   <g id=\"line2d_124\">\n    <path d=\"M 39.943311 13.5 \nL 44.693851 85.693939 \nL 49.444392 96.366835 \nL 54.194932 95.867972 \nL 58.945473 100.089543 \nL 63.696014 103.734554 \nL 68.446554 107.851995 \nL 73.197095 108.392608 \nL 77.947635 109.688896 \nL 82.698176 110.728853 \nL 87.448716 117.990669 \nL 92.199257 114.228863 \nL 96.949797 117.07142 \nL 101.700338 116.704417 \nL 106.450878 121.611861 \nL 111.201419 120.81944 \nL 115.951959 121.657586 \nL 120.7025 123.846555 \nL 125.453041 122.887741 \nL 130.203581 125.184288 \nL 134.954122 129.203422 \nL 139.704662 125.841197 \nL 144.455203 128.036964 \nL 149.205743 127.774872 \nL 153.956284 129.927426 \nL 158.706824 128.131956 \nL 163.457365 132.051381 \nL 168.207905 132.934463 \nL 172.958446 127.699076 \nL 177.708986 134.62135 \nL 182.459527 132.488163 \nL 187.210068 135.08062 \nL 191.960608 131.803412 \n\" clip-path=\"url(#p1af985c0c6)\" style=\"fill: none; stroke: #1f77b4; stroke-width: 1.5; stroke-linecap: square\"/>\n   </g>\n   <g id=\"line2d_125\">\n    <path d=\"M 47.465 90.387563 \nL 57.23 98.03296 \nL 66.995 104.318445 \nL 76.76 107.742482 \nL 86.525 110.312435 \nL 96.29 114.425438 \nL 106.055 116.65014 \nL 115.82 118.666948 \nL 125.585 120.638732 \nL 135.35 121.956634 \nL 145.115 124.941589 \nL 154.88 124.196997 \nL 164.645 127.741591 \nL 174.41 129.652956 \nL 184.175 129.442527 \nL 193.94 132.207527 \n\" clip-path=\"url(#p1af985c0c6)\" style=\"fill: none; stroke-dasharray: 5.55,2.4; stroke-dashoffset: 0; stroke: #ff7f0e; stroke-width: 1.5\"/>\n   </g>\n   <g id=\"line2d_126\">\n    <path d=\"M 39.943311 13.5 \nL 44.693851 85.693939 \nL 49.444392 96.366835 \nL 54.194932 95.867972 \nL 58.945473 100.089543 \nL 63.696014 103.734554 \nL 68.446554 107.851995 \nL 73.197095 108.392608 \nL 77.947635 109.688896 \nL 82.698176 110.728853 \nL 87.448716 117.990669 \nL 92.199257 114.228863 \nL 96.949797 117.07142 \nL 101.700338 116.704417 \nL 106.450878 121.611861 \nL 111.201419 120.81944 \nL 115.951959 121.657586 \nL 120.7025 123.846555 \nL 125.453041 122.887741 \nL 130.203581 125.184288 \nL 134.954122 129.203422 \nL 139.704662 125.841197 \nL 144.455203 128.036964 \nL 149.205743 127.774872 \nL 153.956284 129.927426 \nL 158.706824 128.131956 \nL 163.457365 132.051381 \nL 168.207905 132.934463 \nL 172.958446 127.699076 \nL 177.708986 134.62135 \nL 182.459527 132.488163 \nL 187.210068 135.08062 \nL 191.960608 131.803412 \nL 196.711149 136.882283 \n\" clip-path=\"url(#p1af985c0c6)\" style=\"fill: none; stroke: #1f77b4; stroke-width: 1.5; stroke-linecap: square\"/>\n   </g>\n   <g id=\"line2d_127\">\n    <path d=\"M 47.465 90.387563 \nL 57.23 98.03296 \nL 66.995 104.318445 \nL 76.76 107.742482 \nL 86.525 110.312435 \nL 96.29 114.425438 \nL 106.055 116.65014 \nL 115.82 118.666948 \nL 125.585 120.638732 \nL 135.35 121.956634 \nL 145.115 124.941589 \nL 154.88 124.196997 \nL 164.645 127.741591 \nL 174.41 129.652956 \nL 184.175 129.442527 \nL 193.94 132.207527 \n\" clip-path=\"url(#p1af985c0c6)\" style=\"fill: none; stroke-dasharray: 5.55,2.4; stroke-dashoffset: 0; stroke: #ff7f0e; stroke-width: 1.5\"/>\n   </g>\n   <g id=\"line2d_128\">\n    <path d=\"M 39.943311 13.5 \nL 44.693851 85.693939 \nL 49.444392 96.366835 \nL 54.194932 95.867972 \nL 58.945473 100.089543 \nL 63.696014 103.734554 \nL 68.446554 107.851995 \nL 73.197095 108.392608 \nL 77.947635 109.688896 \nL 82.698176 110.728853 \nL 87.448716 117.990669 \nL 92.199257 114.228863 \nL 96.949797 117.07142 \nL 101.700338 116.704417 \nL 106.450878 121.611861 \nL 111.201419 120.81944 \nL 115.951959 121.657586 \nL 120.7025 123.846555 \nL 125.453041 122.887741 \nL 130.203581 125.184288 \nL 134.954122 129.203422 \nL 139.704662 125.841197 \nL 144.455203 128.036964 \nL 149.205743 127.774872 \nL 153.956284 129.927426 \nL 158.706824 128.131956 \nL 163.457365 132.051381 \nL 168.207905 132.934463 \nL 172.958446 127.699076 \nL 177.708986 134.62135 \nL 182.459527 132.488163 \nL 187.210068 135.08062 \nL 191.960608 131.803412 \nL 196.711149 136.882283 \n\" clip-path=\"url(#p1af985c0c6)\" style=\"fill: none; stroke: #1f77b4; stroke-width: 1.5; stroke-linecap: square\"/>\n   </g>\n   <g id=\"line2d_129\">\n    <path d=\"M 47.465 90.387563 \nL 57.23 98.03296 \nL 66.995 104.318445 \nL 76.76 107.742482 \nL 86.525 110.312435 \nL 96.29 114.425438 \nL 106.055 116.65014 \nL 115.82 118.666948 \nL 125.585 120.638732 \nL 135.35 121.956634 \nL 145.115 124.941589 \nL 154.88 124.196997 \nL 164.645 127.741591 \nL 174.41 129.652956 \nL 184.175 129.442527 \nL 193.94 132.207527 \nL 203.705 132.262044 \n\" clip-path=\"url(#p1af985c0c6)\" style=\"fill: none; stroke-dasharray: 5.55,2.4; stroke-dashoffset: 0; stroke: #ff7f0e; stroke-width: 1.5\"/>\n   </g>\n   <g id=\"line2d_130\">\n    <path d=\"M 39.943311 13.5 \nL 44.693851 85.693939 \nL 49.444392 96.366835 \nL 54.194932 95.867972 \nL 58.945473 100.089543 \nL 63.696014 103.734554 \nL 68.446554 107.851995 \nL 73.197095 108.392608 \nL 77.947635 109.688896 \nL 82.698176 110.728853 \nL 87.448716 117.990669 \nL 92.199257 114.228863 \nL 96.949797 117.07142 \nL 101.700338 116.704417 \nL 106.450878 121.611861 \nL 111.201419 120.81944 \nL 115.951959 121.657586 \nL 120.7025 123.846555 \nL 125.453041 122.887741 \nL 130.203581 125.184288 \nL 134.954122 129.203422 \nL 139.704662 125.841197 \nL 144.455203 128.036964 \nL 149.205743 127.774872 \nL 153.956284 129.927426 \nL 158.706824 128.131956 \nL 163.457365 132.051381 \nL 168.207905 132.934463 \nL 172.958446 127.699076 \nL 177.708986 134.62135 \nL 182.459527 132.488163 \nL 187.210068 135.08062 \nL 191.960608 131.803412 \nL 196.711149 136.882283 \nL 201.461689 135.166528 \n\" clip-path=\"url(#p1af985c0c6)\" style=\"fill: none; stroke: #1f77b4; stroke-width: 1.5; stroke-linecap: square\"/>\n   </g>\n   <g id=\"line2d_131\">\n    <path d=\"M 47.465 90.387563 \nL 57.23 98.03296 \nL 66.995 104.318445 \nL 76.76 107.742482 \nL 86.525 110.312435 \nL 96.29 114.425438 \nL 106.055 116.65014 \nL 115.82 118.666948 \nL 125.585 120.638732 \nL 135.35 121.956634 \nL 145.115 124.941589 \nL 154.88 124.196997 \nL 164.645 127.741591 \nL 174.41 129.652956 \nL 184.175 129.442527 \nL 193.94 132.207527 \nL 203.705 132.262044 \n\" clip-path=\"url(#p1af985c0c6)\" style=\"fill: none; stroke-dasharray: 5.55,2.4; stroke-dashoffset: 0; stroke: #ff7f0e; stroke-width: 1.5\"/>\n   </g>\n   <g id=\"line2d_132\">\n    <path d=\"M 39.943311 13.5 \nL 44.693851 85.693939 \nL 49.444392 96.366835 \nL 54.194932 95.867972 \nL 58.945473 100.089543 \nL 63.696014 103.734554 \nL 68.446554 107.851995 \nL 73.197095 108.392608 \nL 77.947635 109.688896 \nL 82.698176 110.728853 \nL 87.448716 117.990669 \nL 92.199257 114.228863 \nL 96.949797 117.07142 \nL 101.700338 116.704417 \nL 106.450878 121.611861 \nL 111.201419 120.81944 \nL 115.951959 121.657586 \nL 120.7025 123.846555 \nL 125.453041 122.887741 \nL 130.203581 125.184288 \nL 134.954122 129.203422 \nL 139.704662 125.841197 \nL 144.455203 128.036964 \nL 149.205743 127.774872 \nL 153.956284 129.927426 \nL 158.706824 128.131956 \nL 163.457365 132.051381 \nL 168.207905 132.934463 \nL 172.958446 127.699076 \nL 177.708986 134.62135 \nL 182.459527 132.488163 \nL 187.210068 135.08062 \nL 191.960608 131.803412 \nL 196.711149 136.882283 \nL 201.461689 135.166528 \nL 206.21223 135.19956 \n\" clip-path=\"url(#p1af985c0c6)\" style=\"fill: none; stroke: #1f77b4; stroke-width: 1.5; stroke-linecap: square\"/>\n   </g>\n   <g id=\"line2d_133\">\n    <path d=\"M 47.465 90.387563 \nL 57.23 98.03296 \nL 66.995 104.318445 \nL 76.76 107.742482 \nL 86.525 110.312435 \nL 96.29 114.425438 \nL 106.055 116.65014 \nL 115.82 118.666948 \nL 125.585 120.638732 \nL 135.35 121.956634 \nL 145.115 124.941589 \nL 154.88 124.196997 \nL 164.645 127.741591 \nL 174.41 129.652956 \nL 184.175 129.442527 \nL 193.94 132.207527 \nL 203.705 132.262044 \n\" clip-path=\"url(#p1af985c0c6)\" style=\"fill: none; stroke-dasharray: 5.55,2.4; stroke-dashoffset: 0; stroke: #ff7f0e; stroke-width: 1.5\"/>\n   </g>\n   <g id=\"line2d_134\">\n    <path d=\"M 39.943311 13.5 \nL 44.693851 85.693939 \nL 49.444392 96.366835 \nL 54.194932 95.867972 \nL 58.945473 100.089543 \nL 63.696014 103.734554 \nL 68.446554 107.851995 \nL 73.197095 108.392608 \nL 77.947635 109.688896 \nL 82.698176 110.728853 \nL 87.448716 117.990669 \nL 92.199257 114.228863 \nL 96.949797 117.07142 \nL 101.700338 116.704417 \nL 106.450878 121.611861 \nL 111.201419 120.81944 \nL 115.951959 121.657586 \nL 120.7025 123.846555 \nL 125.453041 122.887741 \nL 130.203581 125.184288 \nL 134.954122 129.203422 \nL 139.704662 125.841197 \nL 144.455203 128.036964 \nL 149.205743 127.774872 \nL 153.956284 129.927426 \nL 158.706824 128.131956 \nL 163.457365 132.051381 \nL 168.207905 132.934463 \nL 172.958446 127.699076 \nL 177.708986 134.62135 \nL 182.459527 132.488163 \nL 187.210068 135.08062 \nL 191.960608 131.803412 \nL 196.711149 136.882283 \nL 201.461689 135.166528 \nL 206.21223 135.19956 \nL 210.96277 136.216122 \n\" clip-path=\"url(#p1af985c0c6)\" style=\"fill: none; stroke: #1f77b4; stroke-width: 1.5; stroke-linecap: square\"/>\n   </g>\n   <g id=\"line2d_135\">\n    <path d=\"M 47.465 90.387563 \nL 57.23 98.03296 \nL 66.995 104.318445 \nL 76.76 107.742482 \nL 86.525 110.312435 \nL 96.29 114.425438 \nL 106.055 116.65014 \nL 115.82 118.666948 \nL 125.585 120.638732 \nL 135.35 121.956634 \nL 145.115 124.941589 \nL 154.88 124.196997 \nL 164.645 127.741591 \nL 174.41 129.652956 \nL 184.175 129.442527 \nL 193.94 132.207527 \nL 203.705 132.262044 \n\" clip-path=\"url(#p1af985c0c6)\" style=\"fill: none; stroke-dasharray: 5.55,2.4; stroke-dashoffset: 0; stroke: #ff7f0e; stroke-width: 1.5\"/>\n   </g>\n   <g id=\"line2d_136\">\n    <path d=\"M 39.943311 13.5 \nL 44.693851 85.693939 \nL 49.444392 96.366835 \nL 54.194932 95.867972 \nL 58.945473 100.089543 \nL 63.696014 103.734554 \nL 68.446554 107.851995 \nL 73.197095 108.392608 \nL 77.947635 109.688896 \nL 82.698176 110.728853 \nL 87.448716 117.990669 \nL 92.199257 114.228863 \nL 96.949797 117.07142 \nL 101.700338 116.704417 \nL 106.450878 121.611861 \nL 111.201419 120.81944 \nL 115.951959 121.657586 \nL 120.7025 123.846555 \nL 125.453041 122.887741 \nL 130.203581 125.184288 \nL 134.954122 129.203422 \nL 139.704662 125.841197 \nL 144.455203 128.036964 \nL 149.205743 127.774872 \nL 153.956284 129.927426 \nL 158.706824 128.131956 \nL 163.457365 132.051381 \nL 168.207905 132.934463 \nL 172.958446 127.699076 \nL 177.708986 134.62135 \nL 182.459527 132.488163 \nL 187.210068 135.08062 \nL 191.960608 131.803412 \nL 196.711149 136.882283 \nL 201.461689 135.166528 \nL 206.21223 135.19956 \nL 210.96277 136.216122 \n\" clip-path=\"url(#p1af985c0c6)\" style=\"fill: none; stroke: #1f77b4; stroke-width: 1.5; stroke-linecap: square\"/>\n   </g>\n   <g id=\"line2d_137\">\n    <path d=\"M 47.465 90.387563 \nL 57.23 98.03296 \nL 66.995 104.318445 \nL 76.76 107.742482 \nL 86.525 110.312435 \nL 96.29 114.425438 \nL 106.055 116.65014 \nL 115.82 118.666948 \nL 125.585 120.638732 \nL 135.35 121.956634 \nL 145.115 124.941589 \nL 154.88 124.196997 \nL 164.645 127.741591 \nL 174.41 129.652956 \nL 184.175 129.442527 \nL 193.94 132.207527 \nL 203.705 132.262044 \nL 213.47 133.349699 \n\" clip-path=\"url(#p1af985c0c6)\" style=\"fill: none; stroke-dasharray: 5.55,2.4; stroke-dashoffset: 0; stroke: #ff7f0e; stroke-width: 1.5\"/>\n   </g>\n   <g id=\"line2d_138\">\n    <path d=\"M 39.943311 13.5 \nL 44.693851 85.693939 \nL 49.444392 96.366835 \nL 54.194932 95.867972 \nL 58.945473 100.089543 \nL 63.696014 103.734554 \nL 68.446554 107.851995 \nL 73.197095 108.392608 \nL 77.947635 109.688896 \nL 82.698176 110.728853 \nL 87.448716 117.990669 \nL 92.199257 114.228863 \nL 96.949797 117.07142 \nL 101.700338 116.704417 \nL 106.450878 121.611861 \nL 111.201419 120.81944 \nL 115.951959 121.657586 \nL 120.7025 123.846555 \nL 125.453041 122.887741 \nL 130.203581 125.184288 \nL 134.954122 129.203422 \nL 139.704662 125.841197 \nL 144.455203 128.036964 \nL 149.205743 127.774872 \nL 153.956284 129.927426 \nL 158.706824 128.131956 \nL 163.457365 132.051381 \nL 168.207905 132.934463 \nL 172.958446 127.699076 \nL 177.708986 134.62135 \nL 182.459527 132.488163 \nL 187.210068 135.08062 \nL 191.960608 131.803412 \nL 196.711149 136.882283 \nL 201.461689 135.166528 \nL 206.21223 135.19956 \nL 210.96277 136.216122 \nL 215.713311 139.5 \n\" clip-path=\"url(#p1af985c0c6)\" style=\"fill: none; stroke: #1f77b4; stroke-width: 1.5; stroke-linecap: square\"/>\n   </g>\n   <g id=\"line2d_139\">\n    <path d=\"M 47.465 90.387563 \nL 57.23 98.03296 \nL 66.995 104.318445 \nL 76.76 107.742482 \nL 86.525 110.312435 \nL 96.29 114.425438 \nL 106.055 116.65014 \nL 115.82 118.666948 \nL 125.585 120.638732 \nL 135.35 121.956634 \nL 145.115 124.941589 \nL 154.88 124.196997 \nL 164.645 127.741591 \nL 174.41 129.652956 \nL 184.175 129.442527 \nL 193.94 132.207527 \nL 203.705 132.262044 \nL 213.47 133.349699 \n\" clip-path=\"url(#p1af985c0c6)\" style=\"fill: none; stroke-dasharray: 5.55,2.4; stroke-dashoffset: 0; stroke: #ff7f0e; stroke-width: 1.5\"/>\n   </g>\n   <g id=\"line2d_140\">\n    <path d=\"M 39.943311 13.5 \nL 44.693851 85.693939 \nL 49.444392 96.366835 \nL 54.194932 95.867972 \nL 58.945473 100.089543 \nL 63.696014 103.734554 \nL 68.446554 107.851995 \nL 73.197095 108.392608 \nL 77.947635 109.688896 \nL 82.698176 110.728853 \nL 87.448716 117.990669 \nL 92.199257 114.228863 \nL 96.949797 117.07142 \nL 101.700338 116.704417 \nL 106.450878 121.611861 \nL 111.201419 120.81944 \nL 115.951959 121.657586 \nL 120.7025 123.846555 \nL 125.453041 122.887741 \nL 130.203581 125.184288 \nL 134.954122 129.203422 \nL 139.704662 125.841197 \nL 144.455203 128.036964 \nL 149.205743 127.774872 \nL 153.956284 129.927426 \nL 158.706824 128.131956 \nL 163.457365 132.051381 \nL 168.207905 132.934463 \nL 172.958446 127.699076 \nL 177.708986 134.62135 \nL 182.459527 132.488163 \nL 187.210068 135.08062 \nL 191.960608 131.803412 \nL 196.711149 136.882283 \nL 201.461689 135.166528 \nL 206.21223 135.19956 \nL 210.96277 136.216122 \nL 215.713311 139.5 \nL 220.463851 134.627996 \n\" clip-path=\"url(#p1af985c0c6)\" style=\"fill: none; stroke: #1f77b4; stroke-width: 1.5; stroke-linecap: square\"/>\n   </g>\n   <g id=\"line2d_141\">\n    <path d=\"M 47.465 90.387563 \nL 57.23 98.03296 \nL 66.995 104.318445 \nL 76.76 107.742482 \nL 86.525 110.312435 \nL 96.29 114.425438 \nL 106.055 116.65014 \nL 115.82 118.666948 \nL 125.585 120.638732 \nL 135.35 121.956634 \nL 145.115 124.941589 \nL 154.88 124.196997 \nL 164.645 127.741591 \nL 174.41 129.652956 \nL 184.175 129.442527 \nL 193.94 132.207527 \nL 203.705 132.262044 \nL 213.47 133.349699 \n\" clip-path=\"url(#p1af985c0c6)\" style=\"fill: none; stroke-dasharray: 5.55,2.4; stroke-dashoffset: 0; stroke: #ff7f0e; stroke-width: 1.5\"/>\n   </g>\n   <g id=\"line2d_142\">\n    <path d=\"M 39.943311 13.5 \nL 44.693851 85.693939 \nL 49.444392 96.366835 \nL 54.194932 95.867972 \nL 58.945473 100.089543 \nL 63.696014 103.734554 \nL 68.446554 107.851995 \nL 73.197095 108.392608 \nL 77.947635 109.688896 \nL 82.698176 110.728853 \nL 87.448716 117.990669 \nL 92.199257 114.228863 \nL 96.949797 117.07142 \nL 101.700338 116.704417 \nL 106.450878 121.611861 \nL 111.201419 120.81944 \nL 115.951959 121.657586 \nL 120.7025 123.846555 \nL 125.453041 122.887741 \nL 130.203581 125.184288 \nL 134.954122 129.203422 \nL 139.704662 125.841197 \nL 144.455203 128.036964 \nL 149.205743 127.774872 \nL 153.956284 129.927426 \nL 158.706824 128.131956 \nL 163.457365 132.051381 \nL 168.207905 132.934463 \nL 172.958446 127.699076 \nL 177.708986 134.62135 \nL 182.459527 132.488163 \nL 187.210068 135.08062 \nL 191.960608 131.803412 \nL 196.711149 136.882283 \nL 201.461689 135.166528 \nL 206.21223 135.19956 \nL 210.96277 136.216122 \nL 215.713311 139.5 \nL 220.463851 134.627996 \n\" clip-path=\"url(#p1af985c0c6)\" style=\"fill: none; stroke: #1f77b4; stroke-width: 1.5; stroke-linecap: square\"/>\n   </g>\n   <g id=\"line2d_143\">\n    <path d=\"M 47.465 90.387563 \nL 57.23 98.03296 \nL 66.995 104.318445 \nL 76.76 107.742482 \nL 86.525 110.312435 \nL 96.29 114.425438 \nL 106.055 116.65014 \nL 115.82 118.666948 \nL 125.585 120.638732 \nL 135.35 121.956634 \nL 145.115 124.941589 \nL 154.88 124.196997 \nL 164.645 127.741591 \nL 174.41 129.652956 \nL 184.175 129.442527 \nL 193.94 132.207527 \nL 203.705 132.262044 \nL 213.47 133.349699 \nL 223.235 134.127277 \n\" clip-path=\"url(#p1af985c0c6)\" style=\"fill: none; stroke-dasharray: 5.55,2.4; stroke-dashoffset: 0; stroke: #ff7f0e; stroke-width: 1.5\"/>\n   </g>\n   <g id=\"line2d_144\">\n    <path d=\"M 39.943311 13.5 \nL 44.693851 85.693939 \nL 49.444392 96.366835 \nL 54.194932 95.867972 \nL 58.945473 100.089543 \nL 63.696014 103.734554 \nL 68.446554 107.851995 \nL 73.197095 108.392608 \nL 77.947635 109.688896 \nL 82.698176 110.728853 \nL 87.448716 117.990669 \nL 92.199257 114.228863 \nL 96.949797 117.07142 \nL 101.700338 116.704417 \nL 106.450878 121.611861 \nL 111.201419 120.81944 \nL 115.951959 121.657586 \nL 120.7025 123.846555 \nL 125.453041 122.887741 \nL 130.203581 125.184288 \nL 134.954122 129.203422 \nL 139.704662 125.841197 \nL 144.455203 128.036964 \nL 149.205743 127.774872 \nL 153.956284 129.927426 \nL 158.706824 128.131956 \nL 163.457365 132.051381 \nL 168.207905 132.934463 \nL 172.958446 127.699076 \nL 177.708986 134.62135 \nL 182.459527 132.488163 \nL 187.210068 135.08062 \nL 191.960608 131.803412 \nL 196.711149 136.882283 \nL 201.461689 135.166528 \nL 206.21223 135.19956 \nL 210.96277 136.216122 \nL 215.713311 139.5 \nL 220.463851 134.627996 \nL 225.214392 136.429346 \n\" clip-path=\"url(#p1af985c0c6)\" style=\"fill: none; stroke: #1f77b4; stroke-width: 1.5; stroke-linecap: square\"/>\n   </g>\n   <g id=\"line2d_145\">\n    <path d=\"M 47.465 90.387563 \nL 57.23 98.03296 \nL 66.995 104.318445 \nL 76.76 107.742482 \nL 86.525 110.312435 \nL 96.29 114.425438 \nL 106.055 116.65014 \nL 115.82 118.666948 \nL 125.585 120.638732 \nL 135.35 121.956634 \nL 145.115 124.941589 \nL 154.88 124.196997 \nL 164.645 127.741591 \nL 174.41 129.652956 \nL 184.175 129.442527 \nL 193.94 132.207527 \nL 203.705 132.262044 \nL 213.47 133.349699 \nL 223.235 134.127277 \n\" clip-path=\"url(#p1af985c0c6)\" style=\"fill: none; stroke-dasharray: 5.55,2.4; stroke-dashoffset: 0; stroke: #ff7f0e; stroke-width: 1.5\"/>\n   </g>\n   <g id=\"line2d_146\">\n    <path d=\"M 39.943311 13.5 \nL 44.693851 85.693939 \nL 49.444392 96.366835 \nL 54.194932 95.867972 \nL 58.945473 100.089543 \nL 63.696014 103.734554 \nL 68.446554 107.851995 \nL 73.197095 108.392608 \nL 77.947635 109.688896 \nL 82.698176 110.728853 \nL 87.448716 117.990669 \nL 92.199257 114.228863 \nL 96.949797 117.07142 \nL 101.700338 116.704417 \nL 106.450878 121.611861 \nL 111.201419 120.81944 \nL 115.951959 121.657586 \nL 120.7025 123.846555 \nL 125.453041 122.887741 \nL 130.203581 125.184288 \nL 134.954122 129.203422 \nL 139.704662 125.841197 \nL 144.455203 128.036964 \nL 149.205743 127.774872 \nL 153.956284 129.927426 \nL 158.706824 128.131956 \nL 163.457365 132.051381 \nL 168.207905 132.934463 \nL 172.958446 127.699076 \nL 177.708986 134.62135 \nL 182.459527 132.488163 \nL 187.210068 135.08062 \nL 191.960608 131.803412 \nL 196.711149 136.882283 \nL 201.461689 135.166528 \nL 206.21223 135.19956 \nL 210.96277 136.216122 \nL 215.713311 139.5 \nL 220.463851 134.627996 \nL 225.214392 136.429346 \nL 229.964932 139.204436 \n\" clip-path=\"url(#p1af985c0c6)\" style=\"fill: none; stroke: #1f77b4; stroke-width: 1.5; stroke-linecap: square\"/>\n   </g>\n   <g id=\"line2d_147\">\n    <path d=\"M 47.465 90.387563 \nL 57.23 98.03296 \nL 66.995 104.318445 \nL 76.76 107.742482 \nL 86.525 110.312435 \nL 96.29 114.425438 \nL 106.055 116.65014 \nL 115.82 118.666948 \nL 125.585 120.638732 \nL 135.35 121.956634 \nL 145.115 124.941589 \nL 154.88 124.196997 \nL 164.645 127.741591 \nL 174.41 129.652956 \nL 184.175 129.442527 \nL 193.94 132.207527 \nL 203.705 132.262044 \nL 213.47 133.349699 \nL 223.235 134.127277 \n\" clip-path=\"url(#p1af985c0c6)\" style=\"fill: none; stroke-dasharray: 5.55,2.4; stroke-dashoffset: 0; stroke: #ff7f0e; stroke-width: 1.5\"/>\n   </g>\n   <g id=\"line2d_148\">\n    <path d=\"M 39.943311 13.5 \nL 44.693851 85.693939 \nL 49.444392 96.366835 \nL 54.194932 95.867972 \nL 58.945473 100.089543 \nL 63.696014 103.734554 \nL 68.446554 107.851995 \nL 73.197095 108.392608 \nL 77.947635 109.688896 \nL 82.698176 110.728853 \nL 87.448716 117.990669 \nL 92.199257 114.228863 \nL 96.949797 117.07142 \nL 101.700338 116.704417 \nL 106.450878 121.611861 \nL 111.201419 120.81944 \nL 115.951959 121.657586 \nL 120.7025 123.846555 \nL 125.453041 122.887741 \nL 130.203581 125.184288 \nL 134.954122 129.203422 \nL 139.704662 125.841197 \nL 144.455203 128.036964 \nL 149.205743 127.774872 \nL 153.956284 129.927426 \nL 158.706824 128.131956 \nL 163.457365 132.051381 \nL 168.207905 132.934463 \nL 172.958446 127.699076 \nL 177.708986 134.62135 \nL 182.459527 132.488163 \nL 187.210068 135.08062 \nL 191.960608 131.803412 \nL 196.711149 136.882283 \nL 201.461689 135.166528 \nL 206.21223 135.19956 \nL 210.96277 136.216122 \nL 215.713311 139.5 \nL 220.463851 134.627996 \nL 225.214392 136.429346 \nL 229.964932 139.204436 \n\" clip-path=\"url(#p1af985c0c6)\" style=\"fill: none; stroke: #1f77b4; stroke-width: 1.5; stroke-linecap: square\"/>\n   </g>\n   <g id=\"line2d_149\">\n    <path d=\"M 47.465 90.387563 \nL 57.23 98.03296 \nL 66.995 104.318445 \nL 76.76 107.742482 \nL 86.525 110.312435 \nL 96.29 114.425438 \nL 106.055 116.65014 \nL 115.82 118.666948 \nL 125.585 120.638732 \nL 135.35 121.956634 \nL 145.115 124.941589 \nL 154.88 124.196997 \nL 164.645 127.741591 \nL 174.41 129.652956 \nL 184.175 129.442527 \nL 193.94 132.207527 \nL 203.705 132.262044 \nL 213.47 133.349699 \nL 223.235 134.127277 \nL 233 135.81194 \n\" clip-path=\"url(#p1af985c0c6)\" style=\"fill: none; stroke-dasharray: 5.55,2.4; stroke-dashoffset: 0; stroke: #ff7f0e; stroke-width: 1.5\"/>\n   </g>\n   <g id=\"patch_3\">\n    <path d=\"M 37.7 145.8 \nL 37.7 7.2 \n\" style=\"fill: none; stroke: #000000; stroke-width: 0.8; stroke-linejoin: miter; stroke-linecap: square\"/>\n   </g>\n   <g id=\"patch_4\">\n    <path d=\"M 233 145.8 \nL 233 7.2 \n\" style=\"fill: none; stroke: #000000; stroke-width: 0.8; stroke-linejoin: miter; stroke-linecap: square\"/>\n   </g>\n   <g id=\"patch_5\">\n    <path d=\"M 37.7 145.8 \nL 233 145.8 \n\" style=\"fill: none; stroke: #000000; stroke-width: 0.8; stroke-linejoin: miter; stroke-linecap: square\"/>\n   </g>\n   <g id=\"patch_6\">\n    <path d=\"M 37.7 7.2 \nL 233 7.2 \n\" style=\"fill: none; stroke: #000000; stroke-width: 0.8; stroke-linejoin: miter; stroke-linecap: square\"/>\n   </g>\n   <g id=\"legend_1\">\n    <g id=\"patch_7\">\n     <path d=\"M 146.409375 45.1125 \nL 226 45.1125 \nQ 228 45.1125 228 43.1125 \nL 228 14.2 \nQ 228 12.2 226 12.2 \nL 146.409375 12.2 \nQ 144.409375 12.2 144.409375 14.2 \nL 144.409375 43.1125 \nQ 144.409375 45.1125 146.409375 45.1125 \nz\n\" style=\"fill: #ffffff; opacity: 0.8; stroke: #cccccc; stroke-linejoin: miter\"/>\n    </g>\n    <g id=\"line2d_150\">\n     <path d=\"M 148.409375 20.298438 \nL 158.409375 20.298438 \nL 168.409375 20.298438 \n\" style=\"fill: none; stroke: #1f77b4; stroke-width: 1.5; stroke-linecap: square\"/>\n    </g>\n    <g id=\"text_10\">\n     <!-- train_loss -->\n     <g transform=\"translate(176.409375 23.798438) scale(0.1 -0.1)\">\n      <defs>\n       <path id=\"DejaVuSans-74\" d=\"M 1172 4494 \nL 1172 3500 \nL 2356 3500 \nL 2356 3053 \nL 1172 3053 \nL 1172 1153 \nQ 1172 725 1289 603 \nQ 1406 481 1766 481 \nL 2356 481 \nL 2356 0 \nL 1766 0 \nQ 1100 0 847 248 \nQ 594 497 594 1153 \nL 594 3053 \nL 172 3053 \nL 172 3500 \nL 594 3500 \nL 594 4494 \nL 1172 4494 \nz\n\" transform=\"scale(0.015625)\"/>\n       <path id=\"DejaVuSans-72\" d=\"M 2631 2963 \nQ 2534 3019 2420 3045 \nQ 2306 3072 2169 3072 \nQ 1681 3072 1420 2755 \nQ 1159 2438 1159 1844 \nL 1159 0 \nL 581 0 \nL 581 3500 \nL 1159 3500 \nL 1159 2956 \nQ 1341 3275 1631 3429 \nQ 1922 3584 2338 3584 \nQ 2397 3584 2469 3576 \nQ 2541 3569 2628 3553 \nL 2631 2963 \nz\n\" transform=\"scale(0.015625)\"/>\n       <path id=\"DejaVuSans-61\" d=\"M 2194 1759 \nQ 1497 1759 1228 1600 \nQ 959 1441 959 1056 \nQ 959 750 1161 570 \nQ 1363 391 1709 391 \nQ 2188 391 2477 730 \nQ 2766 1069 2766 1631 \nL 2766 1759 \nL 2194 1759 \nz\nM 3341 1997 \nL 3341 0 \nL 2766 0 \nL 2766 531 \nQ 2569 213 2275 61 \nQ 1981 -91 1556 -91 \nQ 1019 -91 701 211 \nQ 384 513 384 1019 \nQ 384 1609 779 1909 \nQ 1175 2209 1959 2209 \nL 2766 2209 \nL 2766 2266 \nQ 2766 2663 2505 2880 \nQ 2244 3097 1772 3097 \nQ 1472 3097 1187 3025 \nQ 903 2953 641 2809 \nL 641 3341 \nQ 956 3463 1253 3523 \nQ 1550 3584 1831 3584 \nQ 2591 3584 2966 3190 \nQ 3341 2797 3341 1997 \nz\n\" transform=\"scale(0.015625)\"/>\n       <path id=\"DejaVuSans-69\" d=\"M 603 3500 \nL 1178 3500 \nL 1178 0 \nL 603 0 \nL 603 3500 \nz\nM 603 4863 \nL 1178 4863 \nL 1178 4134 \nL 603 4134 \nL 603 4863 \nz\n\" transform=\"scale(0.015625)\"/>\n       <path id=\"DejaVuSans-6e\" d=\"M 3513 2113 \nL 3513 0 \nL 2938 0 \nL 2938 2094 \nQ 2938 2591 2744 2837 \nQ 2550 3084 2163 3084 \nQ 1697 3084 1428 2787 \nQ 1159 2491 1159 1978 \nL 1159 0 \nL 581 0 \nL 581 3500 \nL 1159 3500 \nL 1159 2956 \nQ 1366 3272 1645 3428 \nQ 1925 3584 2291 3584 \nQ 2894 3584 3203 3211 \nQ 3513 2838 3513 2113 \nz\n\" transform=\"scale(0.015625)\"/>\n       <path id=\"DejaVuSans-5f\" d=\"M 3263 -1063 \nL 3263 -1509 \nL -63 -1509 \nL -63 -1063 \nL 3263 -1063 \nz\n\" transform=\"scale(0.015625)\"/>\n       <path id=\"DejaVuSans-6c\" d=\"M 603 4863 \nL 1178 4863 \nL 1178 0 \nL 603 0 \nL 603 4863 \nz\n\" transform=\"scale(0.015625)\"/>\n       <path id=\"DejaVuSans-73\" d=\"M 2834 3397 \nL 2834 2853 \nQ 2591 2978 2328 3040 \nQ 2066 3103 1784 3103 \nQ 1356 3103 1142 2972 \nQ 928 2841 928 2578 \nQ 928 2378 1081 2264 \nQ 1234 2150 1697 2047 \nL 1894 2003 \nQ 2506 1872 2764 1633 \nQ 3022 1394 3022 966 \nQ 3022 478 2636 193 \nQ 2250 -91 1575 -91 \nQ 1294 -91 989 -36 \nQ 684 19 347 128 \nL 347 722 \nQ 666 556 975 473 \nQ 1284 391 1588 391 \nQ 1994 391 2212 530 \nQ 2431 669 2431 922 \nQ 2431 1156 2273 1281 \nQ 2116 1406 1581 1522 \nL 1381 1569 \nQ 847 1681 609 1914 \nQ 372 2147 372 2553 \nQ 372 3047 722 3315 \nQ 1072 3584 1716 3584 \nQ 2034 3584 2315 3537 \nQ 2597 3491 2834 3397 \nz\n\" transform=\"scale(0.015625)\"/>\n      </defs>\n      <use xlink:href=\"#DejaVuSans-74\"/>\n      <use xlink:href=\"#DejaVuSans-72\" x=\"39.208984\"/>\n      <use xlink:href=\"#DejaVuSans-61\" x=\"80.322266\"/>\n      <use xlink:href=\"#DejaVuSans-69\" x=\"141.601562\"/>\n      <use xlink:href=\"#DejaVuSans-6e\" x=\"169.384766\"/>\n      <use xlink:href=\"#DejaVuSans-5f\" x=\"232.763672\"/>\n      <use xlink:href=\"#DejaVuSans-6c\" x=\"282.763672\"/>\n      <use xlink:href=\"#DejaVuSans-6f\" x=\"310.546875\"/>\n      <use xlink:href=\"#DejaVuSans-73\" x=\"371.728516\"/>\n      <use xlink:href=\"#DejaVuSans-73\" x=\"423.828125\"/>\n     </g>\n    </g>\n    <g id=\"line2d_151\">\n     <path d=\"M 148.409375 35.254688 \nL 158.409375 35.254688 \nL 168.409375 35.254688 \n\" style=\"fill: none; stroke-dasharray: 5.55,2.4; stroke-dashoffset: 0; stroke: #ff7f0e; stroke-width: 1.5\"/>\n    </g>\n    <g id=\"text_11\">\n     <!-- val_loss -->\n     <g transform=\"translate(176.409375 38.754688) scale(0.1 -0.1)\">\n      <defs>\n       <path id=\"DejaVuSans-76\" d=\"M 191 3500 \nL 800 3500 \nL 1894 563 \nL 2988 3500 \nL 3597 3500 \nL 2284 0 \nL 1503 0 \nL 191 3500 \nz\n\" transform=\"scale(0.015625)\"/>\n      </defs>\n      <use xlink:href=\"#DejaVuSans-76\"/>\n      <use xlink:href=\"#DejaVuSans-61\" x=\"59.179688\"/>\n      <use xlink:href=\"#DejaVuSans-6c\" x=\"120.458984\"/>\n      <use xlink:href=\"#DejaVuSans-5f\" x=\"148.242188\"/>\n      <use xlink:href=\"#DejaVuSans-6c\" x=\"198.242188\"/>\n      <use xlink:href=\"#DejaVuSans-6f\" x=\"226.025391\"/>\n      <use xlink:href=\"#DejaVuSans-73\" x=\"287.207031\"/>\n      <use xlink:href=\"#DejaVuSans-73\" x=\"339.306641\"/>\n     </g>\n    </g>\n   </g>\n  </g>\n </g>\n <defs>\n  <clipPath id=\"p1af985c0c6\">\n   <rect x=\"37.7\" y=\"7.2\" width=\"195.3\" height=\"138.6\"/>\n  </clipPath>\n </defs>\n</svg>\n"
          },
          "metadata": {}
        }
      ]
    },
    {
      "cell_type": "code",
      "source": [
        "preds = [model(torch.tensor(data.val.values.astype(float), dtype=torch.float32))\n",
        "         for model in h_models]\n",
        "# Taking exponentiation of predictions in the logarithm scale\n",
        "ensemble_preds = torch.exp(torch.cat(preds, 1)).mean(1)\n",
        "submission = pd.DataFrame({'Id':data.raw_val.Id,\n",
        "                           'SalePrice':ensemble_preds.detach().numpy()})\n",
        "submission.to_csv('submission.csv', index=False)"
      ],
      "metadata": {
        "id": "KxfiYteOSZgv"
      },
      "id": "KxfiYteOSZgv",
      "execution_count": null,
      "outputs": []
    },
    {
      "cell_type": "code",
      "source": [
        "class DropoutMLP(d2l.Classifier):\n",
        "    def __init__(self, num_outputs, num_hiddens_1, num_hiddens_2,\n",
        "                 dropout_1, dropout_2, lr):\n",
        "        super().__init__()\n",
        "        self.save_hyperparameters()\n",
        "        self.net = nn.Sequential(\n",
        "            nn.Flatten(), nn.LazyLinear(num_hiddens_1), nn.ReLU(),\n",
        "            nn.Dropout(dropout_1), nn.LazyLinear(num_hiddens_2), nn.ReLU(),\n",
        "            nn.Dropout(dropout_2), nn.LazyLinear(num_outputs))"
      ],
      "metadata": {
        "id": "03_2AoZUS1je"
      },
      "id": "03_2AoZUS1je",
      "execution_count": null,
      "outputs": []
    },
    {
      "cell_type": "code",
      "source": [
        "import torch.optim as optim\n",
        "\n",
        "\n",
        "model = DropoutMLP(1, 331, 256, 0.3, 0.5, 0.01)\n",
        "weight_decay = 1e-4\n",
        "\n",
        "optimizer = optim.SGD(model.net.parameters(), lr=model.lr, weight_decay=weight_decay)"
      ],
      "metadata": {
        "id": "ed5gMjN2T-An"
      },
      "id": "ed5gMjN2T-An",
      "execution_count": null,
      "outputs": []
    },
    {
      "cell_type": "code",
      "source": [
        "data = KaggleHouse(batch_size=params['batch_size'])\n",
        "data.preprocess()"
      ],
      "metadata": {
        "id": "VakmTqI7TWvZ"
      },
      "id": "VakmTqI7TWvZ",
      "execution_count": null,
      "outputs": []
    },
    {
      "cell_type": "code",
      "source": [
        "import torch"
      ],
      "metadata": {
        "id": "tQXj0WNuTfUg"
      },
      "id": "tQXj0WNuTfUg",
      "execution_count": null,
      "outputs": []
    },
    {
      "cell_type": "code",
      "source": [
        "torch.tensor(data.train.values, dtype=torch.float32)"
      ],
      "metadata": {
        "colab": {
          "base_uri": "https://localhost:8080/",
          "height": 216
        },
        "id": "OrNTuHC1U1iT",
        "outputId": "f6ae1614-95a6-4b11-f752-350e01bf857c"
      },
      "id": "OrNTuHC1U1iT",
      "execution_count": null,
      "outputs": [
        {
          "output_type": "error",
          "ename": "TypeError",
          "evalue": "can't convert np.ndarray of type numpy.object_. The only supported types are: float64, float32, float16, complex64, complex128, int64, int32, int16, int8, uint64, uint32, uint16, uint8, and bool.",
          "traceback": [
            "\u001b[0;31m---------------------------------------------------------------------------\u001b[0m",
            "\u001b[0;31mTypeError\u001b[0m                                 Traceback (most recent call last)",
            "\u001b[0;32m/tmp/ipython-input-3749843985.py\u001b[0m in \u001b[0;36m<cell line: 0>\u001b[0;34m()\u001b[0m\n\u001b[0;32m----> 1\u001b[0;31m \u001b[0mtorch\u001b[0m\u001b[0;34m.\u001b[0m\u001b[0mtensor\u001b[0m\u001b[0;34m(\u001b[0m\u001b[0mdata\u001b[0m\u001b[0;34m.\u001b[0m\u001b[0mtrain\u001b[0m\u001b[0;34m.\u001b[0m\u001b[0mvalues\u001b[0m\u001b[0;34m,\u001b[0m \u001b[0mdtype\u001b[0m\u001b[0;34m=\u001b[0m\u001b[0mtorch\u001b[0m\u001b[0;34m.\u001b[0m\u001b[0mfloat32\u001b[0m\u001b[0;34m)\u001b[0m\u001b[0;34m\u001b[0m\u001b[0;34m\u001b[0m\u001b[0m\n\u001b[0m",
            "\u001b[0;31mTypeError\u001b[0m: can't convert np.ndarray of type numpy.object_. The only supported types are: float64, float32, float16, complex64, complex128, int64, int32, int16, int8, uint64, uint32, uint16, uint8, and bool."
          ]
        }
      ]
    },
    {
      "cell_type": "code",
      "source": [
        "import pandas as pd\n",
        "import torch\n",
        "from torch import nn\n",
        "from torch.utils.data import DataLoader, TensorDataset\n",
        "import torch.optim as optim\n",
        "from sklearn.model_selection import train_test_split\n",
        "from sklearn.preprocessing import StandardScaler\n",
        "\n",
        "# --- Step 1: Load your data (example here, replace with actual load) ---\n",
        "data = pd.read_csv('/data/kaggle_house_pred_train.csv')  # Adjust path accordingly\n",
        "\n",
        "# --- Step 2: Separate features and target ---\n",
        "# Assuming 'SalePrice' is the target in the housing dataset\n",
        "X = data.drop(columns=['SalePrice'])\n",
        "y = data['SalePrice']\n",
        "\n",
        "# --- Step 3: Handle missing values ---\n",
        "# Simple way: fill numeric NaNs with median, categorical with mode\n",
        "for col in X.columns:\n",
        "    if X[col].dtype == 'object':\n",
        "        X[col] = X[col].fillna(X[col].mode()[0])\n",
        "    else:\n",
        "        X[col] = X[col].fillna(X[col].median())\n",
        "\n",
        "# --- Step 4: Encode categorical features ---\n",
        "X = pd.get_dummies(X, dummy_na=True)\n",
        "\n",
        "# --- Step 5: Scale numeric features ---\n",
        "scaler = StandardScaler()\n",
        "X_scaled = scaler.fit_transform(X)\n",
        "\n",
        "# --- Step 6: Convert target to tensor (also scale target for regression stability) ---\n",
        "y = torch.tensor(y.values, dtype=torch.float32).reshape(-1, 1)\n",
        "y_mean, y_std = y.mean(), y.std()\n",
        "y = (y - y_mean) / y_std  # normalize target\n",
        "\n",
        "# --- Step 7: Convert features to tensor ---\n",
        "X_tensor = torch.tensor(X_scaled, dtype=torch.float32)\n",
        "\n",
        "# --- Step 8: Split into train/test sets ---\n",
        "X_train, X_test, y_train, y_test = train_test_split(\n",
        "    X_tensor, y, test_size=0.2, random_state=42)\n",
        "\n",
        "train_ds = TensorDataset(X_train, y_train)\n",
        "test_ds = TensorDataset(X_test, y_test)\n",
        "\n",
        "train_loader = DataLoader(train_ds, batch_size=64, shuffle=True)\n",
        "test_loader = DataLoader(test_ds, batch_size=64)\n",
        "\n",
        "# --- Step 9: Define your model with dropout ---\n",
        "class DropoutMLP(nn.Module):\n",
        "    def __init__(self, input_dim, hidden1=256, hidden2=128, dropout1=0.2, dropout2=0.5):\n",
        "        super().__init__()\n",
        "        self.net = nn.Sequential(\n",
        "            nn.Linear(input_dim, hidden1), nn.ReLU(),\n",
        "            nn.Dropout(dropout1),\n",
        "            nn.Linear(hidden1, hidden2), nn.ReLU(),\n",
        "            nn.Dropout(dropout2),\n",
        "            nn.Linear(hidden2, 1)\n",
        "        )\n",
        "\n",
        "    def forward(self, X):\n",
        "        return self.net(X)\n",
        "\n",
        "# --- Step 10: Instantiate model and optimizer with weight decay ---\n",
        "model = DropoutMLP(input_dim=X_train.shape[1])\n",
        "\n",
        "optimizer = optim.Adam(model.parameters(), lr=1e-3, weight_decay=1e-4)  # weight_decay = L2 reg\n",
        "\n",
        "loss_fn = nn.MSELoss()\n",
        "\n",
        "# --- Step 11: Training loop ---\n",
        "def train_epoch(model, data_loader, optimizer, loss_fn):\n",
        "    model.train()\n",
        "    total_loss = 0\n",
        "    for X_batch, y_batch in data_loader:\n",
        "        optimizer.zero_grad()\n",
        "        preds = model(X_batch)\n",
        "        loss = loss_fn(preds, y_batch)\n",
        "        loss.backward()\n",
        "        optimizer.step()\n",
        "        total_loss += loss.item() * X_batch.size(0)\n",
        "    return total_loss / len(data_loader.dataset)\n",
        "\n",
        "def evaluate(model, data_loader, loss_fn):\n",
        "    model.eval()\n",
        "    total_loss = 0\n",
        "    with torch.no_grad():\n",
        "        for X_batch, y_batch in data_loader:\n",
        "            preds = model(X_batch)\n",
        "            loss = loss_fn(preds, y_batch)\n",
        "            total_loss += loss.item() * X_batch.size(0)\n",
        "    return total_loss / len(data_loader.dataset)\n",
        "\n",
        "# --- Step 12: Run training ---\n",
        "num_epochs = 20\n",
        "for epoch in range(num_epochs):\n",
        "    train_loss = train_epoch(model, train_loader, optimizer, loss_fn)\n",
        "    val_loss = evaluate(model, test_loader, loss_fn)\n",
        "    print(f\"Epoch {epoch+1}/{num_epochs} - Train Loss: {train_loss:.4f}, Val Loss: {val_loss:.4f}\")\n"
      ],
      "metadata": {
        "colab": {
          "base_uri": "https://localhost:8080/"
        },
        "id": "_PEJ8UR1VogP",
        "outputId": "04fd5985-a481-48fd-d61d-504a73d0cf89"
      },
      "id": "_PEJ8UR1VogP",
      "execution_count": null,
      "outputs": [
        {
          "output_type": "stream",
          "name": "stdout",
          "text": [
            "Epoch 1/20 - Train Loss: 0.5065, Val Loss: 0.2496\n",
            "Epoch 2/20 - Train Loss: 0.2234, Val Loss: 0.2107\n",
            "Epoch 3/20 - Train Loss: 0.1472, Val Loss: 0.1768\n",
            "Epoch 4/20 - Train Loss: 0.1196, Val Loss: 0.1565\n",
            "Epoch 5/20 - Train Loss: 0.0921, Val Loss: 0.1589\n",
            "Epoch 6/20 - Train Loss: 0.0757, Val Loss: 0.1512\n",
            "Epoch 7/20 - Train Loss: 0.0723, Val Loss: 0.1561\n",
            "Epoch 8/20 - Train Loss: 0.0741, Val Loss: 0.1420\n",
            "Epoch 9/20 - Train Loss: 0.0671, Val Loss: 0.1442\n",
            "Epoch 10/20 - Train Loss: 0.0587, Val Loss: 0.1374\n",
            "Epoch 11/20 - Train Loss: 0.0752, Val Loss: 0.1397\n",
            "Epoch 12/20 - Train Loss: 0.0629, Val Loss: 0.1366\n",
            "Epoch 13/20 - Train Loss: 0.0685, Val Loss: 0.1523\n",
            "Epoch 14/20 - Train Loss: 0.0601, Val Loss: 0.1312\n",
            "Epoch 15/20 - Train Loss: 0.0563, Val Loss: 0.1410\n",
            "Epoch 16/20 - Train Loss: 0.0584, Val Loss: 0.1302\n",
            "Epoch 17/20 - Train Loss: 0.0562, Val Loss: 0.1139\n",
            "Epoch 18/20 - Train Loss: 0.0561, Val Loss: 0.1328\n",
            "Epoch 19/20 - Train Loss: 0.0598, Val Loss: 0.1365\n",
            "Epoch 20/20 - Train Loss: 0.0509, Val Loss: 0.1296\n"
          ]
        }
      ]
    },
    {
      "cell_type": "code",
      "source": [
        "import itertools\n",
        "\n",
        "# Your hyperparameter grid:\n",
        "epochs_list = [20, 30, 40]\n",
        "lr_list = [0.1, 0.01, 0.001]\n",
        "batch_sizes = [32, 64, 128]\n",
        "weight_decays = [1e-3, 1e-4, 1e-5]\n",
        "\n",
        "results = []\n",
        "\n",
        "for epochs, lr, batch_size, weight_decay in itertools.product(epochs_list, lr_list, batch_sizes, weight_decays):\n",
        "    print(f\"Training with epochs={epochs}, lr={lr}, batch_size={batch_size} weight_decay={weight_decay}\")\n",
        "\n",
        "    # Re-create DataLoader with current batch size\n",
        "    train_loader = DataLoader(train_ds, batch_size=batch_size, shuffle=True)\n",
        "    test_loader = DataLoader(test_ds, batch_size=batch_size)\n",
        "\n",
        "    # Re-initialize the model and optimizer each time!\n",
        "    model = DropoutMLP(input_dim=X_train.shape[1])\n",
        "    optimizer = optim.Adam(model.parameters(), lr=lr, weight_decay=weight_decay)\n",
        "\n",
        "    # Train for current config\n",
        "    for epoch in range(epochs):\n",
        "        train_epoch(model, train_loader, optimizer, loss_fn)\n",
        "\n",
        "    val_loss = evaluate(model, test_loader, loss_fn)\n",
        "    print(f\"Validation loss: {val_loss:.4f}\\n\")\n",
        "\n",
        "    results.append({\n",
        "        'epochs': epochs,\n",
        "        'lr': lr,\n",
        "        'batch_size': batch_size,\n",
        "        'weight_decay': weight_decay,\n",
        "        'val_loss': val_loss\n",
        "    })\n",
        "\n",
        "# Sort results by validation loss\n",
        "results = sorted(results, key=lambda x: x['val_loss'])\n",
        "print(\"Best config:\")\n",
        "print(results[0])\n"
      ],
      "metadata": {
        "colab": {
          "base_uri": "https://localhost:8080/"
        },
        "id": "FR_L55LuWz9m",
        "outputId": "8e1f34b7-6da5-40d7-a530-1b19be6c1a90"
      },
      "id": "FR_L55LuWz9m",
      "execution_count": null,
      "outputs": [
        {
          "output_type": "stream",
          "name": "stdout",
          "text": [
            "Training with epochs=20, lr=0.1, batch_size=32 weight_decay=0.001\n",
            "Validation loss: 1.2170\n",
            "\n",
            "Training with epochs=20, lr=0.1, batch_size=32 weight_decay=0.0001\n",
            "Validation loss: 1.2190\n",
            "\n",
            "Training with epochs=20, lr=0.1, batch_size=32 weight_decay=1e-05\n",
            "Validation loss: 1.2229\n",
            "\n",
            "Training with epochs=20, lr=0.1, batch_size=64 weight_decay=0.001\n",
            "Validation loss: 1.2176\n",
            "\n",
            "Training with epochs=20, lr=0.1, batch_size=64 weight_decay=0.0001\n",
            "Validation loss: 1.2171\n",
            "\n",
            "Training with epochs=20, lr=0.1, batch_size=64 weight_decay=1e-05\n",
            "Validation loss: 1.2161\n",
            "\n",
            "Training with epochs=20, lr=0.1, batch_size=128 weight_decay=0.001\n",
            "Validation loss: 1.2154\n",
            "\n",
            "Training with epochs=20, lr=0.1, batch_size=128 weight_decay=0.0001\n",
            "Validation loss: 1.2647\n",
            "\n",
            "Training with epochs=20, lr=0.1, batch_size=128 weight_decay=1e-05\n",
            "Validation loss: 0.7902\n",
            "\n",
            "Training with epochs=20, lr=0.01, batch_size=32 weight_decay=0.001\n",
            "Validation loss: 1.0195\n",
            "\n",
            "Training with epochs=20, lr=0.01, batch_size=32 weight_decay=0.0001\n",
            "Validation loss: 0.5268\n",
            "\n",
            "Training with epochs=20, lr=0.01, batch_size=32 weight_decay=1e-05\n",
            "Validation loss: 0.4326\n",
            "\n",
            "Training with epochs=20, lr=0.01, batch_size=64 weight_decay=0.001\n",
            "Validation loss: 0.3505\n",
            "\n",
            "Training with epochs=20, lr=0.01, batch_size=64 weight_decay=0.0001\n",
            "Validation loss: 0.3646\n",
            "\n",
            "Training with epochs=20, lr=0.01, batch_size=64 weight_decay=1e-05\n",
            "Validation loss: 0.2833\n",
            "\n",
            "Training with epochs=20, lr=0.01, batch_size=128 weight_decay=0.001\n",
            "Validation loss: 0.2126\n",
            "\n",
            "Training with epochs=20, lr=0.01, batch_size=128 weight_decay=0.0001\n",
            "Validation loss: 0.2089\n",
            "\n",
            "Training with epochs=20, lr=0.01, batch_size=128 weight_decay=1e-05\n",
            "Validation loss: 0.1950\n",
            "\n",
            "Training with epochs=20, lr=0.001, batch_size=32 weight_decay=0.001\n",
            "Validation loss: 0.1418\n",
            "\n",
            "Training with epochs=20, lr=0.001, batch_size=32 weight_decay=0.0001\n",
            "Validation loss: 0.1469\n",
            "\n",
            "Training with epochs=20, lr=0.001, batch_size=32 weight_decay=1e-05\n",
            "Validation loss: 0.1310\n",
            "\n",
            "Training with epochs=20, lr=0.001, batch_size=64 weight_decay=0.001\n",
            "Validation loss: 0.1264\n",
            "\n",
            "Training with epochs=20, lr=0.001, batch_size=64 weight_decay=0.0001\n",
            "Validation loss: 0.1283\n",
            "\n",
            "Training with epochs=20, lr=0.001, batch_size=64 weight_decay=1e-05\n",
            "Validation loss: 0.1445\n",
            "\n",
            "Training with epochs=20, lr=0.001, batch_size=128 weight_decay=0.001\n",
            "Validation loss: 0.1261\n",
            "\n",
            "Training with epochs=20, lr=0.001, batch_size=128 weight_decay=0.0001\n",
            "Validation loss: 0.1467\n",
            "\n",
            "Training with epochs=20, lr=0.001, batch_size=128 weight_decay=1e-05\n",
            "Validation loss: 0.1285\n",
            "\n",
            "Training with epochs=30, lr=0.1, batch_size=32 weight_decay=0.001\n",
            "Validation loss: 1.2184\n",
            "\n",
            "Training with epochs=30, lr=0.1, batch_size=32 weight_decay=0.0001\n",
            "Validation loss: 1.2165\n",
            "\n",
            "Training with epochs=30, lr=0.1, batch_size=32 weight_decay=1e-05\n",
            "Validation loss: 1.2060\n",
            "\n",
            "Training with epochs=30, lr=0.1, batch_size=64 weight_decay=0.001\n",
            "Validation loss: 1.2176\n",
            "\n",
            "Training with epochs=30, lr=0.1, batch_size=64 weight_decay=0.0001\n",
            "Validation loss: 0.8850\n",
            "\n",
            "Training with epochs=30, lr=0.1, batch_size=64 weight_decay=1e-05\n",
            "Validation loss: 1.2163\n",
            "\n",
            "Training with epochs=30, lr=0.1, batch_size=128 weight_decay=0.001\n",
            "Validation loss: 1.1173\n",
            "\n",
            "Training with epochs=30, lr=0.1, batch_size=128 weight_decay=0.0001\n",
            "Validation loss: 1.2200\n",
            "\n",
            "Training with epochs=30, lr=0.1, batch_size=128 weight_decay=1e-05\n",
            "Validation loss: 1.2342\n",
            "\n",
            "Training with epochs=30, lr=0.01, batch_size=32 weight_decay=0.001\n",
            "Validation loss: 1.0117\n",
            "\n",
            "Training with epochs=30, lr=0.01, batch_size=32 weight_decay=0.0001\n",
            "Validation loss: 0.4760\n",
            "\n",
            "Training with epochs=30, lr=0.01, batch_size=32 weight_decay=1e-05\n",
            "Validation loss: 0.4998\n",
            "\n",
            "Training with epochs=30, lr=0.01, batch_size=64 weight_decay=0.001\n",
            "Validation loss: 0.2783\n",
            "\n",
            "Training with epochs=30, lr=0.01, batch_size=64 weight_decay=0.0001\n",
            "Validation loss: 0.4045\n",
            "\n",
            "Training with epochs=30, lr=0.01, batch_size=64 weight_decay=1e-05\n",
            "Validation loss: 0.2221\n",
            "\n",
            "Training with epochs=30, lr=0.01, batch_size=128 weight_decay=0.001\n",
            "Validation loss: 0.1610\n",
            "\n",
            "Training with epochs=30, lr=0.01, batch_size=128 weight_decay=0.0001\n",
            "Validation loss: 0.1703\n",
            "\n",
            "Training with epochs=30, lr=0.01, batch_size=128 weight_decay=1e-05\n",
            "Validation loss: 0.1654\n",
            "\n",
            "Training with epochs=30, lr=0.001, batch_size=32 weight_decay=0.001\n",
            "Validation loss: 0.1506\n",
            "\n",
            "Training with epochs=30, lr=0.001, batch_size=32 weight_decay=0.0001\n",
            "Validation loss: 0.1335\n",
            "\n",
            "Training with epochs=30, lr=0.001, batch_size=32 weight_decay=1e-05\n",
            "Validation loss: 0.1555\n",
            "\n",
            "Training with epochs=30, lr=0.001, batch_size=64 weight_decay=0.001\n",
            "Validation loss: 0.1246\n",
            "\n",
            "Training with epochs=30, lr=0.001, batch_size=64 weight_decay=0.0001\n",
            "Validation loss: 0.1294\n",
            "\n",
            "Training with epochs=30, lr=0.001, batch_size=64 weight_decay=1e-05\n",
            "Validation loss: 0.1222\n",
            "\n",
            "Training with epochs=30, lr=0.001, batch_size=128 weight_decay=0.001\n",
            "Validation loss: 0.1292\n",
            "\n",
            "Training with epochs=30, lr=0.001, batch_size=128 weight_decay=0.0001\n",
            "Validation loss: 0.1444\n",
            "\n",
            "Training with epochs=30, lr=0.001, batch_size=128 weight_decay=1e-05\n",
            "Validation loss: 0.1333\n",
            "\n",
            "Training with epochs=40, lr=0.1, batch_size=32 weight_decay=0.001\n",
            "Validation loss: 1.2167\n",
            "\n",
            "Training with epochs=40, lr=0.1, batch_size=32 weight_decay=0.0001\n",
            "Validation loss: 1.2165\n",
            "\n",
            "Training with epochs=40, lr=0.1, batch_size=32 weight_decay=1e-05\n",
            "Validation loss: 0.6416\n",
            "\n",
            "Training with epochs=40, lr=0.1, batch_size=64 weight_decay=0.001\n",
            "Validation loss: 1.2161\n",
            "\n",
            "Training with epochs=40, lr=0.1, batch_size=64 weight_decay=0.0001\n",
            "Validation loss: 1.2602\n",
            "\n",
            "Training with epochs=40, lr=0.1, batch_size=64 weight_decay=1e-05\n",
            "Validation loss: 1.2234\n",
            "\n",
            "Training with epochs=40, lr=0.1, batch_size=128 weight_decay=0.001\n",
            "Validation loss: 1.2265\n",
            "\n",
            "Training with epochs=40, lr=0.1, batch_size=128 weight_decay=0.0001\n",
            "Validation loss: 1.2175\n",
            "\n",
            "Training with epochs=40, lr=0.1, batch_size=128 weight_decay=1e-05\n",
            "Validation loss: 1.2169\n",
            "\n",
            "Training with epochs=40, lr=0.01, batch_size=32 weight_decay=0.001\n",
            "Validation loss: 0.3958\n",
            "\n",
            "Training with epochs=40, lr=0.01, batch_size=32 weight_decay=0.0001\n",
            "Validation loss: 0.7772\n",
            "\n",
            "Training with epochs=40, lr=0.01, batch_size=32 weight_decay=1e-05\n",
            "Validation loss: 0.4945\n",
            "\n",
            "Training with epochs=40, lr=0.01, batch_size=64 weight_decay=0.001\n",
            "Validation loss: 0.1351\n",
            "\n",
            "Training with epochs=40, lr=0.01, batch_size=64 weight_decay=0.0001\n",
            "Validation loss: 0.5463\n",
            "\n",
            "Training with epochs=40, lr=0.01, batch_size=64 weight_decay=1e-05\n",
            "Validation loss: 0.7447\n",
            "\n",
            "Training with epochs=40, lr=0.01, batch_size=128 weight_decay=0.001\n",
            "Validation loss: 0.2094\n",
            "\n",
            "Training with epochs=40, lr=0.01, batch_size=128 weight_decay=0.0001\n",
            "Validation loss: 0.2877\n",
            "\n",
            "Training with epochs=40, lr=0.01, batch_size=128 weight_decay=1e-05\n",
            "Validation loss: 0.1442\n",
            "\n",
            "Training with epochs=40, lr=0.001, batch_size=32 weight_decay=0.001\n",
            "Validation loss: 0.1273\n",
            "\n",
            "Training with epochs=40, lr=0.001, batch_size=32 weight_decay=0.0001\n",
            "Validation loss: 0.1404\n",
            "\n",
            "Training with epochs=40, lr=0.001, batch_size=32 weight_decay=1e-05\n",
            "Validation loss: 0.1440\n",
            "\n",
            "Training with epochs=40, lr=0.001, batch_size=64 weight_decay=0.001\n",
            "Validation loss: 0.1186\n",
            "\n",
            "Training with epochs=40, lr=0.001, batch_size=64 weight_decay=0.0001\n",
            "Validation loss: 0.1376\n",
            "\n",
            "Training with epochs=40, lr=0.001, batch_size=64 weight_decay=1e-05\n",
            "Validation loss: 0.1285\n",
            "\n",
            "Training with epochs=40, lr=0.001, batch_size=128 weight_decay=0.001\n",
            "Validation loss: 0.1267\n",
            "\n",
            "Training with epochs=40, lr=0.001, batch_size=128 weight_decay=0.0001\n",
            "Validation loss: 0.1325\n",
            "\n",
            "Training with epochs=40, lr=0.001, batch_size=128 weight_decay=1e-05\n",
            "Validation loss: 0.1234\n",
            "\n",
            "Best config:\n",
            "{'epochs': 40, 'lr': 0.001, 'batch_size': 64, 'weight_decay': 0.001, 'val_loss': 0.1186374548363359}\n"
          ]
        }
      ]
    },
    {
      "cell_type": "code",
      "source": [
        "# Step 1: Re-train the best model on full training data (train + validation if you want)\n",
        "# Here we'll just retrain on training data for simplicity.\n",
        "\n",
        "train_loader = DataLoader(train_ds, batch_size=64, shuffle=True)\n",
        "\n",
        "model = DropoutMLP(input_dim=X_train.shape[1])\n",
        "optimizer = optim.Adam(model.parameters(), lr=0.001, weight_decay=0.001)\n",
        "\n",
        "num_epochs = 40\n",
        "for epoch in range(num_epochs):\n",
        "    train_epoch(model, train_loader, optimizer, loss_fn)\n",
        "\n",
        "# Load test data\n",
        "test_data = pd.read_csv('/data/kaggle_house_pred_test.csv')\n",
        "\n",
        "# Save the Ids exactly as they appear\n",
        "test_ids = test_data['Id']\n",
        "\n",
        "# Preprocess test_data features as before (excluding the Id column)\n",
        "test_features = test_data.drop(columns=['Id'])\n",
        "\n",
        "# Fill missing values & one-hot encode like before\n",
        "for col in test_features.columns:\n",
        "    if test_features[col].dtype == 'object':\n",
        "        test_features[col] = test_features[col].fillna(test_features[col].mode()[0])\n",
        "    else:\n",
        "        test_features[col] = test_features[col].fillna(test_features[col].median())\n",
        "\n",
        "test_features = pd.get_dummies(test_features, dummy_na=True)\n",
        "\n",
        "# Align columns with training data columns (fill missing with 0)\n",
        "test_features = test_features.reindex(columns=X.columns, fill_value=0)\n",
        "\n",
        "# Scale features\n",
        "test_scaled = scaler.transform(test_features)\n",
        "test_tensor = torch.tensor(test_scaled, dtype=torch.float32)\n",
        "\n",
        "# Predict\n",
        "model.eval()\n",
        "with torch.no_grad():\n",
        "    preds = model(test_tensor).reshape(-1)\n",
        "\n",
        "# Un-normalize predictions\n",
        "preds = preds * y_std + y_mean\n",
        "\n",
        "# Prepare submission dataframe with the original Ids\n",
        "submission = pd.DataFrame({\n",
        "    'Id': test_ids,\n",
        "    'SalePrice': preds.numpy()\n",
        "})\n",
        "\n",
        "submission.to_csv('submissions.csv', index=False)\n",
        "\n",
        "print(\"Submission saved with correct Ids.\")\n",
        "\n"
      ],
      "metadata": {
        "colab": {
          "base_uri": "https://localhost:8080/"
        },
        "id": "MfpwC6NtXSKw",
        "outputId": "7ba23063-3300-48f3-adf0-ce9ff808b385"
      },
      "id": "MfpwC6NtXSKw",
      "execution_count": null,
      "outputs": [
        {
          "output_type": "stream",
          "name": "stdout",
          "text": [
            "Submission saved with correct Ids.\n"
          ]
        }
      ]
    }
  ],
  "metadata": {
    "kernelspec": {
      "display_name": "Python 3",
      "name": "python3"
    },
    "language_info": {
      "name": "python"
    },
    "required_libs": [],
    "colab": {
      "provenance": [],
      "include_colab_link": true
    }
  },
  "nbformat": 4,
  "nbformat_minor": 5
}